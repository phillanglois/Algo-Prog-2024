{
 "cells": [
  {
   "cell_type": "markdown",
   "id": "0df78a52-ab98-4d7f-b3a7-040a0d74eeeb",
   "metadata": {},
   "source": [
    "# Leçon 10 : fichiers, affectation : révisions, aspects avancés et passage de paramètres \n",
    "\n",
    "**Dépôt attendu :**\n",
    "Aucun\n",
    "\n",
    "- Les ($\\star$) désignent des activités \"Objectif 20\".\n",
    "- Chaque question des QCM Real Python est accompagnées d'explications qu'il est conseillé de lire, qu'on ait correctement répondu ou non à la question."
   ]
  },
  {
   "cell_type": "markdown",
   "id": "9f0738da-2bd0-4be8-a109-ee777439ded8",
   "metadata": {},
   "source": [
    "## Fichiers\n",
    "\n",
    "QCM Real Python :\n",
    "\n",
    "- [qcm fichiers](https://realpython.com/quizzes/python-reading-and-writing-files/)"
   ]
  },
  {
   "cell_type": "markdown",
   "id": "7bdfc5d3-5e49-4a3f-b4af-e358ae5e0c88",
   "metadata": {},
   "source": [
    "## Affectation : révisions, ($\\star$) aspects avancés et passage de paramètres \n",
    "\n",
    "QCM Real Python \n",
    "\n",
    "- [qcm variables](https://realpython.com/quizzes/python-variables/)\n",
    "   - dans 1 ou 2 questions, comprendre _objet_ comme _espace de stockage_ en mémoire (voir cours)\n",
    "- ($\\star$) Variables, portée, visibilité : [qcm](https://realpython.com/quizzes/python-basics-scopes/) Real Python"
   ]
  },
  {
   "cell_type": "markdown",
   "id": "6a536398-37c6-4bc4-8dc5-186d72a8fc42",
   "metadata": {},
   "source": [
    "## Révisions objectif 10\n",
    "\n",
    "- **Rappel.** Les qcm du cours sont sur moodle\n",
    "- Vous pouvez cocher \"tous les thèmes\" des [qcm](http://fractale.gecif.net/python/qcm/) GECIF\n",
    "- QCP Real Python sur _fonctions et boucles_ : [qcm](https://realpython.com/quizzes/python-basics-functions-and-loops/) \n"
   ]
  }
 ],
 "metadata": {
  "kernelspec": {
   "display_name": "Python 3 (ipykernel)",
   "language": "python",
   "name": "python3"
  },
  "language_info": {
   "codemirror_mode": {
    "name": "ipython",
    "version": 3
   },
   "file_extension": ".py",
   "mimetype": "text/x-python",
   "name": "python",
   "nbconvert_exporter": "python",
   "pygments_lexer": "ipython3",
   "version": "3.11.7"
  }
 },
 "nbformat": 4,
 "nbformat_minor": 5
}
