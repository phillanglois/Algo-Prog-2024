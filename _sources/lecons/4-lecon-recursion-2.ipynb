{
 "cells": [
  {
   "cell_type": "markdown",
   "id": "4fdfa63f-23a0-4ad3-a44a-47890276ea29",
   "metadata": {},
   "source": [
    "# Leçon 4 : récursivité\n",
    "\n",
    "\n",
    "## Dépôt attendu\n",
    "\n",
    "En pdf ou jpeg :\n",
    "\n",
    "1. Objectif 10 : exercice 1 \n",
    "2. Objectif 20 : exercices 1 et 2 "
   ]
  },
  {
   "cell_type": "markdown",
   "id": "fd58b56b-7d57-4512-aef1-1c3b5e67367e",
   "metadata": {},
   "source": [
    "## Exercice 1. \n",
    "\n",
    "On définit les deux fonctions `f()` et `g()` suivantes.\n",
    "Expliciter l'évolution de la pile des appels pour l'exécution de :\n",
    "\n",
    "- code 1\n",
    "- code 2 "
   ]
  },
  {
   "cell_type": "code",
   "execution_count": 1,
   "id": "c5da29f5-12ab-44c3-979f-7992c889b1e0",
   "metadata": {},
   "outputs": [],
   "source": [
    "def f(p: int) -> int:\n",
    "    '''un calcul'''\n",
    "    assert p >= 0\n",
    "    if p == 0:\n",
    "        return 0\n",
    "    return p - 1"
   ]
  },
  {
   "cell_type": "code",
   "execution_count": 2,
   "id": "074f3731-7ea6-4ee8-8e00-5c35a81d6cfe",
   "metadata": {},
   "outputs": [],
   "source": [
    "def g(p: int) -> int:\n",
    "    '''un calcul'''\n",
    "    assert p >= 0\n",
    "    if p == 0:\n",
    "        return 0\n",
    "    return g(p - 1)"
   ]
  },
  {
   "cell_type": "code",
   "execution_count": 3,
   "id": "eed82e41-2024-48a3-99e3-339f4bcf4676",
   "metadata": {},
   "outputs": [],
   "source": [
    "# code 1\n",
    "for i in range(6):\n",
    "    res = f(i)"
   ]
  },
  {
   "cell_type": "code",
   "execution_count": 4,
   "id": "b101757c-14c3-4e3c-b4d2-da0c1ee4bfa7",
   "metadata": {},
   "outputs": [],
   "source": [
    "# code 2\n",
    "res = g(5) "
   ]
  },
  {
   "cell_type": "markdown",
   "id": "2cdb93d0-750d-462d-8f3c-52a068e5d22b",
   "metadata": {},
   "source": [
    "## ($\\star$) Exercice 2. \"Bien comprendre les appels récursifs !\" \n",
    "\n",
    "Pour la forme récursive de $n!$, l'exemple de la section \"Bien comprendre les appels récursifs !\" déroge à 2 obligations pédagogiques :\n",
    "\n",
    "- il mélange traitement et entrées-sorties (indiqué en cours)\n",
    "- il utilise l'instruction `global` pour définir une variable globale\n",
    "\n",
    "1. Ré-écrire cet exemple sans utiliser l'instruction `global`\n",
    "2. Ré-écrire cet exemple sans utiliser l'instruction `global` et en conservant la signature originale."
   ]
  },
  {
   "cell_type": "code",
   "execution_count": null,
   "id": "8710b25e-9d95-4de1-831a-c0cb7ac01dfc",
   "metadata": {},
   "outputs": [],
   "source": []
  }
 ],
 "metadata": {
  "kernelspec": {
   "display_name": "Python 3 (ipykernel)",
   "language": "python",
   "name": "python3"
  },
  "language_info": {
   "codemirror_mode": {
    "name": "ipython",
    "version": 3
   },
   "file_extension": ".py",
   "mimetype": "text/x-python",
   "name": "python",
   "nbconvert_exporter": "python",
   "pygments_lexer": "ipython3",
   "version": "3.11.7"
  }
 },
 "nbformat": 4,
 "nbformat_minor": 5
}
