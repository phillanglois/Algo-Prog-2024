{
 "cells": [
  {
   "cell_type": "markdown",
   "id": "2f67845c-39c8-468a-ba32-8b86991b6fa3",
   "metadata": {},
   "source": [
    "# Leçon 9 : entrées sorties simples  \n",
    "\n",
    "**Dépôt attendu :**\n",
    "Aucun\n",
    "\n",
    "Ces notions sont au programme de NSI, classe de première. \n",
    "Il existe ainsi de très nombreux QCM en ligne que vous pouvez utiliser pour accompagner votre acquisition du chapitre. \n",
    "\n",
    "En voici deux à effectuer.\n",
    "\n",
    "- le premier rédigé en français est un peu naïf (choisir 25 questions).\n",
    "- le second est extrait du _très bon_ site [Real Python](https://realpython.com) que vous savez apprécier maintenant."
   ]
  },
  {
   "cell_type": "markdown",
   "id": "762cccd8-8035-4cf8-af95-b8ba5f8de702",
   "metadata": {},
   "source": [
    "## QCM NSI\n",
    "\n",
    "Dans [gecif.net](http://fractale.gecif.net/python/qcm/), sélectionner le sujet  \"Accès aux fichiers en Python\".\n"
   ]
  },
  {
   "cell_type": "markdown",
   "id": "0ed52752-f88a-422e-bf50-a8a557f61014",
   "metadata": {},
   "source": [
    "## QCM Real Python\n",
    "\n",
    "2 QCM sur les `f-strings` :\n",
    "\n",
    "- [qcm1](https://realpython.com/quizzes/python-string-formatting/)\n",
    "- [qcm2](https://realpython.com/quizzes/f-strings/)"
   ]
  },
  {
   "cell_type": "code",
   "execution_count": null,
   "id": "c5e5b81b-81df-4390-8358-8824aa1b9f3e",
   "metadata": {},
   "outputs": [],
   "source": []
  }
 ],
 "metadata": {
  "kernelspec": {
   "display_name": "Python 3 (ipykernel)",
   "language": "python",
   "name": "python3"
  },
  "language_info": {
   "codemirror_mode": {
    "name": "ipython",
    "version": 3
   },
   "file_extension": ".py",
   "mimetype": "text/x-python",
   "name": "python",
   "nbconvert_exporter": "python",
   "pygments_lexer": "ipython3",
   "version": "3.11.7"
  }
 },
 "nbformat": 4,
 "nbformat_minor": 5
}
