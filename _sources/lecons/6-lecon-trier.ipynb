{
 "cells": [
  {
   "cell_type": "markdown",
   "id": "c3dc4b7a-0231-44d2-8b99-cf5a76b6c752",
   "metadata": {
    "editable": true,
    "slideshow": {
     "slide_type": ""
    },
    "tags": []
   },
   "source": [
    "# Leçon 6 : trier\n",
    "\n",
    "\n",
    "**Dépôt attendu**\n",
    "\n",
    "En pdf ou html et/ou jpeg mais **pas de .ipynb** : exercices 1, 2 et 3"
   ]
  },
  {
   "cell_type": "markdown",
   "id": "b142ff31-7ffc-490b-a048-ced55569518c",
   "metadata": {
    "editable": true,
    "slideshow": {
     "slide_type": ""
    },
    "tags": []
   },
   "source": [
    "**Remarque.** Il est **très fortement conseillé** d'effectuer ce travail  en déroulant les algorithmes \"à la main\" et non en les exécutant sur ordinateur. Ce genre d'exercice peut être demandé en CT écrit."
   ]
  },
  {
   "cell_type": "markdown",
   "id": "15456596-6074-4c06-9e74-7804f5e937fc",
   "metadata": {
    "editable": true,
    "slideshow": {
     "slide_type": ""
    },
    "tags": []
   },
   "source": [
    "## Exercice 1 : tri insertion\n",
    "\n",
    "1. Le tri insertion est un tri par comparaisons (oui/non)\n",
    "2. Le tri insertion est un tri en place (oui/non)\n",
    "3. Le tri insertion \"du\" cours s'écrit avec deux boucles imbriquées :\n",
    "- une boucle `for` extérieure indicée par `i`\n",
    "- une boucle `while` intérieure indicée par `j` \n",
    "  1. Expliquer le rôle de de la boucle intérieure. En particulier, que désigne `j` avant le passage à l'itération suivante de la boucle extérieure (c-a-d. à la fin de la boucle intérieure) ?\n",
    "  2. Expliquer le rôle de  la boucle extérieure\n",
    "2. En déroulant \"à la main\" le tri insertion du tableau `t = [38, 35, 42, 11, 37]`, expliciter l'état du tableau `t` après chaque itération de la boucle extérieure.\n",
    "3. Compter les comparaisons `val < t[j-1]` effectuées lors de ce traitement. Quel est ce nombre pour chaque itération ? Quel est le nombre total ?\n"
   ]
  },
  {
   "cell_type": "markdown",
   "id": "13532e02-4840-4a09-b891-cf1dbf344ddf",
   "metadata": {
    "editable": true,
    "slideshow": {
     "slide_type": ""
    },
    "tags": []
   },
   "source": [
    "## Exercice 2 : tri rapide \n",
    "\n",
    "1. Le tri rapide est un tri par comparaisons (oui/non)\n",
    "2. Le tri rapide est un tri en place (oui/non)\n",
    "3. Le tri rapide applique la stratégie diviser pour régner (oui/non)\n",
    "4. Avec les versions `partition()`, `trirapide0()` et `trirapide()` du cours, et le tableau suivant `t6 = [6, 5, 8, 9, 3, 4]` :\n",
    "    1. reprendre le déroulement du tri rapide de `t6` comme pour l'exemple du cours (sur `t= [4,3,5,8,2,6,7]`)\n",
    "    2. combien d'appels récursifs à `trirapide0()` sont effectués ?\n",
    "    3. expliciter les valeurs successives de `g` et `d` de chaque appel récursif.\n",
    "    4. tracer l'arbre des appels de ce traitement en notant plus simplement `tr0(g, d)` pour `trirapide0(t: list[int], g: int, d: int)`  \n",
    "    2. combien d'appels à `partition()` sont effectués ?\n"
   ]
  },
  {
   "cell_type": "markdown",
   "id": "c44bd61b-3ca8-4db8-a598-c8694302978c",
   "metadata": {
    "editable": true,
    "slideshow": {
     "slide_type": ""
    },
    "tags": []
   },
   "source": [
    "## Exercice 3 : tri fusion \n",
    "\n",
    "\n",
    "1. Le tri fusion est un tri par comparaisons (oui/non)\n",
    "2. Le tri fusion est un tri en place (oui/non)\n",
    "3. Le tri fusion applique la stratégie diviser pour régner (oui/non)\n",
    "4. On applique le tri fusion au tableau `t7 = [6, 5, 8, 9, 2, 6, 7]` avec les versions `fusion()`, `trifusion()` et sa fonction locale `trifusion_rec()` du cours. \n",
    "    1. Tracer l'arbre des appels de ce traitement en notant plus simplement :\n",
    "       - `tfr(g, d)` pour `trifusion_rec(g: int, d: int)`  et\n",
    "       - `f(g, m, d)`pour  `fusion(a: list[int], b: list[int], g: int, m: int, d: int)`\n",
    "    3. Combien d'appels à `tfr()` sont effectués ?\n",
    "    4. Combien d'appels à `f()` sont effectués ?\n",
    "    5. Expliciter l'effet de chaque appel de `f()` sur la partie de `t7` concernée.\n"
   ]
  },
  {
   "cell_type": "markdown",
   "id": "515731d3-075e-46ed-aeb2-2437a52ff0f9",
   "metadata": {
    "editable": true,
    "slideshow": {
     "slide_type": ""
    },
    "tags": []
   },
   "source": [
    "## ($\\star$) Bonus\n",
    "\n",
    "Objectif 20 : signaler toutes les fautes ou incorrections typographiques de ce chapitre (sections 4.1 à 4.3 inclus)."
   ]
  }
 ],
 "metadata": {
  "kernelspec": {
   "display_name": "Python 3 (ipykernel)",
   "language": "python",
   "name": "python3"
  },
  "language_info": {
   "codemirror_mode": {
    "name": "ipython",
    "version": 3
   },
   "file_extension": ".py",
   "mimetype": "text/x-python",
   "name": "python",
   "nbconvert_exporter": "python",
   "pygments_lexer": "ipython3",
   "version": "3.11.7"
  }
 },
 "nbformat": 4,
 "nbformat_minor": 5
}
