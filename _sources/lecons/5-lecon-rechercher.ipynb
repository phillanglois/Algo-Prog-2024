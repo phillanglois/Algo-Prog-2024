{
 "cells": [
  {
   "cell_type": "markdown",
   "id": "c3dc4b7a-0231-44d2-8b99-cf5a76b6c752",
   "metadata": {
    "editable": true,
    "slideshow": {
     "slide_type": ""
    },
    "tags": []
   },
   "source": [
    "# Leçon 5 : rechercher\n",
    "\n",
    "\n",
    "**Dépôt attendu**\n",
    "\n",
    "En pdf ou html et/ou jpeg mais **pas de .ipynb** : exercices 1 et 2"
   ]
  },
  {
   "cell_type": "markdown",
   "id": "15456596-6074-4c06-9e74-7804f5e937fc",
   "metadata": {},
   "source": [
    "## Exercice 1 : recherche séquentielle\n",
    "\n",
    "1. Quelle version de recherche séquentielle (parcours complet vs. minimal) correspond à l’écriture récursive proposée pour `rech_seq_rec_g` ?\n",
    "2. Ecrire l’autre version récursive. Expliquer le principe de cette nouvelle version et l'initialisation correspondante dans `rech_seq_rec`.\n",
    "3. Vérifier que les 4 tests unitaires sont bien conservés par cette nouvelle version de `rech_seq_rec`. \n"
   ]
  },
  {
   "cell_type": "markdown",
   "id": "13532e02-4840-4a09-b891-cf1dbf344ddf",
   "metadata": {},
   "source": [
    "## Exercice 2 : recherche dichotomique \n",
    "\n",
    "**Remarque.** Il est **très fortement conseillé** d'effectuer ce travail  en déroulant les algorithmes \"à la main\" et non en les exécutant sur ordinateur. Ce genre d'exercice peut être demandé en CT écrit.\n",
    "\n",
    "Vous présenterez vos résultats successifs sous la forme d'un tableau adapté.\n",
    "\n",
    "1. L'algorithme `dichotomie_iterative()` utilise les variables d'indices `g`, `d` et `m`. Expliciter les valeurs successives prises par ces variables pour les 3 tests unitaires sur `t` et celui du tableau vide.\n",
    "\n",
    "2. a. Modifier la version du cours de la fonction `dichotomie()` en complétant les `...` de la version suivante qui permet d'écrire un (seul) appel récursif sous la forme  `return dichotomie(val, t, dim_t, g, d)`.\n",
    "\n",
    "```python\n",
    "def dichotomie(val: int, t: list[int], dim_t: int, g: int, d: int) -> bool:\n",
    "    '''recherche dichotomique : version récursive\n",
    "    recherche val dans t[g, d] et retourne True ou False\n",
    "    entrées. val : int, t: tableau d'int de taille n,\n",
    "    g, d : int indices gauche et droite\n",
    "    '''\n",
    "    if g > d:\n",
    "        return False # t est vide\n",
    "    m = (g + d) // 2 \n",
    "    if t[m] == val:\n",
    "        return True\n",
    "    elif val < t[m]:\n",
    "        ...\n",
    "    else:            \n",
    "        ...\n",
    "    return dichotomie(val, t, dim_t, g, d)\n",
    "  \n",
    "```\n",
    "\n",
    "3. Reprendre la question 1 (valeurs de `g, m, d`) pour `dichotomie_recursive()` qui utilise la \"nouvelle\" version de `dichotomie()` --- celle avec `return dichotomie(val, t, dim_t, g, d)`).\n",
    "Indiquer aussi la valeur de `dim_t` à chaque appel.\n",
    "\n",
    "5. Et pour chacun des traitements précédents, expliciter :\n",
    "\n",
    "    a. l'arbre des appels associé,  \n",
    "    b. l'évolution de la pile des appels associée\n",
    "   \n",
    "    **Notations.** Pour alléger les notations de ces deux questions, on notera plus simplement   `dichotomie(val: int, t: list[int], dim_t: int, g: int, d: int)` par `f(g, d)` ; il faut quand même expliciter les valeurs de `g`et `d` des appels concernés."
   ]
  },
  {
   "cell_type": "markdown",
   "id": "515731d3-075e-46ed-aeb2-2437a52ff0f9",
   "metadata": {},
   "source": [
    "## ($\\star$) Bonus\n",
    "\n",
    "Objectif 20 : signaler toutes les fautes ou incorrections typographiques de ce chapitre (sections 4.1 à 4.3 inclus)."
   ]
  }
 ],
 "metadata": {
  "kernelspec": {
   "display_name": "Python 3 (ipykernel)",
   "language": "python",
   "name": "python3"
  },
  "language_info": {
   "codemirror_mode": {
    "name": "ipython",
    "version": 3
   },
   "file_extension": ".py",
   "mimetype": "text/x-python",
   "name": "python",
   "nbconvert_exporter": "python",
   "pygments_lexer": "ipython3",
   "version": "3.11.7"
  }
 },
 "nbformat": 4,
 "nbformat_minor": 5
}
