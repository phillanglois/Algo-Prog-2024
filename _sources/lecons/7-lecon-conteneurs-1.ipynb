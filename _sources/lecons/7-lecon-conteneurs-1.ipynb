{
 "cells": [
  {
   "cell_type": "markdown",
   "id": "f7a8b42b-84b0-4583-9f3d-d17d0dc48a8f",
   "metadata": {},
   "source": [
    "# Leçon 7 : types composés (début) \n",
    "\n",
    "**Dépôt attendu :**\n",
    "Aucun\n",
    "\n",
    "Ces notions sont au programme de NSI, classe de première. \n",
    "Il existe ainsi de très nombreux QCM en ligne que vous pouvez utiliser pour accompagner votre acquisition du chapitre. \n",
    "\n",
    "En voici deux à effectuer.\n",
    "\n",
    "1. [QCM niveau première](http://lycee.stanislas.info.free.fr/Python/QCMconteneur/QCMbilan.html)\n",
    "\n",
    "2. [QCM Real Python](https://realpython.com/quizzes/python-lists-tuples/)\n",
    "\n",
    "- le premier rédigé en français est objectif 10 (dans l'ensemble).\n",
    "- le second est extrait du _très bon_ site [Real Python](https://realpython.com).\n",
    "Il est rédigé en anglais et son format ne permet pas toujours une traduction complète par votre browser.\n",
    "Les questions et les réponses à choisir se comprennent aisément.\n",
    "Il est important d'apprendre à comprendre l'anglais utile en informatique.\n",
    "Son intérêt est de vous renvoyer vers des parties ciblées du cours (Real Python, aussi en anglais) et de fournir des explications détaillées pour les bonnes et mauvaises réponses.\n",
    "Vous apprécierez vite son utilité en comparaison des QCM passifs comme le premier. \n"
   ]
  },
  {
   "cell_type": "code",
   "execution_count": null,
   "id": "c5e5b81b-81df-4390-8358-8824aa1b9f3e",
   "metadata": {},
   "outputs": [],
   "source": []
  }
 ],
 "metadata": {
  "kernelspec": {
   "display_name": "Python 3 (ipykernel)",
   "language": "python",
   "name": "python3"
  },
  "language_info": {
   "codemirror_mode": {
    "name": "ipython",
    "version": 3
   },
   "file_extension": ".py",
   "mimetype": "text/x-python",
   "name": "python",
   "nbconvert_exporter": "python",
   "pygments_lexer": "ipython3",
   "version": "3.11.7"
  }
 },
 "nbformat": 4,
 "nbformat_minor": 5
}
