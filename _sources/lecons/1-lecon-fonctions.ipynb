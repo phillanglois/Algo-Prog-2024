{
 "cells": [
  {
   "cell_type": "markdown",
   "id": "5eaed57d-811c-4c65-8ca2-569c7552504d",
   "metadata": {},
   "source": [
    "# Leçon 1 : fonctions\n",
    " "
   ]
  },
  {
   "cell_type": "markdown",
   "id": "359ffbd1-100c-496d-abc2-5d33f227f97c",
   "metadata": {},
   "source": [
    "## Conseils\n",
    "\n",
    "1. Lire tout le sujet avant de commencer\n",
    "2. Un aspect difficile de ce chapitre est l'introduction de \"beaucoup de vocabulaire\" -- pour un seul chapitre. Ces notions sont importantes et sont à connaître : les fonctions occupent une place centrale en algorithmique et en programmation. En plus d'être nombreuses, ces notions font l'objet de pas mal de synonymes. Et il faut aussi les connaitre car ils sont communément employées.\n",
    "\n",
    "## Travail demandé \n",
    "\n",
    "Deux objectifs donc pour chapitre.\n",
    "\n",
    "- Objectif 1. Obtenir un \"lexique enrichi\", cad. un synthèse de ces notions avec leurs sens, le vocabulaire associé (appellation et synonymes) et avec des exemples associés \"en face\" de chaque notion.\n",
    "- Objectif 2. Faire le contraire ! Ecrire un exemple qui illustre le maximum de notions. Compléter avec un autre exemple et ce tant que toutes les notions ne sont pas illustrées.\n",
    "\n",
    "Remarques : \n",
    "\n",
    "- Comme mentionné dans les MTU, plusieurs formes sont possibles pour ce \"lexique enrichi\" : glossaire, _mind map_, ...\n",
    "- Le \"lexique enrichi\" et les exemples représentent 2 feuilles A4 \"côte à côte\" : le lexique sur une feuille et, en face sur l'autre feuille les exemples qui correspondent.\n",
    "- **Il vous sera demandé de déposer ces 2 feuilles**"
   ]
  },
  {
   "cell_type": "markdown",
   "id": "6aefc207-2d31-4fd6-aad7-ef926d96c439",
   "metadata": {},
   "source": [
    "## Réactiver l'écoute du cours \n",
    "\n",
    "Ce chapitre a été relu jeudi soir dernier après le cours.\n",
    "\n",
    "1. Commencer par une lecture de type survol pour bien se remettre dans le contexte.\n",
    "2. Noter les passages qui n'ont pas été bien compris et qui méritent une attention supplémentaire\n",
    "3. Relire les compétences (avoir les idées claires, ce qu'il faut savoir faire) de ce chapitre  \n"
   ]
  },
  {
   "cell_type": "markdown",
   "id": "903c8573-3c64-47da-b29b-e545b7bc26cb",
   "metadata": {},
   "source": [
    "## Lecture active\n",
    "\n",
    "4. Ecrire le plan du chapitre. Il y a 5 sections. Pour chaque section, noter _avec un ou deux mots clés_ les notions importantes qui apparaissent dans les titres des sections, sous-sections, ... Lors du cours, le prof a insisté sur l'importance de ces notions. C'est le moment de faire le lien :\n",
    "5. Etiqueter (taguer) les sections/sous-sections en 4 catégories :\n",
    "    1. important et à **bien** comprendre en y passant le temps nécessaire **et** avant d'aller plus loin\n",
    "    2. utile mais pas difficile : à étudier dans un deuxième temps\n",
    "    3. secondaire ou très facile : s'en occuper à la fin pour savoir où le trouver quand on en aura besoin\n",
    "    4. les exemples spécifiques -- si il y en a\n",
    "4. Relire la **section 1**. Reprendre la liste des notions importantes (catégorie A) identifiées à l'étape 1. Compléter la liste ou supprimer certains choix. Noter toutes ces notions _en gardant de la place_ autour de chaque écriture, de chaque ligne. Commencer à identifier (au moins \"dans votre tête\") un exemple de chaque notion. Il peut-être utile de diviser la page en 2 pour les noter (même partiellement dans un premier temps) dans une colonne à côté de la notion.\n",
    "5. Relire la **section 2**. Cette section reprend avec plus de détails la présentation de la section 1.  C'est le moment de compléter, préciser, mettre en relation, ré-ordonner ce qu'on a déjà écrit. On est content d'avoir laissé de la place plutôt que devoir tout ré-écrire.\n",
    "7. Reprendre ces 2 sections en mode lecture sélective pour lister les conseils, les consignes ou \"interdits\". 2 choix :  i) les replacer de façon surlignée dans la synthèse effectuée ; ii) faire une liste séparée avec des \"surlignages colorés\" pour la mise en relation avec les notions de la synthèse. \n",
    "6. Ca y est : les sections 1 et 2 sont synthétisées en un \"lexique enrichi\" -- au moins partiellement à cet instant. Bien le relire, le nettoyer voire le ré-écrire.\n",
    "8. Il est temps maintenant d'attaquer l'objectif 2. Donner un, deux ou trois exemples pour illustrer _tous_ les points du \"lexique enrichi\". Préférer des _exemples personnels_ et non la simple recopie de ceux du cours.\n",
    "10. Appliquer la méthodologie précédente pour la **section 3**. Obtenir le \"lexique enrichi\" de cette section est rapide (peu de nouvelles notions enfin !). En revanche, l'enjeu est de résumer cette section avec quelques schémas ou en surlignant/coloriant les exemples choisis précédemment.\n",
    "11. Sauter la **section 4** qui porte sur des aspects plus techniques, plus spécifiques à python : des savoirs-faire et non des connaissances à proprement parler. Cependant les exemples écrits jusque-là _appliquent effectivement_ cette section. Le vérifier quand-même.\n",
    "13. La **section 5** présente quelques nouvelles notions (en particulier pour les objectifs 20) mais surtout une dernière couche de compléments sur les aspects vus jusque-là. \"Ré-injecter\" ces compléments dans le lexique enrichi des sections 1, 2 et 3. Si besoin ajouter de nouveaux exemples.\n",
    "14. Retour à la **section 4**. Compléter le \"lexique enrichi\" avec ce qu'il faut avoir retenu de cette section. Des petits exemples suffisent.\n",
    "15. La **section 6** rassemble des exemples. Les lire en détail. S'en inspirer pour compléter vos exemples si besoin."
   ]
  },
  {
   "cell_type": "markdown",
   "id": "43b19af9-08f2-4fdf-a595-f1558270ef6a",
   "metadata": {},
   "source": [
    "Voilà. Le chapitre 1 est synthétisé avec ce \"lexique enrichi\" et des exemples personnels. \n",
    "Ces supports seront utiles pour \"retenir\" le cours, travailler en TD, réviser avant les CC et CT. \n",
    "Mais d'ores et déjà, les compétences visées avec ce chapitre sont identifiées, décrites et illustrées. C'est la première étape vers une  maitrise approfondie et définitive. D'autres étapes suivront : exercices, qcm, tp ..."
   ]
  },
  {
   "cell_type": "markdown",
   "id": "11735954-f406-4925-819a-15b92716c8fb",
   "metadata": {},
   "source": [
    "## Dépôt\n",
    "\n",
    "Déposer le lexique enrichi et vos exemples.\n",
    "\n",
    "Rappel : Ce qui correspond à 2 feuilles A4 que vous pouvez photographier (jpeg) ou numériser (pdf). "
   ]
  }
 ],
 "metadata": {
  "kernelspec": {
   "display_name": "Python 3 (ipykernel)",
   "language": "python",
   "name": "python3"
  },
  "language_info": {
   "codemirror_mode": {
    "name": "ipython",
    "version": 3
   },
   "file_extension": ".py",
   "mimetype": "text/x-python",
   "name": "python",
   "nbconvert_exporter": "python",
   "pygments_lexer": "ipython3",
   "version": "3.11.7"
  }
 },
 "nbformat": 4,
 "nbformat_minor": 5
}
