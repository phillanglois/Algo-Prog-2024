{
 "cells": [
  {
   "cell_type": "markdown",
   "id": "2f67845c-39c8-468a-ba32-8b86991b6fa3",
   "metadata": {},
   "source": [
    "# Leçon 8 : types composés (fin)  \n",
    "\n",
    "**Dépôt attendu :**\n",
    "Aucun\n",
    "\n",
    "Ces notions sont au programme de NSI, classe de première. \n",
    "Il existe ainsi de très nombreux QCM en ligne que vous pouvez utiliser pour accompagner votre acquisition du chapitre. \n",
    "\n",
    "En voici deux à effectuer.\n",
    "\n",
    "- le premier rédigé en français est complet (choisir au moins 25 questions).\n",
    "- le second est extrait du _très bon_ site [Real Python](https://realpython.com) que vous savez apprécier maintenant."
   ]
  },
  {
   "cell_type": "markdown",
   "id": "762cccd8-8035-4cf8-af95-b8ba5f8de702",
   "metadata": {},
   "source": [
    "## QCM NSI\n",
    "\n",
    "Dans [gecif.net](http://fractale.gecif.net/python/qcm/), sélectionner les 4 sujets \n",
    "\n",
    "    - Les chaînes de caractères\n",
    "    - Les listes\n",
    "    - Les dictionnaires\n",
    "    - Les ensembles"
   ]
  },
  {
   "cell_type": "markdown",
   "id": "0ed52752-f88a-422e-bf50-a8a557f61014",
   "metadata": {},
   "source": [
    "## QCM Real Python\n",
    "\n",
    "2 QCM sur les `dict`, 1 sur les `str` (parmi d'autres sur ce site), 1 sur les `set`.\n",
    "\n",
    "1. [Les bases](https://realpython.com/quizzes/python-basics-dictionaries/) des dictionnaires\n",
    "    - Au moins une question comporte des chaines formatées (`f-string()`) qui seront vues en CM jeudi (chapitre [ES : formats](ch:ES-formats))\n",
    "\n",
    "2. [Itérer sur des dictionnaires](https://realpython.com/quizzes/python-dictionary-iteration/)\n",
    "    - La dernière question est hors programme\n",
    "  \n",
    "3. [Les bases ](https://realpython.com/quizzes/python-basics-strings-and-string-methods/) des chaines de caractères\n",
    "    - Au moins une question comporte des chaines formatées (`f-string()`) qui seront vues en CM jeudi (chapitre [ES : formats](ch:ES-formats))\n",
    "  \n",
    "4. [Les bases](https://realpython.com/quizzes/python-sets/viewer/) des ensembles\n"
   ]
  },
  {
   "cell_type": "code",
   "execution_count": null,
   "id": "c5e5b81b-81df-4390-8358-8824aa1b9f3e",
   "metadata": {},
   "outputs": [],
   "source": []
  }
 ],
 "metadata": {
  "kernelspec": {
   "display_name": "Python 3 (ipykernel)",
   "language": "python",
   "name": "python3"
  },
  "language_info": {
   "codemirror_mode": {
    "name": "ipython",
    "version": 3
   },
   "file_extension": ".py",
   "mimetype": "text/x-python",
   "name": "python",
   "nbconvert_exporter": "python",
   "pygments_lexer": "ipython3",
   "version": "3.11.7"
  }
 },
 "nbformat": 4,
 "nbformat_minor": 5
}
