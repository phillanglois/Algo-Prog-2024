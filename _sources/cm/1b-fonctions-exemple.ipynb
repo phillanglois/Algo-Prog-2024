{
 "cells": [
  {
   "cell_type": "markdown",
   "id": "54e38149-ce00-4a25-bed4-bb8ab2ce2867",
   "metadata": {
    "slideshow": {
     "slide_type": "slide"
    },
    "tags": []
   },
   "source": [
    "# Un exemple, plein de fonctions"
   ]
  },
  {
   "cell_type": "markdown",
   "id": "d988dfc6-3073-473c-be91-220a52d21c68",
   "metadata": {
    "slideshow": {
     "slide_type": "slide"
    }
   },
   "source": [
    "**Objectif.**\n",
    "\n",
    "Pourquoi des fonctions ?\n",
    "\n",
    "* Evite de ré-écrire, de dupliquer, du code\n",
    "* Simplifie la lecture donc la compréhension\n",
    "* Ré-utilise des fonctions existantes\n",
    "* Une nouvelle _structure_ pour écrire les algorithmes/codes de façon plus _modulaire_\n",
    "    * découper un traitement compliqué en une suite d'étapes plus simples\n",
    "    * une étape = un appel de fonction\n",
    "    * s'applique récursivement\n",
    "* Facilite la validation du traitement : _test unitaire_"
   ]
  },
  {
   "cell_type": "markdown",
   "id": "db86bd17-f3d6-4740-94af-c7035d6ab3f1",
   "metadata": {
    "slideshow": {
     "slide_type": "slide"
    },
    "tags": []
   },
   "source": [
    "**Notre exemple.**\n",
    "\n",
    "Code qui calcule le nombre de combinaisons de $p$ éléments choisis dans $n$ éléments :\n",
    "\n",
    "$$\\cal{C}_n^p = \\frac{n!}{p! (n-p)!}.$$\n",
    "\n",
    "Rappel : $n! = n \\times (n-1) \\times \\dots \\times 2 \\times 1$ et $0! = 1$."
   ]
  },
  {
   "cell_type": "markdown",
   "id": "7055cc53",
   "metadata": {
    "slideshow": {
     "slide_type": "slide"
    }
   },
   "source": [
    ":::{note}\n",
    "La version en ligne de ce notebook ne permet pas une prise ne compte correcte des entrées (`input()`). Ces entrées sont donc ponctuellement modifiées : mise en commentaires et initialisation en ligne. \n",
    "```python\n",
    "n = int(input(\"n:\"))\n",
    "p = int(input(\"p:\"))\n",
    "```\n",
    "est remplacé par :\n",
    "```python\n",
    "#n = int(input(\"n:\"))\n",
    "#p = int(input(\"p:\"))\n",
    "n = 3\n",
    "p = 2\n",
    "```\n",
    ":::"
   ]
  },
  {
   "cell_type": "markdown",
   "id": "07bc9ffb",
   "metadata": {
    "slideshow": {
     "slide_type": "slide"
    },
    "tags": []
   },
   "source": [
    "## Comme au premier semestre : sans fonction"
   ]
  },
  {
   "cell_type": "code",
   "execution_count": 1,
   "id": "1f76b509",
   "metadata": {
    "slideshow": {
     "slide_type": "fragment"
    }
   },
   "outputs": [
    {
     "name": "stdout",
     "output_type": "stream",
     "text": [
      "3\n"
     ]
    }
   ],
   "source": [
    "# Role : calcule C_n^p\n",
    "#entrées\n",
    "#n = int(input(\"n:\"))\n",
    "#p = int(input(\"p:\"))\n",
    "n = 3\n",
    "p = 2\n",
    "\n",
    "#traitement : on calcule chaque terme de l'expression visée\n",
    "f_n = 1\n",
    "for i in range(1, n+1):\n",
    "    f_n = f_n  * i\n",
    "    \n",
    "f_p = 1\n",
    "for i in range(1, p+1):\n",
    "    f_p = f_p  * i\n",
    "\n",
    "f_nmp = 1\n",
    "for i in range(1, n-p+1):\n",
    "    f_nmp = f_nmp  * i\n",
    "\n",
    "# le calcul de l'expression\n",
    "num = f_n\n",
    "den = f_p * f_nmp\n",
    "res = num // den\n",
    "\n",
    "# sortie\n",
    "print(res) "
   ]
  },
  {
   "cell_type": "markdown",
   "id": "e647f258",
   "metadata": {
    "slideshow": {
     "slide_type": "slide"
    },
    "tags": []
   },
   "source": [
    "## Avec une fonction prédéfinie : exemple d'appel de fonction \n",
    "\n",
    "**Indicateur** : `import`, `(paramètre effectif)`"
   ]
  },
  {
   "cell_type": "code",
   "execution_count": 2,
   "id": "c526e49e",
   "metadata": {
    "slideshow": {
     "slide_type": "fragment"
    }
   },
   "outputs": [],
   "source": [
    "from math import factorial"
   ]
  },
  {
   "cell_type": "code",
   "execution_count": 3,
   "id": "9bed5e26",
   "metadata": {},
   "outputs": [
    {
     "name": "stdout",
     "output_type": "stream",
     "text": [
      "Help on built-in function factorial in module math:\n",
      "\n",
      "factorial(n, /)\n",
      "    Find n!.\n",
      "    \n",
      "    Raise a ValueError if x is negative or non-integral.\n",
      "\n"
     ]
    }
   ],
   "source": [
    "help(factorial)"
   ]
  },
  {
   "cell_type": "code",
   "execution_count": 4,
   "id": "53f2efbc",
   "metadata": {
    "slideshow": {
     "slide_type": "fragment"
    }
   },
   "outputs": [
    {
     "name": "stdout",
     "output_type": "stream",
     "text": [
      "3\n"
     ]
    }
   ],
   "source": [
    "#entrées\n",
    "#n = int(input(\"n:\"))\n",
    "#p = int(input(\"p:\"))\n",
    "n = 3\n",
    "p = 2\n",
    "\n",
    "#traitement avec appels de la fonction prédéfinie factorial\n",
    "num = factorial(n)\n",
    "d1 = factorial(p)\n",
    "d2 = factorial(n-p)\n",
    "res = num // (d1 * d2)\n",
    "\n",
    "# sortie\n",
    "print(res) "
   ]
  },
  {
   "cell_type": "markdown",
   "id": "6c0cd508",
   "metadata": {
    "slideshow": {
     "slide_type": "slide"
    },
    "tags": []
   },
   "source": [
    "## Avec notre propre fonction : d'abord la signature (l'en-tête)\n",
    "\n",
    "**Indicateur** : `def( les paramètres formels et leurs types )` et `pass`"
   ]
  },
  {
   "cell_type": "code",
   "execution_count": 5,
   "id": "5834baae",
   "metadata": {
    "slideshow": {
     "slide_type": "fragment"
    }
   },
   "outputs": [],
   "source": [
    "# notre fonction\n",
    "def fact(n : int) -> int:\n",
    "    pass"
   ]
  },
  {
   "cell_type": "markdown",
   "id": "eb0e2760",
   "metadata": {
    "slideshow": {
     "slide_type": "slide"
    }
   },
   "source": [
    "## Avec notre propre fonction : ensuite au moins un appel\n",
    "\n",
    "**Indicateur** : `( paramètre effectif )`\n",
    "\n",
    "**Interdiction pédagogique** Ne pas utiliser le paramètre formel comme paramètre effectif"
   ]
  },
  {
   "cell_type": "markdown",
   "id": "c534b1c9",
   "metadata": {
    "slideshow": {
     "slide_type": "subslide"
    }
   },
   "source": [
    "Dans ce qui précède :\n",
    "- la ligne avec `def` est la signature (presque complète) de notre fonction _factorielle_\n",
    "- ajouter l'intruction `pass` de façon indentée permet d'exécuter la cellule **de définition**\n",
    "- **mais pas** d'exécuter un **appel** de cette fonction.\n",
    "\n",
    "En effet, notre fonction `fact()` n'effectue encore aucun traitement.\n",
    "Les appels effectués pour calculer `num`, `d1` et `d2` retournent des valeurs `None`.\n",
    "Ce qui ne permet pas de continuer les calculs (de `res`)  et déclenche une erreur lors de l'exécution de la cvellule suivante.\n"
   ]
  },
  {
   "cell_type": "code",
   "execution_count": 6,
   "id": "8c320f3c",
   "metadata": {
    "slideshow": {
     "slide_type": "fragment"
    }
   },
   "outputs": [
    {
     "name": "stdout",
     "output_type": "stream",
     "text": [
      "3\n"
     ]
    }
   ],
   "source": [
    "# Motto : entrées/traitement/sorties !!\n",
    "#\n",
    "#entrées\n",
    "#mon_n = int(input(\"n:\"))\n",
    "#mon_p = int(input(\"p:\"))\n",
    "mon_n = 3\n",
    "mon_p = 2\n",
    "\n",
    "#traitement avec appels de notre fonction fact\n",
    "num = fact(mon_n)\n",
    "d1 = fact(mon_p)\n",
    "d2 = fact(mon_n - mon_p)\n",
    "\n",
    "# on commente le calcul suivant qui va déclencher une erreur\n",
    "#res = num // (d1 * d2)\n",
    "\n",
    "# sortie\n",
    "print(res) "
   ]
  },
  {
   "cell_type": "markdown",
   "id": "b3e2ede8",
   "metadata": {
    "slideshow": {
     "slide_type": "slide"
    }
   },
   "source": [
    "## Validons notre fonction avec des test unitaires \n",
    "\n",
    "**Indicateur** : `assert`\n",
    "\n",
    "Comme avec l'appel, l'exécution de ces tests unitaires déclenche une erreur tant que le corps de la fonction n'est pas écrit (mais simplement remplacé par `pass`).\n",
    "\n",
    "Ces tests, qui peuvent être écrits _avant_ le corps, sont donc mis en commentaires (entre `'''`) en attendant."
   ]
  },
  {
   "cell_type": "code",
   "execution_count": 7,
   "id": "55ec39a3",
   "metadata": {
    "slideshow": {
     "slide_type": "fragment"
    }
   },
   "outputs": [
    {
     "data": {
      "text/plain": [
       "\"\\nassert fact(0) == 1\\nassert fact(1) == 1\\n# utilisation d'une propriété générale pour un choix arbitraire de valeurs (ici 55..75)\\nfor i in range(55,75):\\n    assert fact(i) == i * fact(i-1)\\n\""
      ]
     },
     "execution_count": 7,
     "metadata": {},
     "output_type": "execute_result"
    }
   ],
   "source": [
    "'''\n",
    "assert fact(0) == 1\n",
    "assert fact(1) == 1\n",
    "# utilisation d'une propriété générale pour un choix arbitraire de valeurs (ici 55..75)\n",
    "for i in range(55,75):\n",
    "    assert fact(i) == i * fact(i-1)\n",
    "'''"
   ]
  },
  {
   "cell_type": "markdown",
   "id": "204bf336",
   "metadata": {
    "slideshow": {
     "slide_type": "slide"
    },
    "tags": []
   },
   "source": [
    "## Avec notre propre fonction :  puis son corps\n",
    "\n",
    "**Indicateur** : la zone indentée sous le `def( les paramètres formels et leurs types )`, `return`"
   ]
  },
  {
   "cell_type": "code",
   "execution_count": 8,
   "id": "b80bc8b3-58bf-446a-922b-1fea6dc3243b",
   "metadata": {
    "slideshow": {
     "slide_type": "fragment"
    }
   },
   "outputs": [],
   "source": [
    "# notre fonction enfin complète\n",
    "def fact(n : int) -> int:\n",
    "    res = 1\n",
    "    for i in range(1,n+1):\n",
    "        res = res * i\n",
    "    return res"
   ]
  },
  {
   "cell_type": "code",
   "execution_count": 9,
   "id": "3f1211a4-9461-402b-aa35-5bd7eee0111b",
   "metadata": {
    "slideshow": {
     "slide_type": "fragment"
    }
   },
   "outputs": [],
   "source": [
    "#premiers tests unitaires de notre fonction fact()\n",
    "assert fact(0) == 1\n",
    "assert fact(1) == 1\n",
    "# utilisation d'une propriété générale pour un choix arbitraire de valeurs (ici 55..75)\n",
    "for i in range(55,75):\n",
    "    assert fact(i) == i * fact(i-1)"
   ]
  },
  {
   "cell_type": "code",
   "execution_count": 10,
   "id": "b681c3a6-926a-47d1-a59f-f8d964aad546",
   "metadata": {
    "slideshow": {
     "slide_type": "fragment"
    }
   },
   "outputs": [
    {
     "name": "stdout",
     "output_type": "stream",
     "text": [
      "3\n"
     ]
    }
   ],
   "source": [
    "#entrées\n",
    "#mon_n = int(input(\"n:\"))\n",
    "#mon_p = int(input(\"p:\"))\n",
    "mon_n = 3\n",
    "mon_p = 2\n",
    "\n",
    "#traitement avec appels de notre fonction fact()\n",
    "num = fact(mon_n)\n",
    "d1 = fact(mon_p)\n",
    "d2 = fact(mon_n - mon_p)\n",
    "\n",
    "res = num // (d1 * d2)\n",
    "\n",
    "# sortie\n",
    "print(res) "
   ]
  },
  {
   "cell_type": "markdown",
   "id": "c7afc902",
   "metadata": {
    "slideshow": {
     "slide_type": "slide"
    },
    "tags": []
   },
   "source": [
    "## Avec notre propre fonction : on l'utilise à souhait \n",
    "\n",
    "**Indicateur** : `( paramètre effectif )`"
   ]
  },
  {
   "cell_type": "markdown",
   "id": "7a1aabe9",
   "metadata": {
    "slideshow": {
     "slide_type": "slide"
    }
   },
   "source": [
    "### Rmq. Où placer la définition d'une fonction ?"
   ]
  },
  {
   "cell_type": "code",
   "execution_count": 11,
   "id": "e60d5626",
   "metadata": {
    "slideshow": {
     "slide_type": "fragment"
    }
   },
   "outputs": [
    {
     "name": "stdout",
     "output_type": "stream",
     "text": [
      "3\n"
     ]
    }
   ],
   "source": [
    "#entrées\n",
    "#mon_n = int(input(\"n:\"))\n",
    "#mon_p = int(input(\"p:\"))\n",
    "mon_n = 3\n",
    "mon_p = 2\n",
    "\n",
    "#les fonctions locales (ici une seule) \n",
    "def fact(n : int) -> int:\n",
    "    res = 1\n",
    "    for i in range(1,n+1):\n",
    "        res = res * i\n",
    "    return res\n",
    "\n",
    "#le traitement principal \"main\"\n",
    "num = fact(mon_n)\n",
    "d1 = fact(mon_p)\n",
    "d2 = fact(mon_n - mon_p)\n",
    "res = num // (d1 * d2)\n",
    "\n",
    "# sortie\n",
    "print(res) "
   ]
  },
  {
   "cell_type": "markdown",
   "id": "d6f95a7a",
   "metadata": {
    "slideshow": {
     "slide_type": "fragment"
    }
   },
   "source": [
    "On vient d'appeler 3 fois la fonction `fact()`."
   ]
  },
  {
   "cell_type": "markdown",
   "id": "67d6cb2d",
   "metadata": {
    "slideshow": {
     "slide_type": "slide"
    }
   },
   "source": [
    "## On termine notre fonction avec sa description \n",
    "\n",
    "**Indicateur** : `docstring`"
   ]
  },
  {
   "cell_type": "code",
   "execution_count": 12,
   "id": "62845de2",
   "metadata": {
    "slideshow": {
     "slide_type": "fragment"
    }
   },
   "outputs": [],
   "source": [
    "def fact(n : int) -> int:\n",
    "    '''\n",
    "    Calcule n! de façon itérative\n",
    "    '''\n",
    "    # ceci est un commentaire\n",
    "    \n",
    "    res = 1\n",
    "    for i in range(1,n+1):\n",
    "        res = res * i\n",
    "    return res"
   ]
  },
  {
   "cell_type": "code",
   "execution_count": 13,
   "id": "188a76d9",
   "metadata": {
    "slideshow": {
     "slide_type": "subslide"
    }
   },
   "outputs": [
    {
     "name": "stdout",
     "output_type": "stream",
     "text": [
      "Help on function fact in module __main__:\n",
      "\n",
      "fact(n: int) -> int\n",
      "    Calcule n! de façon itérative\n",
      "\n"
     ]
    }
   ],
   "source": [
    "help(fact)"
   ]
  },
  {
   "cell_type": "markdown",
   "id": "f3ddb394",
   "metadata": {
    "slideshow": {
     "slide_type": "slide"
    }
   },
   "source": [
    "## Un autre corps pour un en-tête identique\n",
    "\n",
    "Ou : Le même _quoi_ mais un autre _comment_."
   ]
  },
  {
   "cell_type": "code",
   "execution_count": 14,
   "id": "8d602e8c",
   "metadata": {
    "slideshow": {
     "slide_type": "subslide"
    }
   },
   "outputs": [],
   "source": [
    "def fact2(n :int) -> int:\n",
    "    '''\n",
    "    Calcule n! de façon itérative avec un while\n",
    "    '''\n",
    "    res = 1\n",
    "    i = 1\n",
    "    while i < n + 1:\n",
    "        res = res * i\n",
    "        i = i + 1\n",
    "    return res"
   ]
  },
  {
   "cell_type": "code",
   "execution_count": 15,
   "id": "e76673e0",
   "metadata": {
    "slideshow": {
     "slide_type": "fragment"
    }
   },
   "outputs": [],
   "source": [
    "#les tests unitaires ne changent pas \n",
    "assert fact2(0) == 1\n",
    "assert fact2(1) == 1\n",
    "\n",
    "# utilisation d'une propriété générale pour un choix arbitraire de valeurs (ici 55..75)\n",
    "for i in range(55,75):\n",
    "    assert fact2(i) == i * fact2(i-1)"
   ]
  },
  {
   "cell_type": "markdown",
   "id": "ff5f020b",
   "metadata": {
    "slideshow": {
     "slide_type": "subslide"
    }
   },
   "source": [
    "## ($\\star$) Bonus : une première récursion gratuite"
   ]
  },
  {
   "cell_type": "code",
   "execution_count": 16,
   "id": "d79db753",
   "metadata": {
    "slideshow": {
     "slide_type": "subslide"
    }
   },
   "outputs": [],
   "source": [
    "def fact_rec(n :int) -> int:\n",
    "    '''\n",
    "    Calcule n! de façon récursive\n",
    "    '''\n",
    "    if n == 0 or n == 1:\n",
    "        return 1\n",
    "    return n * fact_rec(n - 1)"
   ]
  },
  {
   "cell_type": "markdown",
   "id": "0cf6e0cb",
   "metadata": {
    "slideshow": {
     "slide_type": "subslide"
    }
   },
   "source": [
    "### Validation immédiate"
   ]
  },
  {
   "cell_type": "code",
   "execution_count": 17,
   "id": "64c82f70",
   "metadata": {
    "slideshow": {
     "slide_type": "fragment"
    }
   },
   "outputs": [],
   "source": [
    "#les tests unitaires ne changent pas \n",
    "assert fact_rec(0) == 1\n",
    "assert fact_rec(1) == 1\n",
    "\n",
    "# utilisation d'une propriété générale pour un choix arbitraire de valeurs (ici 55..75)\n",
    "for i in range(55,75):\n",
    "    assert fact_rec(i) == i * fact_rec(i-1)"
   ]
  },
  {
   "cell_type": "markdown",
   "id": "80ea4716",
   "metadata": {
    "slideshow": {
     "slide_type": "subslide"
    }
   },
   "source": [
    "### Utilisation"
   ]
  },
  {
   "cell_type": "code",
   "execution_count": 18,
   "id": "d4d427a7",
   "metadata": {
    "slideshow": {
     "slide_type": "fragment"
    }
   },
   "outputs": [
    {
     "name": "stdout",
     "output_type": "stream",
     "text": [
      "3\n"
     ]
    }
   ],
   "source": [
    "#entrées\n",
    "#mon_n = int(input(\"n:\"))\n",
    "#mon_p = int(input(\"p:\"))\n",
    "mon_n = 3\n",
    "mon_p = 2\n",
    "\n",
    "#traitement\n",
    "num = fact_rec(mon_n)\n",
    "d1 = fact_rec(mon_p)\n",
    "d2 = fact_rec(mon_n - mon_p)\n",
    "res = num // (d1 * d2)\n",
    "\n",
    "# sortie\n",
    "print(res) "
   ]
  },
  {
   "cell_type": "markdown",
   "id": "f019f5bf",
   "metadata": {
    "slideshow": {
     "slide_type": "slide"
    }
   },
   "source": [
    "## Une fonction locale\n",
    "\n",
    "Une fonction peut être définie à l'intérieur de la définition d'une autre fonction : elle est _locale_ à cette fonction englobante. \n",
    "Elle peut être appelée dans la définition de la fonction englobante."
   ]
  },
  {
   "cell_type": "markdown",
   "id": "69f8639d",
   "metadata": {},
   "source": [
    "### Exemple"
   ]
  },
  {
   "cell_type": "code",
   "execution_count": 19,
   "id": "e2b2c561",
   "metadata": {
    "slideshow": {
     "slide_type": "subslide"
    }
   },
   "outputs": [],
   "source": [
    "def c_n_p(n : int, p : int) -> int:\n",
    "    '''\n",
    "    Calcule le nombre de combinaisons de p éléments parmi n : n! / p!(n-p)!\n",
    "    '''\n",
    "    def fact_locale(k : int) -> int:\n",
    "        '''\n",
    "        calcule k!\n",
    "        '''\n",
    "        res = 1\n",
    "        for k in range(2, k+1):\n",
    "            res = res * k\n",
    "        return res\n",
    "    \n",
    "    num = fact_locale(n)\n",
    "    denom = fact_locale(p) * fact_locale(n-p)\n",
    "    return num//denom"
   ]
  },
  {
   "cell_type": "markdown",
   "id": "a78c018c",
   "metadata": {
    "slideshow": {
     "slide_type": "subslide"
    }
   },
   "source": [
    "### Validation\n",
    "\n",
    "On commence par écrire une validation de cette nouvelle fonction"
   ]
  },
  {
   "cell_type": "code",
   "execution_count": 20,
   "id": "082ad819",
   "metadata": {
    "slideshow": {
     "slide_type": "fragment"
    }
   },
   "outputs": [],
   "source": [
    "assert c_n_p(3, 2) == 3\n",
    "assert c_n_p(3, 3) == 1"
   ]
  },
  {
   "cell_type": "markdown",
   "id": "baeddd05",
   "metadata": {},
   "source": [
    "### Utilisation"
   ]
  },
  {
   "cell_type": "code",
   "execution_count": 21,
   "id": "39c77036",
   "metadata": {
    "slideshow": {
     "slide_type": "subslide"
    }
   },
   "outputs": [
    {
     "name": "stdout",
     "output_type": "stream",
     "text": [
      "3\n"
     ]
    }
   ],
   "source": [
    "#entrées\n",
    "#mon_n = int(input(\"n:\"))\n",
    "#mon_p = int(input(\"p:\"))\n",
    "mon_n = 3\n",
    "mon_p = 2\n",
    "\n",
    "#calcul de c_n_p par appel de la fonction\n",
    "c32 = c_n_p(3, 2)\n",
    "\n",
    "# affichage\n",
    "print(c32)"
   ]
  },
  {
   "cell_type": "markdown",
   "id": "85d5e001",
   "metadata": {
    "slideshow": {
     "slide_type": "slide"
    }
   },
   "source": [
    "## Compétences"
   ]
  },
  {
   "cell_type": "markdown",
   "id": "46cebb6e",
   "metadata": {
    "slideshow": {
     "slide_type": "subslide"
    }
   },
   "source": [
    "### Avoir les idées claires\n",
    "\n",
    "- reconnaître et utiliser une fonction prédéfinie ou existante\n",
    "- reconnaître et distinguer :\n",
    "    - définition et paramètres formels _vs._ appel et paramètres effectifs\n",
    "    - spécification, en-tête, signature : spécifier pour utiliser, pour vérifier  _vs._ corps : implémentation du traitement  \n",
    "- comprendre que appel = changement de contexte  \n",
    "    - trace de l'exécution _vs._ séquentialité des instructions écrites \n",
    "    - dynamique vs. statique  \n",
    "- distinguer appelant _vs._ appelé : \n",
    "    - le rôle de l'appel, \n",
    "    - le rôle du `return` \n",
    "- identifier la portée des variables : \n",
    "    - variables locales _vs._ variables plus globales  \n",
    "- se souvenir que l'effet de bord est indésirable  \n",
    "- définir et écrire une spécification de fonction avec des paramètres de type tableau  "
   ]
  },
  {
   "cell_type": "markdown",
   "id": "52ee1f58",
   "metadata": {
    "slideshow": {
     "slide_type": "subslide"
    }
   },
   "source": [
    "### Ce qu'il faut savoir faire \n",
    "\n",
    "**Cadre** : en/pour python \n",
    "\n",
    "- utiliser une fonction prédéfinie ou existante\n",
    "- définir et écrire la spécification d'une fonction qui réalise un traitement décrit en français, ou qui résoud un problème (simple) décrit en français  \n",
    "- définir et écrire des appels simples (tests unitaires) \n",
    "- définir et écrire l'implémentation d'une fonction associée à une spécification "
   ]
  }
 ],
 "metadata": {
  "celltoolbar": "Diaporama",
  "kernelspec": {
   "display_name": "Python 3 (ipykernel)",
   "language": "python",
   "name": "python3"
  },
  "language_info": {
   "codemirror_mode": {
    "name": "ipython",
    "version": 3
   },
   "file_extension": ".py",
   "mimetype": "text/x-python",
   "name": "python",
   "nbconvert_exporter": "python",
   "pygments_lexer": "ipython3",
   "version": "3.11.7"
  }
 },
 "nbformat": 4,
 "nbformat_minor": 5
}
