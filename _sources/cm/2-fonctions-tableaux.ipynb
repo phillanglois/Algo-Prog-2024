{
 "cells": [
  {
   "cell_type": "markdown",
   "metadata": {
    "slideshow": {
     "slide_type": "slide"
    }
   },
   "source": [
    "(ch:fonctions-tableaux)=\n",
    "# Fonctions et tableaux "
   ]
  },
  {
   "cell_type": "markdown",
   "metadata": {
    "slideshow": {
     "slide_type": "slide"
    }
   },
   "source": [
    "Mis à jour : {sub-ref}`today`, lecture : {sub-ref}`wordcount-minutes` minutes minimum, PhL."
   ]
  },
  {
   "cell_type": "markdown",
   "metadata": {
    "slideshow": {
     "slide_type": "slide"
    }
   },
   "source": [
    "Dans ce chapitre, nous complétons l'étude des fonctions en python en présentant le cas des **fonctions avec paramètre de type tableau**, c-a-d. le cas de fonctions qui manipulent des arguments `list`.\n",
    "\n",
    "Les tableaux mis en oeuvre avec des listes python sont entre autres rapellés dans l'annexe [a0 Boucles avancées](#ann:boucle-tableaux). "
   ]
  },
  {
   "cell_type": "markdown",
   "metadata": {
    "slideshow": {
     "slide_type": "slide"
    }
   },
   "source": [
    "<div class=\"alert alert-block alert-info\">\n",
    "<b>Vocabulaire.</b> distinguer la dimension d'un tableau <em>vs.</em> la taille d'un tableau\n",
    "</div>"
   ]
  },
  {
   "cell_type": "markdown",
   "metadata": {
    "slideshow": {
     "slide_type": "fragment"
    }
   },
   "source": [
    "**Dimension.** \n",
    "\n",
    "* Un tableau peut être unidimensionnel (un vecteur), bidimensionnel (une matrice), tridimensionnel (une image 2D en couleurs (R,G,B)), ... \n",
    "* Sa dimension est donc le _nombre d'indices_ nécessaires pour localiser une de ses valeurs.\n",
    "\n",
    "**Taille.**\n",
    "* Chacune des dimensions d'un tableau est composée d'un certain nombre de _valeurs de l'indice de cette dimension_.\n",
    "* La taille de ce tableau est _l'ensemble ordonné_ de chacun de ces nombres pour chacune de ses dimensions."
   ]
  },
  {
   "cell_type": "markdown",
   "metadata": {
    "slideshow": {
     "slide_type": "subslide"
    }
   },
   "source": [
    "## **Rappels et conventions.**\n",
    "\n",
    "Le vecteur $(2, 4, 6)$ est de dimension 1 et de taille 3.  \n",
    "\n",
    "La matrice \n",
    "\n",
    "$$\n",
    "\\begin{pmatrix}\n",
    "    1 & 2 & 3 \\\\\n",
    "    1 & 4 & 9 \\\\\n",
    "\\end{pmatrix}\n",
    "$$\n",
    "\n",
    "est de dimension 2 et de taille (2, 3) : \n",
    "elle contient 6 valeurs organisées en 2 lignes et 3 colonnes.  \n",
    "\n",
    "- La première valeur de sa taille est son nombre de lignes.\n",
    "- La seconde valeur de sa taille correspond à son nombre de colonnes.\n",
    "- Ce choix ligne, puis colonne, (puis ...) est arbitraire mais usuel en maths, en algo, ...  "
   ]
  },
  {
   "cell_type": "markdown",
   "metadata": {
    "slideshow": {
     "slide_type": "subslide"
    }
   },
   "source": [
    "Le vecteur colonne \n",
    "\n",
    "$$\n",
    "\\begin{pmatrix}\n",
    "    1 \\\\\n",
    "    0 \\\\\n",
    "    0 \\\\\n",
    "\\end{pmatrix}\n",
    "$$\n",
    "\n",
    "représente souvent le premier vecteur de la base orthonormée $(i, j, k)$ de $\\mathbb{R}^ 3$ est  de taille (3, 1).\n",
    "\n",
    "Excepté le terme _tableau_, ces notions sont indépendantes de tout choix informatique.          "
   ]
  },
  {
   "cell_type": "markdown",
   "metadata": {
    "slideshow": {
     "slide_type": "fragment"
    }
   },
   "source": [
    "**Ce qu'il ne faut pas faire :** on pourrait _être tenté_ d'écrire : \n",
    "\n",
    "```python \n",
    "c = [[0] * n] * n\n",
    "```\n",
    "\n",
    "Cette construction utilise le sens particulier du symbole `*`  appliqué à des listes 1D qui correspond à la répétition de _concaténation de listes_. \n",
    "La concaténation de deux listes peut s'écrire en python avec le symbole `+`."
   ]
  },
  {
   "cell_type": "code",
   "execution_count": 2,
   "metadata": {
    "slideshow": {
     "slide_type": "fragment"
    }
   },
   "outputs": [
    {
     "name": "stdout",
     "output_type": "stream",
     "text": [
      "l= [3, 4, 5]\n",
      "[0, 0, 0]\n",
      "[1, 1, 1]\n",
      "l3= [0, 0, 0, 1, 1, 1]\n"
     ]
    }
   ],
   "source": [
    "l1 = [3]\n",
    "l2 = [4, 5]\n",
    "l = l1 + l2\n",
    "print(\"l=\", l)\n",
    "\n",
    "l3_zeros = [0] * 3\n",
    "print(l3_zeros)\n",
    "\n",
    "l3_uns = [1] * 3\n",
    "print(l3_uns)\n",
    "\n",
    "l3 = l3_zeros + l3_uns \n",
    "print(\"l3=\", l3)"
   ]
  },
  {
   "cell_type": "markdown",
   "metadata": {
    "slideshow": {
     "slide_type": "fragment"
    }
   },
   "source": [
    "Avant d'indiquer pourquoi il ne faut pas utiliser aveuglement cette définition par concaténation, présentons :\n",
    "\n",
    ":::{Admonition} **Ce qu'il faut faire**\n",
    ":class: important\n",
    "Pour définir et initialiser un tableau mono- ou multi-dimensionnel, utiliser systématiquement la _construction d'une liste par compréhension_.\n",
    "\n",
    "```python \n",
    "c = [[0 for i in range(n)] for j in range(n)]\n",
    "```\n",
    ":::"
   ]
  },
  {
   "cell_type": "markdown",
   "metadata": {
    "slideshow": {
     "slide_type": "subslide"
    }
   },
   "source": [
    "($\\star$) **Pourquoi ?** \n",
    "\n",
    "\n",
    "Le code suivant _à éviter_ reprend la construction d'une liste 1D par concaténation et le fait qu'un tableau 2D est une liste de listes.  "
   ]
  },
  {
   "cell_type": "code",
   "execution_count": 3,
   "metadata": {
    "slideshow": {
     "slide_type": "fragment"
    }
   },
   "outputs": [
    {
     "name": "stdout",
     "output_type": "stream",
     "text": [
      "[[0, 0, 0], [0, 0, 0], [0, 0, 0], [0, 0, 0]]\n",
      "[[1, 1, 1], [1, 1, 1], [1, 1, 1], [1, 1, 1]]\n"
     ]
    }
   ],
   "source": [
    "# à ne pas faire\n",
    "l34_zeros = [[0] * 3] * 4\n",
    "print(l34_zeros)\n",
    "\n",
    "# à ne pas faire\n",
    "l34_uns = [l3_uns] * 4\n",
    "print(l34_uns)"
   ]
  },
  {
   "cell_type": "markdown",
   "metadata": {
    "slideshow": {
     "slide_type": "fragment"
    }
   },
   "source": [
    "L'affichage et des tests trop naïfs ne permettent pas d'exhiber pourquoi cette construction est dangereuse."
   ]
  },
  {
   "cell_type": "code",
   "execution_count": 4,
   "metadata": {
    "slideshow": {
     "slide_type": "fragment"
    }
   },
   "outputs": [
    {
     "name": "stdout",
     "output_type": "stream",
     "text": [
      "[[0, 0, 0], [0, 0, 0], [0, 0, 0], [0, 0, 0]]\n",
      "True\n"
     ]
    }
   ],
   "source": [
    "# definition de liste 2D en compréhension\n",
    "oui_comme_ca = [[0 for j in range(3)] for i in range(4)]\n",
    "\n",
    "print(oui_comme_ca)\n",
    "print(oui_comme_ca == l34_zeros)"
   ]
  },
  {
   "cell_type": "markdown",
   "metadata": {
    "slideshow": {
     "slide_type": "subslide"
    }
   },
   "source": [
    "Il y a pourtant danger :"
   ]
  },
  {
   "cell_type": "code",
   "execution_count": 5,
   "metadata": {
    "slideshow": {
     "slide_type": "fragment"
    }
   },
   "outputs": [
    {
     "name": "stdout",
     "output_type": "stream",
     "text": [
      "[[0, 0, 1], [0, 0, 1], [0, 0, 1], [0, 0, 1]]\n",
      "Aie ! \n"
     ]
    }
   ],
   "source": [
    "l34_zeros[1][2] = 1 # je modifie UNE valeur de ce tableau\n",
    "\n",
    "print(l34_zeros)\n",
    "print(\"Aie ! \")"
   ]
  },
  {
   "cell_type": "markdown",
   "metadata": {
    "slideshow": {
     "slide_type": "fragment"
    }
   },
   "source": [
    ":::{danger}\n",
    "Quatre termes de la matrice ont été modifiées alors l'écriture désigne **un seul terme** de cette matrice.\n",
    ":::"
   ]
  },
  {
   "cell_type": "markdown",
   "metadata": {
    "slideshow": {
     "slide_type": "fragment"
    }
   },
   "source": [
    "Ce comportement assez piégeux peut être particulièrement long à identifier lors d'une phase de debug ..."
   ]
  },
  {
   "cell_type": "markdown",
   "metadata": {
    "slideshow": {
     "slide_type": "subslide"
    }
   },
   "source": [
    "**Visualiser pour bien comprendre.** \n",
    "\n",
    "Merci pythontutor !\n",
    "- [tableau 1D](http://pythontutor.com/visualize.html#code=v%20%3D%20%5B1,%202,%203%5D%0Anon%20%3D%20%5B0%5D%20*%203%0Aoui%20%3D%20%5B0%20for%20_%20in%20range%283%29%5D&cumulative=false&heapPrimitives=nevernest&mode=edit&origin=opt-frontend.js&py=3&rawInputLstJSON=%5B%5D&textReferences=false) : OK par concaténation et compréhension.\n",
    "- [tableau 2D](http://pythontutor.com/visualize.html#code=%23%20tableau%202D%0Am%20%3D%20%5B%5B1,%202%5D,%20%5B3,%204%5D,%20%5B5,%206%5D%5D%0A%23%20bien%20regarder%20l'effet%20de%20la%20construction%20suivante%0Anon2%20%3D%20%5B%5B0%5D%20*%202%5D%20*%203%0A%23et%20de%20celle-ci%0Aoui2%20%3D%20%5B%5B0%20for%20i%20in%20range%282%29%5D%20for%20j%20in%20range%283%29%5D&cumulative=false&heapPrimitives=nevernest&mode=edit&origin=opt-frontend.js&py=3&rawInputLstJSON=%5B%5D&textReferences=false) : Oui par compréhension, NON par concaténation de listes !\n",
    "\n"
   ]
  },
  {
   "cell_type": "markdown",
   "metadata": {
    "slideshow": {
     "slide_type": "subslide"
    }
   },
   "source": [
    "**Conclusion**\n",
    "Il vaut mieux s'interdire toute mauvaise habitude -- même pour les listes 1D ou tableaux 1D."
   ]
  },
  {
   "cell_type": "markdown",
   "metadata": {
    "slideshow": {
     "slide_type": "subslide"
    }
   },
   "source": [
    ":::{important}\n",
    "    \n",
    "Utiliser la définition de **listes en compréhension :**\n",
    "\n",
    "- 1D : OUI à `[i for i in range(3)]`\n",
    "- 2D : OUI à `[[0 for i in range(3)] for j in range(5)]`\n",
    "\n",
    "Ne pas utiliser le symbole `*` de concaténation répétée pour créer et initialiser une liste.\n",
    "\n",
    "- ~~`[[0] * 3] * 5`~~\n",
    "\n",
    ":::"
   ]
  },
  {
   "cell_type": "markdown",
   "metadata": {
    "slideshow": {
     "slide_type": "slide"
    }
   },
   "source": [
    "## Spécifications de fonctions avec paramètre `list`  en python\n",
    "\n",
    "La spécification d'une fonction doit comporter le type de ses paramètres formels.  \n",
    "On s'était limité aux paramètres formels de types scalaires `bool`, `int`, `float`, `complex`."
   ]
  },
  {
   "cell_type": "markdown",
   "metadata": {
    "slideshow": {
     "slide_type": "fragment"
    }
   },
   "source": [
    "**Pourquoi introduire cette notion maintenant ?**\n",
    "\n",
    "- la fonction est la construction élémentaire pour regrouper un traitement éventuellement complexe qui dépend de paramètres (d'entrée)\n",
    "- la vérification de la correction d'un traitement (à l'aide de tests unitaires) est facile à mettre en oeuvre lorsqu'il est défini sous la forme d'une fonction \n",
    "    - il suffit d'appeler la fonction pour des paramètres bien choisis -- c-a-d. pour lesquels le traitement attendu est connu.\n",
    "- une fonction doit être décrite par sa spécification (son en-tête, sa signature)\n",
    "\n",
    "Nous allons écrire des traitements un peu complexes sur des tableaux. \n",
    "Donc nous avons besoin de _fonctions_ qui manipulent des _tableaux_, et donc de leur _spécification_."
   ]
  },
  {
   "cell_type": "markdown",
   "metadata": {
    "slideshow": {
     "slide_type": "subslide"
    }
   },
   "source": [
    "### Comment indiquer le type d'un paramètre formel d'une fonction lorsque celui-ci est une liste ?"
   ]
  },
  {
   "cell_type": "markdown",
   "metadata": {},
   "source": [
    ":::{important} Evolutions des annotations de typage\n",
    "\n",
    "- python $<$ 3.9 : module `typing` nécessaire pour définir `List[...]` avec une majuscule\n",
    "- python $\\ge$ 3.9 : possibilité d'utiliser le type `list[...]` sans majuscule et sans importer le module `typing`\n",
    "- python $\\ge$ 3.10 : le symbole `|` pour désigner l'union de types (ex `Union`)\n",
    ":::\n",
    "\n",
    ":::{note}\n",
    "La suite de ce chapitre utilise les possibilités de python 3.9.\n",
    ":::"
   ]
  },
  {
   "cell_type": "markdown",
   "metadata": {
    "slideshow": {
     "slide_type": "fragment"
    }
   },
   "source": [
    "Le type d'un tableau (représenté par une liste) sera décrit avec la syntaxe `list[type_val]` où `type_val` est le type des valeurs du tableau. \n",
    "\n",
    "_Exemples._\n",
    "\n",
    "- `list[int]` : un tableau 1D d'entiers\n",
    "- `list[float]` : un tableau 1D de flottants  \n",
    "- `list[str]` : un tableau 1D de caractères _ou_ de chaîne de caractères.  \n",
    "- `list[list[int]]` : un tableau 2D d'entiers représenté par une liste de listes  \n",
    "\n",
    "\n",
    "Cette syntaxe permet d'expliciter le type (unique) des valeurs contenues dans un tableau.  "
   ]
  },
  {
   "cell_type": "markdown",
   "metadata": {
    "slideshow": {
     "slide_type": "subslide"
    }
   },
   "source": [
    "### Comment spécifier une fonction avec des paramètres formels de type tableau ?\n",
    "\n",
    "Pour chaque paramètre formel de type tableau (représenté par une liste python), on _complète_ la spécification de la fonction _avec_ autant de _paramètres_ nécessaires à la définition de _la dimension du tableau_ : un paramètre supplémentaire pour un tableau 1D, deux pour un tableau 2D, ...  \n",
    "\n",
    "Montrons avec des exemples comment préciser la (ou les) taille(s) fixe(s) d'un tableau.   "
   ]
  },
  {
   "cell_type": "markdown",
   "metadata": {
    "slideshow": {
     "slide_type": "subslide"
    }
   },
   "source": [
    "**Exemple :**\n",
    "la fonction `min1()` doit retourner la valeur minimale d'un tableau 1 D `t`, d'entiers (par exemple) et de taille `n` quelconque. \n",
    "\n",
    "La spécification de cette fonction s'écrira :\n",
    "\n",
    "```python\n",
    "def min1(t: list[int], n: int) -> int:\n",
    "    '''retourne la valeur minimale du tableau d'entiers t de taille n'''\n",
    "\n",
    "```\n",
    "\n",
    "- La taille `n` est définie ici comme second paramètre de cette fonction.\n",
    "    - C'est bien un entier\n",
    "- Ce paramètre supplémentaire n'est pas nécessaire en python mais **il est obligatoire dans cet enseignement** "
   ]
  },
  {
   "cell_type": "markdown",
   "metadata": {
    "slideshow": {
     "slide_type": "subslide"
    }
   },
   "source": [
    "Nous étendons cette pratique aux tableaux multidimensionnels.  \n",
    "\n",
    "Par exemple, la spécification de la fonction qui identifie et retourne la valeur minimale dans un tableau 2D s'écrit par exemple (pour un tableau 2D d'entiers) :\n",
    "\n",
    "```python\n",
    "def min2(t: list[list[int]], n: int, m: int) -> int:\n",
    "    '''retourne la valeur minimale du tableau 2D d'entiers t de taille n x m'''\n",
    "```\n",
    "Remarquons :\n",
    "- l'annotation du type de `t`, paramètre formel de \"type tableau 2D\", comme une liste de listes d'entiers,\n",
    "- et les 2 paramètres de taille `n` et `m`, qui désignent respectivement le nombre de lignes et de colonnes de `t`.  \n"
   ]
  },
  {
   "cell_type": "markdown",
   "metadata": {
    "slideshow": {
     "slide_type": "subslide"
    }
   },
   "source": [
    "<div class=\"alert alert-block alert-info\">\n",
    "    <b>Convention à appliquer dans cet enseignement.</b> \n",
    "\n",
    "Lorsqu'une fonction admet un paramètre formel de type tableau (ou plus d'un), on convient que les paramètres de taille de chaque paramètre tableau suivent sa définition dans la spécification de la fonction.\n",
    "</div>    \n",
    "    "
   ]
  },
  {
   "cell_type": "markdown",
   "metadata": {
    "slideshow": {
     "slide_type": "fragment"
    }
   },
   "source": [
    "**Exemples.** \n",
    "\n",
    "- si il y a 1 paramètre tableau 1D, on écrit dans l'ordre les types de `tab1, taille_de_tab1`  \n",
    "- si il y a 2 paramètres tableaux 1D, on écrit dans l'ordre les types de  `tab1, taille_de_tab1, tab2, taille_de_tab2`  \n",
    "- si il y a 1 paramètre tableau 2D, on écrit dans l'ordre les types de `tab1, nb_lignes_de_tab1, nb_colonnes_de_tab1`,\n",
    "- ...\n",
    "    "
   ]
  },
  {
   "cell_type": "markdown",
   "metadata": {},
   "source": [
    "## Exemples\n",
    "\n",
    "On présente ici la fonction `min1()` qui calcule la valeur minimale d'un tableau 1D d'entiers.\n",
    "\n",
    "Se référer ensuite à l'annexe [a0 - Boucles avancées](ann:boucles) dont **tous** les exemples définissent des fonctions avec des paramètres tableaux.\n",
    "\n",
    "- `min2()` calcule la valeur minimale d'un tableau 2D\n",
    "- `prod_mat_carrees()` calcule C = A $\\times$ B ou A,B,C sont des matrices entières carrées de taille n $\\times$ n\n",
    "- `existe_doublon()` calcule si il existe ou non une valeur qui apparaît au moins deux fois dans un tableau. \n"
   ]
  },
  {
   "cell_type": "markdown",
   "metadata": {
    "slideshow": {
     "slide_type": "subslide"
    }
   },
   "source": [
    "### `min1()`"
   ]
  },
  {
   "cell_type": "markdown",
   "metadata": {
    "slideshow": {
     "slide_type": "fragment"
    }
   },
   "source": [
    "La fonction `min1` qui retourne la valeur minimale d'un tableau 1 D d'entiers (par exemple) et de taille $n$ quelconque. "
   ]
  },
  {
   "cell_type": "code",
   "execution_count": 10,
   "metadata": {
    "slideshow": {
     "slide_type": "fragment"
    },
    "tags": []
   },
   "outputs": [],
   "source": [
    "def min1(t: list[int], n: int) -> int:\n",
    "    '''retourne la valeur minimale du tableau d'entiers t de taille n'''\n",
    "    val_min = t[0]\n",
    "    for i in range(1, n):\n",
    "        if t[i] < val_min:\n",
    "            val_min = t[i]\n",
    "    return val_min "
   ]
  },
  {
   "cell_type": "code",
   "execution_count": 11,
   "metadata": {
    "slideshow": {
     "slide_type": "fragment"
    }
   },
   "outputs": [
    {
     "name": "stdout",
     "output_type": "stream",
     "text": [
      "1\n"
     ]
    }
   ],
   "source": [
    "#un appel de test sur un tableau de taille 3\n",
    "u = [3, 1, 2]\n",
    "un = min1(u, 3)\n",
    "print(un)"
   ]
  },
  {
   "cell_type": "markdown",
   "metadata": {
    "slideshow": {
     "slide_type": "subslide"
    },
    "tags": []
   },
   "source": [
    "**Obligation _pédagogique_ de définir le(s) paramètre(s) pour la taille d'un paramètre tableau.**\n",
    "\n",
    "python permet en effet de se dégager de cette obligation, entre autres grâce à la fonction prédéfinie `len()`. "
   ]
  },
  {
   "cell_type": "code",
   "execution_count": 12,
   "metadata": {
    "slideshow": {
     "slide_type": "fragment"
    }
   },
   "outputs": [],
   "source": [
    "def min1_bis_moche(t: list[int]) -> int:\n",
    "    '''retourne la valeur minimale du tableau d'entiers t de taille n'''\n",
    "    val_min = t[0]\n",
    "    for i in range(1, len(t)):\n",
    "        if t[i] < val_min:\n",
    "            val_min = t[i]\n",
    "    return val_min "
   ]
  },
  {
   "cell_type": "markdown",
   "metadata": {
    "slideshow": {
     "slide_type": "fragment"
    }
   },
   "source": [
    "Ce qui n'empêche pas de se servir de `len()` _dans l'appel_. Et c'est ce qu'on fera en général."
   ]
  },
  {
   "cell_type": "code",
   "execution_count": 13,
   "metadata": {
    "jupyter": {
     "source_hidden": true
    },
    "slideshow": {
     "slide_type": "fragment"
    },
    "tags": []
   },
   "outputs": [
    {
     "name": "stdout",
     "output_type": "stream",
     "text": [
      "True\n"
     ]
    }
   ],
   "source": [
    "u = [3, 1, 2]\n",
    "\n",
    "print(min1(u, len(u)) == min1(u, 3))"
   ]
  },
  {
   "cell_type": "markdown",
   "metadata": {
    "slideshow": {
     "slide_type": "subslide"
    }
   },
   "source": [
    "**Exercice.** \n",
    "- Ecrire la spécification et le corps d'une fonction qui retourne la valeur minimale d'un tableau de `float`. \n",
    "- ($\\star$)  Qu'en pensez-vous ?  \n",
    "- ($\\star$) Quelles conditions satisfaire pour une généralisation (correcte) de ce traitement ?\n",
    "    - La [section](#genericite) de ce chapitre aborde cette question.  "
   ]
  },
  {
   "cell_type": "markdown",
   "metadata": {},
   "source": [
    ":::{dropdown} Réponse\n",
    "\n",
    "- Il suffit de remplacer l'indication de type `int` par `float` dans l'en-tête et le corps des fonctions précédentes. \n",
    "- En revanche en python, si on veut distinguer les 2 traitements, il faut que les fonctions aient des noms différents.\n",
    "- Le traitement (chercher le min de ...) est identique dès qu'une relation d'ordre est définie pour le type des valeurs présentes dans le tableau.\n",
    "\n",
    ":::"
   ]
  },
  {
   "cell_type": "markdown",
   "metadata": {
    "slideshow": {
     "slide_type": "slide"
    }
   },
   "source": [
    "(genericite)=\n",
    "## ($\\star\\star$) Quelle spécification pour une fonction générique ? \n",
    "\n",
    "<div class=\"alert alert-warning\">\n",
    "\n",
    "Objectif 20 : compléments. \n",
    "    \n",
    "Sauter cette section en première lecture.\n",
    "\n",
    "</div>"
   ]
  },
  {
   "cell_type": "markdown",
   "metadata": {
    "slideshow": {
     "slide_type": "subslide"
    }
   },
   "source": [
    "### Généricité\n",
    "\n",
    "Cette section s'est d'abord appelée : \n",
    "\n",
    "> \"Comment spécifier un traitement générique ?\"\n",
    "\n",
    "Commençons par expliquer cette formulation un peu plus compliquée que le titre actuel.\n",
    "\n",
    "- _spécifier_ : écrire la spécification (d'une fonction)\n",
    "- _spécifier un traitement_ : suppose que le traitement est réalisé par une fonction dont on doit écrire la spécification \n",
    "- _un traitement générique_, ou une fonction générique : un traitement qui **s'applique** de façon similaire à des valeurs de **types différents**."
   ]
  },
  {
   "cell_type": "markdown",
   "metadata": {
    "slideshow": {
     "slide_type": "fragment"
    }
   },
   "source": [
    "Exemple : \n",
    "\n",
    "- les _corps_ des fonctions qui retournent le min de deux entiers ou deux flottants, sont identiques. OK ?\n",
    "- en revanche leurs spécifications sont, jusqu'à présent, différentes :\n",
    "    ```python\n",
    "    def min_int(a : int, b: int) -> int:\n",
    "    def min_float(a : float, b: float) -> float:\n",
    "    ```\n",
    "    "
   ]
  },
  {
   "cell_type": "markdown",
   "metadata": {
    "slideshow": {
     "slide_type": "fragment"
    }
   },
   "source": [
    "En python, on peut écrire une _seule_ fonction `mon_min()` qui accepte indifféremment des paramètres entiers ou flottants.  \n",
    "Cette fonction `mon_min()` est générique.  \n",
    "Il est facile de l'écrire avec une seule fonction _python_ mais sans indication de spécification -- ce qui est _mal_ :) "
   ]
  },
  {
   "cell_type": "markdown",
   "metadata": {
    "slideshow": {
     "slide_type": "subslide"
    }
   },
   "source": [
    "### `Union` dans le module `typing` ou `|` pour python $\\ge$ 3.10\n",
    "\n",
    "**Question.** Comment écrire sa spécification sans perdre d'information par rapport aux deux spécifications ci-dessus ?\n",
    "\n",
    "**Réponse.** \n",
    "\n",
    "- Pour python $<$ 3.10 : on a besoin du module `typing` qui définit `Union` avec le sens de l'union d'ensembles en mathématique.  \n",
    "- Pour python $\\ge$ 3.10 : le symbole `|`  remplace `Union` (et l'import de `typing` n'est plus nécessaire)."
   ]
  },
  {
   "cell_type": "markdown",
   "metadata": {},
   "source": [
    ":::{note} La suite de ce chapitre utilise les possibilités de python 3.9. :::"
   ]
  },
  {
   "cell_type": "code",
   "execution_count": 6,
   "metadata": {
    "slideshow": {
     "slide_type": "fragment"
    }
   },
   "outputs": [],
   "source": [
    "from typing import Union"
   ]
  },
  {
   "cell_type": "markdown",
   "metadata": {
    "slideshow": {
     "slide_type": "fragment"
    }
   },
   "source": [
    "Ainsi `Union[int, str]` permet de désigner toute valeur de type `int`  ou de type `str`.\n",
    "\n",
    "De façon similaire, on peut utiliser `Union[int, float]`  pour spécifier notre fonction  générique `mon_min` qui traite indifféremment des paramètres entiers ou flottants."
   ]
  },
  {
   "cell_type": "code",
   "execution_count": 7,
   "metadata": {
    "slideshow": {
     "slide_type": "subslide"
    }
   },
   "outputs": [
    {
     "name": "stdout",
     "output_type": "stream",
     "text": [
      "2 2.0 2\n"
     ]
    }
   ],
   "source": [
    "def mon_min(a : Union[int, float], b : Union[int, float]) -> Union[int, float]:\n",
    "    if a < b:\n",
    "        return a\n",
    "    else:\n",
    "        return b\n",
    "\n",
    "res1 = mon_min(3, 2)\n",
    "res2 = mon_min(3.0, 2.0)\n",
    "res3 = mon_min(3.0, 2)\n",
    "\n",
    "print(res1, res2, res3)"
   ]
  },
  {
   "cell_type": "markdown",
   "metadata": {
    "slideshow": {
     "slide_type": "subslide"
    }
   },
   "source": [
    "**Syntaxe.** Attention aux `[ ]` -- et non pas des `( )` -- dans l'annotation de types -- comme pour `list[]`.\n",
    "\n",
    "**($\\star$) Attention.** \n",
    "- Pourquoi je n'ai pas écrit que `Union[int, float]` avait le sens l'union (mathématique) des ensembles  d'entiers et de flottants ?\n",
    "- Parce qu'en python (et plus généralement en informatique avec _la notion de type_ ) :  \n",
    "```python\n",
    "Union[int, float] != float\n",
    "```\n",
    "On le vérifie :"
   ]
  },
  {
   "cell_type": "code",
   "execution_count": 8,
   "metadata": {
    "slideshow": {
     "slide_type": "fragment"
    }
   },
   "outputs": [
    {
     "name": "stdout",
     "output_type": "stream",
     "text": [
      "False\n"
     ]
    }
   ],
   "source": [
    "print(Union[int, float] == float)"
   ]
  },
  {
   "cell_type": "markdown",
   "metadata": {
    "slideshow": {
     "slide_type": "subslide"
    }
   },
   "source": [
    "### A lire\n",
    "\n",
    "- Sur les annotations de types : cet [article](https://inventwithpython.com/blog/2019/11/24/type-hints-for-busy-python-programmers/) (déjà mentionné plus haut) est l'un des plus intéressants que j'ai rencontré sur le web en préparant ce cours.  En effet, la documentation de réference sur les [annotations python](https://mypy.readthedocs.io/en/stable/cheat_sheet_py3.html) est assez peu commode à exploiter dans ce cas.   "
   ]
  },
  {
   "cell_type": "markdown",
   "metadata": {},
   "source": [
    ":::{dropdown} Réponses.\n",
    "\n",
    "Cherchez un peu svp ! Ensuite allez vérifier [ici](rep:doublonwhile)\n",
    ":::"
   ]
  },
  {
   "cell_type": "markdown",
   "metadata": {
    "slideshow": {
     "slide_type": "slide"
    }
   },
   "source": [
    "## Synthèse\n",
    "\n",
    "### Ce qui a été vu"
   ]
  },
  {
   "cell_type": "markdown",
   "metadata": {
    "slideshow": {
     "slide_type": "fragment"
    }
   },
   "source": [
    "**Spécifier pour vérifier** une fonction avec paramètre(s) de type tableau : \n",
    "- avant python 3.9 : `from typing import List`  # avec un `L` majuscule \n",
    "- depuis python 3.9 : `tab2D: [list[list[int]]` # avec un `l` minuscule  \n",
    "- ajouter les paramètres de dimension \n",
    "    - appel avec la fonction préféfinie `len()` "
   ]
  },
  {
   "cell_type": "markdown",
   "metadata": {},
   "source": [
    "### Ce qui n'a pas été vu\n",
    "\n",
    "Les `ndarray` du module `numpy` sont très utilisés en pratique et présentés dans [une annexe dédiée](ann:ndarray)    "
   ]
  },
  {
   "cell_type": "markdown",
   "metadata": {
    "slideshow": {
     "slide_type": "subslide"
    }
   },
   "source": [
    "### Exercice de synthèse\n",
    "\n",
    "Dans un notebook jupyter dédié, s'intéresser aux problèmes de l'égalité, de la similarité et de la comparaison de deux tableaux 1D.  \n",
    "\n",
    "**Définitions**\n",
    "\n",
    "- Deux tableaux sont _égaux_ si ils contiennent les mêmes valeurs aux mêmes positions.  \n",
    "- Deux tableaux sont _similaires_  si ils contiennent les mêmes valeurs avec le même nombre d'occurrences -- indépendamment de leurs positions.  \n",
    "- Deux tableaux sont comparables si ils contiennent les mêmes valeurs   si ils contiennent les mêmes valeurs avec le même nombre d'occurrences -- indépendamment de leurs nombres d'occurrences et de leurs positions.  "
   ]
  }
 ],
 "metadata": {
  "celltoolbar": "Diaporama",
  "kernelspec": {
   "display_name": "Python 3 (ipykernel)",
   "language": "python",
   "name": "python3"
  },
  "language_info": {
   "codemirror_mode": {
    "name": "ipython",
    "version": 3
   },
   "file_extension": ".py",
   "mimetype": "text/x-python",
   "name": "python",
   "nbconvert_exporter": "python",
   "pygments_lexer": "ipython3",
   "version": "3.9.6"
  },
  "latex_envs": {
   "LaTeX_envs_menu_present": true,
   "autoclose": false,
   "autocomplete": true,
   "bibliofile": "",
   "cite_by": "apalike",
   "current_citInitial": 1,
   "eqLabelWithNumbers": true,
   "eqNumInitial": 1,
   "hotkeys": {
    "equation": "Ctrl-E",
    "itemize": "Ctrl-I"
   },
   "labels_anchors": false,
   "latex_user_defs": false,
   "report_style_numbering": true,
   "user_envs_cfg": false
  },
  "toc": {
   "nav_menu": {},
   "number_sections": true,
   "sideBar": true,
   "skip_h1_title": false,
   "title_cell": "Table des matières",
   "title_sidebar": "TdM",
   "toc_cell": true,
   "toc_position": {
    "height": "calc(100% - 180px)",
    "left": "10px",
    "top": "150px",
    "width": "449.0257263183594px"
   },
   "toc_section_display": true,
   "toc_window_display": false
  },
  "toc-autonumbering": true,
  "toc-showcode": false,
  "toc-showtags": false
 },
 "nbformat": 4,
 "nbformat_minor": 4
}
