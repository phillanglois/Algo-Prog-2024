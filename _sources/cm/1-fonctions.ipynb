{
 "cells": [
  {
   "cell_type": "markdown",
   "metadata": {
    "slideshow": {
     "slide_type": "slide"
    }
   },
   "source": [
    "(ch:fonctions)=\n",
    "# Fonctions"
   ]
  },
  {
   "cell_type": "markdown",
   "metadata": {
    "slideshow": {
     "slide_type": "slide"
    }
   },
   "source": [
    "Mis à jour : {sub-ref}`today`, lecture : {sub-ref}`wordcount-minutes` minutes minimum, PhL."
   ]
  },
  {
   "cell_type": "markdown",
   "metadata": {
    "slideshow": {
     "slide_type": "slide"
    }
   },
   "source": [
    "Ce premier chapitre présente des rappels et quelques compléments sur les fonctions."
   ]
  },
  {
   "cell_type": "markdown",
   "metadata": {
    "slideshow": {
     "slide_type": "slide"
    }
   },
   "source": [
    "## Rappels"
   ]
  },
  {
   "cell_type": "markdown",
   "metadata": {
    "slideshow": {
     "slide_type": "slide"
    }
   },
   "source": [
    "Une _fonction_ est une suite d'instructions qui effectue un calcul ou réalise une action.\n",
    "\n",
    "Une fonction est désignée par son nom, comme par exemple en mathématiques la fonction $f$ ou les fonctions trigonométriques $\\cos, \\sin$, ... \n",
    "\n",
    "Le calcul ou l'action réalisé par une fonction peut _dépendre d'aucun, d'un ou de  plusieurs paramètres_. \n",
    "Par exemple en mathématiques, le calcul de $f(x)$ dépend de la valeur du paramètre $x$."
   ]
  },
  {
   "cell_type": "markdown",
   "metadata": {
    "slideshow": {
     "slide_type": "slide"
    }
   },
   "source": [
    "1. **Définir.** Une fonction doit d'abord être _définie_ avant de pouvoir être utilisée.\n",
    "    - la fonction $f(x)$ doit être définie avant de pouvoir calculer $f(3)$ par exemple.\n",
    "3. **Appeler.** _Appeler une fonction_ veut dire utiliser une fonction pour effectuer un calcul ou une action.\n",
    "    - $f(3)$ est l'appel de la fonction $f(x)$ pour $x = 3$."
   ]
  },
  {
   "cell_type": "markdown",
   "metadata": {
    "slideshow": {
     "slide_type": "slide"
    },
    "tags": []
   },
   "source": [
    "### Utiliser une fonction existante\n",
    "\n",
    "Les fonctions mathématiques  comme les fonctions trigonométriques, logarithmes, exponentielles, puissances ... sont \"fournies\" avec le langage de programmation. \n",
    "Elle sont définies et donc _appelables_.\n",
    "\n",
    "Techniquement, elles sont regroupées sous la forme de _bibliothèques_ de fonctions aussi appelées _modules_ en python.\n",
    "\n",
    "  \n",
    "L'exemple suivant illustre l'appel de la fonction `cos()`. "
   ]
  },
  {
   "cell_type": "code",
   "execution_count": 1,
   "metadata": {
    "scrolled": true,
    "slideshow": {
     "slide_type": "fragment"
    },
    "tags": []
   },
   "outputs": [
    {
     "name": "stdout",
     "output_type": "stream",
     "text": [
      "0.5000000000000001\n"
     ]
    }
   ],
   "source": [
    "from math import cos, pi\n",
    "# pour utiliser la fonction cos et la valeur pi définis dans le module math\n",
    "\n",
    "c = cos(pi/3)\n",
    "# calcul qui utilise cos et pi, puis affectation du résultat dans la variable c\n",
    "\n",
    "print(c)\n",
    "# affichage de la valeur de la variable c"
   ]
  },
  {
   "cell_type": "markdown",
   "metadata": {
    "slideshow": {
     "slide_type": "fragment"
    },
    "tags": []
   },
   "source": [
    "<div class=\"alert alert-block alert-info\">\n",
    "    \n",
    "**A retenir** : Les **parenthèses `(...)`** derrière le nom de la fonction : c'est à ça qu'on reconnait une fonction !  \n",
    "\n",
    "</div>\n",
    "\n",
    "\n",
    "<div class=\"alert alert-block alert-info\">\n",
    "\n",
    "**A retenir** : la construction \n",
    "        `from module import fonction1, fonction2` \n",
    "        permet d'utiliser les fonctions `fonction1` et `fonction2` définies dans la bibliothèque `module`\n",
    "\n",
    "</div>"
   ]
  },
  {
   "cell_type": "markdown",
   "metadata": {},
   "source": [
    "3. **Retourner un résultat.** Dans cet exemple, l'appel de la fonction `cos()` effectue un calcul et _retourne un résultat_ : ici 0.5000000000000001.  \n",
    "\n",
    "**Remarques.** \n",
    "\n",
    "- Une fonction peut ne pas retourner de résultat.\n",
    "- Je ne connais pas nécessairement _comment_ la fonction calcule son résultat.\n",
    "- En revanche, je connais le résultat attendu par l'appel de la fonction pour certains paramètres.\n",
    "\n",
    "**Exemple important à comprendre.** Dans le code précédent :\n",
    "\n",
    "- `print(c)` est l'appel à la fonction `print()` \n",
    "- cet appel réalise une action : afficher la valeur de `c`\n",
    "- cet appel ne retourne aucun résultat (voir * ci-dessous), et surtout pas la valeur de `c` !\n",
    "\n",
    "(*) Pour être exact, le `print()` de python retourne la valeur `None`."
   ]
  },
  {
   "cell_type": "code",
   "execution_count": 2,
   "metadata": {},
   "outputs": [
    {
     "name": "stdout",
     "output_type": "stream",
     "text": [
      "toto\n",
      "None\n"
     ]
    }
   ],
   "source": [
    "res = print(\"toto\")\n",
    "print(res)"
   ]
  },
  {
   "cell_type": "markdown",
   "metadata": {},
   "source": [
    "4. **Paramètre formel _vs._ paramètre effectif**.\n",
    "\n",
    "   - il peut y avoir 0, un ou plusieurs paramètres\n",
    "   - un paramètre est appelé _paramètre formel_ lorsqu'il apparait _dans la définition_ de la fonction\n",
    "   - un paramètre est appelé paramètre effectif lorsqu'il apparait _dans l'appel_ de la fonction"
   ]
  },
  {
   "cell_type": "markdown",
   "metadata": {},
   "source": [
    "- Dans la cellule précédente, la chaine de caractères `toto` est le paramètre effectif de l'appel de la fonction `print()`.\n",
    "- `print()` est une fonction prédéfinie compliquée qui possède de nombreux paramètres formels.  "
   ]
  },
  {
   "cell_type": "code",
   "execution_count": 3,
   "metadata": {
    "scrolled": true
   },
   "outputs": [],
   "source": [
    "#help(print)"
   ]
  },
  {
   "cell_type": "markdown",
   "metadata": {
    "slideshow": {
     "slide_type": "slide"
    }
   },
   "source": [
    "### Définir une nouvelle fonction\n",
    "\n",
    "\n",
    "Soit la fonction affine $f(x) = 2x + 1$.\n",
    "On veut calculer $f(0)$, $f(1)$, $f(-1)$ ou tracer sa représentation graphique. \n",
    "\n",
    "On va définir en python une fonction nommée `f` qui réalise ce calcul."
   ]
  },
  {
   "cell_type": "code",
   "execution_count": 4,
   "metadata": {
    "slideshow": {
     "slide_type": "subslide"
    }
   },
   "outputs": [],
   "source": [
    "def f(x : float) -> float:\n",
    "    res = 2 * x + 1\n",
    "    return res"
   ]
  },
  {
   "cell_type": "markdown",
   "metadata": {
    "slideshow": {
     "slide_type": "subslide"
    }
   },
   "source": [
    "- `def` annonce la définition de la fonction `f`\n",
    "    - on écrit aussi `f()` qui explicite que `f` est une fonction  \n",
    "- les paramètres de la fonction sont _entre parenthèses_ `( )` \n",
    "    - `f()` possède un seul paramètre `x` de type `float`. Noter le symbole `:` dans les `( )`\n",
    "    - Ainsi `x` est le _paramètre formel_ de la fonction `f()`\n",
    "    - On \n",
    "- `f()` _retourne_ une valeur de type `float`. Noter le symbole `->` après les `( )`\n",
    "- cette première ligne se termine par un `:` qui annonce une partie indentée\n",
    "- la partie indentée par rapport à `def` définit le traitement\n",
    "    - on reconnaît le calcul de $f(x)$\n",
    "    - le résultat de ce calcul est affecté dans `res` : `res` est une _variable locale_ à la fonction    \n",
    "- `return` désigne la valeur retournée par la fonction\n",
    "    - ici la valeur de `res` est retournée par `f()`\n"
   ]
  },
  {
   "cell_type": "markdown",
   "metadata": {
    "slideshow": {
     "slide_type": "subslide"
    }
   },
   "source": [
    "<div class='alert alert-block alert-info'>\n",
    "\n",
    "**RETENIR** : \n",
    "\n",
    "- Le mot clé `def`, les `()` et le `:`\n",
    "- Les types des paramètres formels et de la valeur retournée : les `:` dans les `( )`et le `->` \n",
    "    \n",
    "</div>    "
   ]
  },
  {
   "attachments": {},
   "cell_type": "markdown",
   "metadata": {},
   "source": [
    "### Appeler cette fonction\n",
    "\n",
    "Exécuter la cellule qui contient la définition de la fonction `f()` ne calcule rien. Pour \"calculer avec f\", il faut appeler la fonction `f()` pour des valeurs de son paramètre `x`."
   ]
  },
  {
   "cell_type": "code",
   "execution_count": 5,
   "metadata": {},
   "outputs": [
    {
     "name": "stdout",
     "output_type": "stream",
     "text": [
      "1 3.0 -1 7.0\n"
     ]
    }
   ],
   "source": [
    "# 3 appels pour des valeurs numériques\n",
    "a = f(0)\n",
    "b = f(1.0)\n",
    "c = f(-1)\n",
    "d = f(3.0)\n",
    "\n",
    "print(a, b, c, d)"
   ]
  },
  {
   "cell_type": "code",
   "execution_count": 6,
   "metadata": {
    "jupyter": {
     "source_hidden": true
    },
    "slideshow": {
     "slide_type": "fragment"
    }
   },
   "outputs": [
    {
     "name": "stdout",
     "output_type": "stream",
     "text": [
      "0 1 3\n"
     ]
    }
   ],
   "source": [
    "# 2 appels pour des variables\n",
    "zero = 0\n",
    "un = f(zero)\n",
    "trois = f(un)\n",
    "\n",
    "print(zero, un, trois)"
   ]
  },
  {
   "cell_type": "code",
   "execution_count": 7,
   "metadata": {
    "jupyter": {
     "source_hidden": true
    },
    "slideshow": {
     "slide_type": "fragment"
    }
   },
   "outputs": [
    {
     "name": "stdout",
     "output_type": "stream",
     "text": [
      "4 7\n"
     ]
    }
   ],
   "source": [
    "# 2 appels dans une expression \n",
    "combien = f(zero) + f(un) \n",
    "\n",
    "# 2 appels : 1 d'une expression et 1 dans un argument qui est une expression \n",
    "et_celui_la = f(zero + f(un)) \n",
    "\n",
    "print(combien, et_celui_la)"
   ]
  },
  {
   "cell_type": "code",
   "execution_count": 8,
   "metadata": {
    "slideshow": {
     "slide_type": "fragment"
    }
   },
   "outputs": [
    {
     "data": {
      "text/plain": [
       "Text(0.5, 1.0, 'f(x)=2x+1')"
      ]
     },
     "execution_count": 8,
     "metadata": {},
     "output_type": "execute_result"
    },
    {
     "data": {
      "image/png": "[encoded data removed]",
      "text/plain": [
       "<Figure size 640x480 with 1 Axes>"
      ]
     },
     "metadata": {},
     "output_type": "display_data"
    }
   ],
   "source": [
    "# un joli tracé vaut mieux qu'un long discours\n",
    "import matplotlib.pyplot as plt\n",
    "\n",
    "x = [i for i in range(-5,5)] # une liste de 10 arguments\n",
    "y = [f(i) for i in x] # la liste des 10 valeurs de la fonction correspondante\n",
    "\n",
    "plt.plot(x, y)\n",
    "plt.title(\"f(x)=2x+1\")\n",
    "#plt.close()\n"
   ]
  },
  {
   "cell_type": "markdown",
   "metadata": {
    "slideshow": {
     "slide_type": "slide"
    }
   },
   "source": [
    "<div class='alert alert-block alert-danger'>\n",
    "    \n",
    "NE PAS CONFONDRE :  **LA** définition  vs. **LES** appels    \n",
    "\n",
    "</div>"
   ]
  },
  {
   "cell_type": "markdown",
   "metadata": {},
   "source": [
    "### Tester cette fonction"
   ]
  },
  {
   "cell_type": "markdown",
   "metadata": {},
   "source": [
    "Il faut s'assurer que l'implémentation effectue sans erreur le traitement voulu.\n",
    "Pour celà, on effectue des _tests unitaires_ basés sur des propriétés caractéristiques de la fonction.\n",
    "\n",
    "L'instruction `assert` de python est utile à cet effet."
   ]
  },
  {
   "cell_type": "markdown",
   "metadata": {},
   "source": [
    "**Exemple.** Une implémentation correcte des fonctions trigonométriques $cos$ et $sin$ doit vérifier pour toute valeur réelle $x$, $cos(x)^2 + sin(x)^2 = 1$.\n",
    "\n",
    "Cette expression est une _assertion_, c-a-d. une expression qui est vraie."
   ]
  },
  {
   "cell_type": "code",
   "execution_count": 9,
   "metadata": {
    "slideshow": {
     "slide_type": "fragment"
    },
    "tags": []
   },
   "outputs": [],
   "source": [
    "from math import sin\n",
    "\n",
    "c = cos(pi/3.0)\n",
    "s = sin(pi/3.0)\n",
    "\n",
    "assert c*c + s*s == 1"
   ]
  },
  {
   "cell_type": "markdown",
   "metadata": {},
   "source": [
    "Il ne se passe rien. L'assertion est vraie.\n",
    "Morale : \"Pas de nouvelle, bonne nouvelle !\"\n",
    "\n",
    "On peut donc être un peu plus exhaustif en testant d'autres valeurs dont on connait le résultat attendu."
   ]
  },
  {
   "cell_type": "code",
   "execution_count": 10,
   "metadata": {},
   "outputs": [],
   "source": [
    "# des valeurs caractéristiques \n",
    "assert cos(0) == 1.0\n",
    "assert cos(pi) == -1.0\n",
    "assert sin(0) == 0.0\n",
    "assert sin(pi/2.) == 1.0"
   ]
  },
  {
   "cell_type": "markdown",
   "metadata": {},
   "source": [
    "Aucune erreur n'est signalée, ce qui est rassurant. Au moins dans un premier temps : nous avons vu plus haut que avec le calcul de `cos(pi/3)` souffrait d'une erreur à la 16ème décimale. "
   ]
  },
  {
   "cell_type": "code",
   "execution_count": 11,
   "metadata": {},
   "outputs": [
    {
     "data": {
      "text/plain": [
       "0.5000000000000001"
      ]
     },
     "execution_count": 11,
     "metadata": {},
     "output_type": "execute_result"
    }
   ],
   "source": [
    "cos(pi/3)"
   ]
  },
  {
   "cell_type": "markdown",
   "metadata": {},
   "source": [
    "On peut donc craindre de perdre certaines _égalités_ pour certaines valeurs de $x$. \n",
    "Dans ces cas, les tests unitaires déclancheront une erreur. Par exemple :\n",
    "\n",
    "```assert cos(pi/2.) == 0.0```\n",
    "\n",
    "provoquera l'affichage suivant :\n",
    "\n",
    "```\n",
    "AssertionError\n",
    "Traceback (most recent call last)\n",
    "Cell In[12], line 1\n",
    "----> 1 assert cos(pi/2.) == 0.0\n",
    "\n",
    "AssertionError:\n",
    "```"
   ]
  },
  {
   "cell_type": "markdown",
   "metadata": {},
   "source": [
    "**($\\star$) Que penser de ces \"résultats faux\" ?** \n",
    "Rassurez-vous : vous pouvez faire confiance aux résultats de ces fonctions élementaires. Il n'y a pas de bug. Cette petite imprécision est inévitable : il est par exemple impossible de représenter _la valeur numérique exacte_ de $\\pi$ sur un ordinateur -- et aussi sur votre feuille.\n",
    "Il en est de même pour $\\pi/2$ et donc ce serait chanceux que la fonction $\\cos$ en calcule le résultat exact -- sauf à être elle-même fausse ou très savante ! Ce type de problème relève de l'analyse des erreurs d'arrondi des calculs sur ordinateur. Ce qui dépasse le cadre de ce chapitre. "
   ]
  },
  {
   "cell_type": "markdown",
   "metadata": {},
   "source": [
    "**Morale.** _Toujours_ prendre avec précaution le résultat d'un calcul avec des nombres flottants car chaque opération arithmétique peut introduire une petite erreur, parfois -- mais pas toujours -- sans grande conséquence."
   ]
  },
  {
   "cell_type": "code",
   "execution_count": 12,
   "metadata": {},
   "outputs": [
    {
     "name": "stdout",
     "output_type": "stream",
     "text": [
      "1.0\n",
      "1.0\n",
      "0.9999999999999999\n",
      "1.0\n",
      "1.0\n",
      "1.0\n",
      "1.0\n",
      "1.0\n",
      "1.0\n",
      "0.9999999999999999\n",
      "1.0\n",
      "1.0\n",
      "1.0\n",
      "1.0\n",
      "1.0\n",
      "1.0\n",
      "1.0\n",
      "1.0\n",
      "1.0\n",
      "1.0\n"
     ]
    }
   ],
   "source": [
    "# une propriété qui ne rassure pas complètement ...\n",
    "import random\n",
    "\n",
    "for _ in range(20):\n",
    "    v = random.uniform(-10,10)\n",
    "    #assert cos(v)**2 + sin(v)**2 == 1\n",
    "    print(cos(v)**2 + sin(v)**2)\n"
   ]
  },
  {
   "cell_type": "markdown",
   "metadata": {},
   "source": [
    "<div class='alert alert-block alert-info'>\n",
    "    \n",
    "**RETENIR.** \n",
    "\n",
    "Toujours tester les fonctions que vous définissez\n",
    "\n",
    "</div>   "
   ]
  },
  {
   "cell_type": "markdown",
   "metadata": {},
   "source": [
    "En pratique, je teste une fonction avec l'instruction `assert` et **pas avec `print()`**\n",
    "\n",
    "Des tests unitaires, même en grand nombre, ne vous permettent pas de conclure que votre implémentation est correcte. Mais juste que vous n'avez pas réussi à exhiber un éventuel traitement faux."
   ]
  },
  {
   "cell_type": "markdown",
   "metadata": {
    "slideshow": {
     "slide_type": "slide"
    }
   },
   "source": [
    "### Pourquoi des fonctions ?\n",
    "\n",
    "Les exemples précédents illustrent des premières réponses à cette question.\n",
    "\n",
    "* Eviter de ré-écrire, de dupliquer, un calcul, un traitement, du code. Ré-utiliser l'existant.\n",
    "* Simplifier la lecture donc la compréhension\n",
    "* Ecrire des algorithmes, des codes de façon plus _modulaire_\n",
    "\n",
    "_Modularité_ : découper un traitement compliqué en une suite d'étapes plus simples, plus indépendantes. Une étape peut être réalisée par une fonction. Une étape peut être elle-même découpée jusqu'à obtenir un traitement assez simple pour l'écrire ! "
   ]
  },
  {
   "cell_type": "markdown",
   "metadata": {
    "slideshow": {
     "slide_type": "slide"
    }
   },
   "source": [
    "## Définition, signature, corps et appels de fonction  \n",
    "\n",
    "Le vocabulaire des fonctions varie selon les langages de programmation. Reprenons certains des aspects déjà décrits avec d'autres notions proches et très classiques en programmation. "
   ]
  },
  {
   "cell_type": "markdown",
   "metadata": {
    "slideshow": {
     "slide_type": "slide"
    },
    "tags": []
   },
   "source": [
    "### Distinguer le _Quoi_ du _Comment_ "
   ]
  },
  {
   "cell_type": "markdown",
   "metadata": {
    "slideshow": {
     "slide_type": "subslide"
    }
   },
   "source": [
    "De façon imagée, une fonction peut-être vu comme :\n",
    "\n",
    "- une boîte opaque \n",
    "- qui \"prends des choses\" en entrée : les paramètres,\n",
    "- qui effectue des traitements dépendants de ces paramètres : la zone indentée,\n",
    "- et qui fourni un \"résultat\" en sortie : le `return`.\n",
    "\n",
    " \n",
    "La boîte porte le nom de la fonction et est en général accompagnée d'une description de ce qu'elle fait. \n",
    "\n",
    "La boîte est opaque. Je peux m'en servir -- je sais **ce qu'elle fait** -- mais pour ça, je n'ai pas besoin de savoir **comment** elle le fait."
   ]
  },
  {
   "cell_type": "markdown",
   "metadata": {},
   "source": [
    "**Exemple.** Vous savez ce que vaut `cos(0)` mais _a priori_ pas comment il est calculé. "
   ]
  },
  {
   "cell_type": "markdown",
   "metadata": {
    "slideshow": {
     "slide_type": "slide"
    },
    "tags": []
   },
   "source": [
    "On distingue ainsi de :\n",
    "\n",
    "- **la spécification** d'une fonction = ce que ça fait : le QUOI \n",
    "- **une implémentation** de cette fonction = comment ça le fait : le COMMENT  \n"
   ]
  },
  {
   "cell_type": "markdown",
   "metadata": {
    "slideshow": {
     "slide_type": "fragment"
    }
   },
   "source": [
    "<div class='alert alert-block alert-warning'>\n",
    "\n",
    "Vocabulaire -- selon les langages de programmation : \n",
    "<ul>\n",
    "    <li> spécification = signature = en-tête (= prototype)  </li>\n",
    "    <li> implémentation = corps   </li>\n",
    "</ul>\n",
    "    \n",
    "</div>    "
   ]
  },
  {
   "cell_type": "markdown",
   "metadata": {
    "slideshow": {
     "slide_type": "slide"
    }
   },
   "source": [
    "### La signature d'une fonction en python\n",
    "\n",
    "La _signature_ d'une fonction explicite le minimum nécessaire et suffisant pour appeler cette fonction, ie. le _quoi_ : que fait la fonction et de quoi a-t-elle besoin pour ça ?\n",
    "\n",
    "On ne gardera que le nécessaire de la syntaxe de la définition vue jusqu'ici."
   ]
  },
  {
   "cell_type": "code",
   "execution_count": 13,
   "metadata": {
    "slideshow": {
     "slide_type": "fragment"
    }
   },
   "outputs": [],
   "source": [
    "def f(x : float) -> float:\n",
    "    '''Fonction affine de coeff directeur 2 et d'ordonnée à l'origine 1'''"
   ]
  },
  {
   "cell_type": "markdown",
   "metadata": {},
   "source": [
    "La lecture de cette signature indique que la fonction `f`  prend en entrée un paramètre de type numérique à virgule flottante (_un flottant_) noté `x` et fourni en retour une valeur flottante. \n",
    "Le commentaire, appelé _docstring_ décrit ce que fait la fonction `f`.   "
   ]
  },
  {
   "cell_type": "markdown",
   "metadata": {
    "slideshow": {
     "slide_type": "fragment"
    }
   },
   "source": [
    "<div class='alert alert-block alert-danger'>\n",
    "\n",
    "ATTENTION  : cette seule signature ne définie pas une fonction exécutable en python\n",
    "  \n",
    "En revanche, cette signature _suffit à_ écrire les tests unitaires qui seront exécutés une fois la fonction entièrement définie.\n",
    "\n",
    "</div>"
   ]
  },
  {
   "cell_type": "markdown",
   "metadata": {
    "slideshow": {
     "slide_type": "subslide"
    }
   },
   "source": [
    "### Le corps et le retour de valeur en python\n",
    "\n",
    "Le corps définit le traitement effectué par la fonction, _ie._ l'implémentation de la fonction.\n",
    "Il complète la signature.  \n",
    "Ce traitement s'effectue avec les paramètres formels et des variables locales à la fonction.  \n",
    "Ce traitement comporte en général une valeur de sortie retournée par l'instruction `return`.\n",
    "\n",
    "**Rappels** : \n",
    "\n",
    "- le corps est _indenté_ d'un niveau par rapport à celui du `def` (qui finit par un `:`).\n",
    "- mot-clé `return`\n",
    "    * `return` une valeur, une variable, une expression\n",
    "     * `return None` : ne retourne rien ... mais le dit !  \n",
    "    * l'exécution d'un `return` **termine l'_exécution_ du corps de la fonction**\n",
    "        * à la fin de l'écriture du corps, en général\n",
    "        * mais pas toujours : le `return` n'est pas nécessairement unique "
   ]
  },
  {
   "cell_type": "markdown",
   "metadata": {
    "slideshow": {
     "slide_type": "fragment"
    }
   },
   "source": [
    "On retrouve donc la définition complète d'une fonction, maintenant décomposée en sa signature et son corps. "
   ]
  },
  {
   "cell_type": "code",
   "execution_count": 14,
   "metadata": {
    "slideshow": {
     "slide_type": "fragment"
    }
   },
   "outputs": [],
   "source": [
    "def f(x : float) -> float:\n",
    "    '''Une fonction affine déjà rencontrée'''\n",
    "    y = 2 * x + 1\n",
    "    return y"
   ]
  },
  {
   "cell_type": "markdown",
   "metadata": {
    "slideshow": {
     "slide_type": "slide"
    }
   },
   "source": [
    "### L'appel d'une fonction en python\n",
    "\n",
    "L'appel de la fonction consiste à exécuter la fonction pour des valeurs fixées des arguments d'entrée.  \n",
    "\n",
    "En python :\n",
    "* le _nom_ de la fonction : sans le `def` mais avec les `( )`\n",
    "* les **paramètres effectifs** : les _valeurs_ des arguments d'entrée\n",
    "* les _identifiants_ des variables de sortie"
   ]
  },
  {
   "cell_type": "markdown",
   "metadata": {},
   "source": [
    "**Exemple (déjà vu)**"
   ]
  },
  {
   "cell_type": "code",
   "execution_count": 15,
   "metadata": {
    "slideshow": {
     "slide_type": "fragment"
    }
   },
   "outputs": [
    {
     "name": "stdout",
     "output_type": "stream",
     "text": [
      "4\n"
     ]
    }
   ],
   "source": [
    "##### 3 appels pour des valeurs numériques\n",
    "a = f(0)\n",
    "assert a == 1\n",
    "\n",
    "assert f(1.0) == 3\n",
    "\n",
    "zero = 0\n",
    "un = f(zero)\n",
    "assert a == un\n",
    "\n",
    "combien = f(zero) + f(un) \n",
    "assert combien > un\n",
    "assert combien < f(2)\n",
    "\n",
    "print(combien)"
   ]
  },
  {
   "cell_type": "markdown",
   "metadata": {
    "slideshow": {
     "slide_type": "slide"
    }
   },
   "source": [
    "<div class='alert alert-block alert-danger'>\n",
    "\n",
    "**NE PAS CONFONDRE** :  **paramètre formel** _vs._ **paramètre effectif** ou argument\n",
    "\n",
    "</div>    \n"
   ]
  },
  {
   "cell_type": "markdown",
   "metadata": {
    "slideshow": {
     "slide_type": "subslide"
    }
   },
   "source": [
    "### Méthodologie d'écriture des fonctions pour ce semestre\n",
    "\n",
    "En pratique, vous respecterez **l'ordre d'écriture** suivant."
   ]
  },
  {
   "cell_type": "markdown",
   "metadata": {
    "slideshow": {
     "slide_type": "subslide"
    }
   },
   "source": [
    "<div class='alert alert-block alert-info'>\n",
    "\n",
    "1. écriture de la signature de la fonction\n",
    "    - _docstring_ compris\n",
    "3. écriture d'appels simples, de tests unitaires\n",
    "    - rappel : appels sur des valeurs de tests, cad. dont on connait le résultat attendu de la fonction\n",
    "    - et correction de l'étape 1 si besoin\n",
    "4. écriture du corps\n",
    "5. **exécution** des tests unitaires\n",
    "    - et correction de l'étape 2 si besoin \n",
    "6. écriture des appels voulus  \n",
    "7. **exécution** des appels voulus\n",
    "\n",
    "</div>"
   ]
  },
  {
   "cell_type": "markdown",
   "metadata": {
    "slideshow": {
     "slide_type": "subslide"
    }
   },
   "source": [
    "<div class='alert alert-block alert-warning'>\n",
    "\n",
    "CONSIGNE PEDAGOGIQUE : L'écriture de l'appel (simple ou test unitaire) est effectuée avant celle du corps, _ie._ en se basant uniquement sur la signature.\n",
    "</div>\n",
    "\n",
    "Ainsi :\n",
    "- une erreur de spécification peut être détectée : absence ou excès de paramètre, ordre des paramètres mal choisi, ...  \n",
    "- il n'est pas possible d'exécuter cet appel avant d'avoir fini l'écriture du corps."
   ]
  },
  {
   "cell_type": "code",
   "execution_count": 16,
   "metadata": {
    "slideshow": {
     "slide_type": "fragment"
    }
   },
   "outputs": [
    {
     "name": "stdout",
     "output_type": "stream",
     "text": [
      "2468 17034\n"
     ]
    }
   ],
   "source": [
    "# définition de 3 fonctions\n",
    "def doubler(u : int) -> int:\n",
    "    \"\"\" retourne le double de u \"\"\"\n",
    "    return 2 * u\n",
    "\n",
    "def tripler(u : int) -> int:\n",
    "    \"\"\" retourne le triple de u    \"\"\"\n",
    "    v = 3 * u\n",
    "    return v\n",
    "\n",
    "# des tests unitaires\n",
    "doubler(0) == 0\n",
    "tripler(0) == 0\n",
    "\n",
    "for i in range(-5,5):\n",
    "    assert doubler(i) == i + i\n",
    "    assert tripler(i) == i + i + i\n",
    "\n",
    "from random import uniform\n",
    "for i in range(10):\n",
    "    x = uniform(-1, 1)\n",
    "    assert doubler(x) == x + x\n",
    "    assert tripler(x) == x + x + x\n",
    "    \n",
    "# des appels\n",
    "d = doubler(1234)\n",
    "t = tripler(5678)\n",
    "\n",
    "# un affichage\n",
    "print(d, t)"
   ]
  },
  {
   "cell_type": "markdown",
   "metadata": {
    "slideshow": {
     "slide_type": "slide"
    }
   },
   "source": [
    "<div class='alert alert-block alert-danger'>\n",
    "    \n",
    "**INTERDIT PEDAGOGIQUE** : il est interdit d'utiliser l'identifiant du paramètre formel comme paramètre effectif d'un appel.     \n",
    "</div>"
   ]
  },
  {
   "cell_type": "code",
   "execution_count": 17,
   "metadata": {
    "slideshow": {
     "slide_type": "fragment"
    }
   },
   "outputs": [],
   "source": [
    "x = 3\n",
    "# L'appel suivant est interdit pour la fonction affine f(x) définie précédemment\n",
    "y = f(x)\n",
    "\n",
    "y = f(3) # ok\n",
    "\n",
    "\n",
    "val = 3\n",
    "y = f(val) # ok"
   ]
  },
  {
   "cell_type": "markdown",
   "metadata": {
    "slideshow": {
     "slide_type": "subslide"
    }
   },
   "source": [
    "<div class=\"alert alert-block alert-info\">\n",
    "\n",
    "**A retenir :** l'appel est situé _après_ la définition  \n",
    "\n",
    "</div>  \n",
    "\n",
    "- logique : il faut connaître la fonction pour l'utiliser ! \n",
    "- `python` : se souvenir que `from module import f` permet de connaître, donc d'utiliser, `f` qui a été définie (par moi ou par un.e autre) dans la bibliothèque `module`"
   ]
  },
  {
   "cell_type": "markdown",
   "metadata": {
    "slideshow": {
     "slide_type": "slide"
    }
   },
   "source": [
    "## L'appel de fonction rompt le séquencement des instructions écrites dans le code source\n",
    "\n",
    "Le modèle d'exécution séquentielle des instructions consiste à exécuter l'instruction _qui suit_ celle qui vient de s'exécuter. \n",
    "Mais de quel ordre parle-t-on ? \n",
    "\n",
    "L'ordre des instructions exécutées n'est pas l'ordre des instructions _écrites dans le code source_ (python).\n",
    "\n",
    "- Les cas le plus simple est une suite d'instructions composée d'affectations, d'opérateurs booléen ou arithmétiques ou encore d'expressions arithmétiques. Ici les instructions sont globalement exécutées \"ligne après ligne\", pour ne pas dire \"instruction après instruction\".\n",
    "- Les structures de contrôle cassent ce séquencement \"ligne après ligne\" du _code source_.\n",
    "    - Les tests (`if ..  elif .. else`) engendrent des sauts vers des lignes du code source distantes de celle du test.\n",
    "    - Les répétitions (`for ..` ou `while ..`) engendrent des retours vers des lignes du code source placées avant la dernière exécutée.\n",
    "\n",
    "Ainsi tests et répétitions rompent le séquencement des instructions écrites dans le code source. \n",
    "Les fonctions génèrent un ordre d'exécution encore différent."
   ]
  },
  {
   "cell_type": "markdown",
   "metadata": {
    "slideshow": {
     "slide_type": "slide"
    }
   },
   "source": [
    "Nous illustrons avec [pythontutor](http://pythontutor.com/visualize.html#mode=edit) l'exécution d'un appel de fonction. "
   ]
  },
  {
   "cell_type": "markdown",
   "metadata": {
    "slideshow": {
     "slide_type": "fragment"
    }
   },
   "source": [
    "- Fonction affine :\n",
    "[visualisation pythontutor](http://pythontutor.com/visualize.html#code=def%20f%28x%20%3A%20float%29%20-%3E%20float%3A%0A%20%20%20%20'''Une%20fonction%20affine%20d%C3%A9j%C3%A0%20rencontr%C3%A9e'''%0A%20%20%20%20y%20%3D%202%20*%20x%20%2B%201%0A%20%20%20%20return%20y%0A%20%20%20%20%0Aordonnee_a_l_origine%20%3D%20f%280%29%0A%0Aprint%28ordonnee_a_l_origine%29%0A%0Aprint%28%22n,%20f%28n%29%22%29%0A%23%20plusieurs%20appels%20de%20f%0Afor%20val%20in%20range%283%29%3A%0A%20%20%20%20print%28val,%20f%28val%29%29&cumulative=false&curInstr=0&heapPrimitives=nevernest&mode=display&origin=opt-frontend.js&py=3&rawInputLstJSON=%5B%5D&textReferences=false)\n"
   ]
  },
  {
   "cell_type": "markdown",
   "metadata": {
    "slideshow": {
     "slide_type": "slide"
    }
   },
   "source": [
    "On observe :\n",
    "\n",
    "- l'appel de fonction provoque une rupture de l'exécution séquentielle, un débranchement de l'appelant vers l'appelé ;\n",
    "- le `return` provoque le retour au cadre appelant pour continuer l'exécution séquentielle.\n",
    "- Plusieurs `return` ?\n",
    "    - Oui mais 1 seul exécuté par appel."
   ]
  },
  {
   "cell_type": "markdown",
   "metadata": {
    "slideshow": {
     "slide_type": "slide"
    },
    "tags": []
   },
   "source": [
    "### Appel = appelant $\\to$ appelé ; `return` = appelé $\\to$ appelant "
   ]
  },
  {
   "cell_type": "markdown",
   "metadata": {
    "slideshow": {
     "slide_type": "slide"
    },
    "tags": []
   },
   "source": [
    "Distinguer _appelant_ et _appelé_ :\n",
    "\n",
    "- _l'appelant_ : le cadre (ie. la zone logique de code) où l'appel est effectué  \n",
    "- _l'appelé_ : le traitement de la définition de la fonction avec les paramètres effectifs de l'appel"
   ]
  },
  {
   "cell_type": "markdown",
   "metadata": {
    "slideshow": {
     "slide_type": "slide"
    },
    "tags": []
   },
   "source": [
    "**L'appel provoque une rupture de l'exécution séquentielle de l'appelant** : un débranchement de l'appelant vers l'appelé.\n",
    "\n",
    "- L'appel \"passe la main\" à l'appelé en même temps qu'il transmet les paramètres effectifs et une information pour que l'appelé puisse, plus tard, revenir dans l'appelant (pour fournir le résultat, ie. retourner le résultat).  \n",
    "- L'exécution revient dans la zone de l'appelant une fois achevée l'exécution de l'appelé  -- en pratique, après l'exécution d'un `return`.\n",
    "- Ce `return` déclenche le retour dans l'appelant à l'instruction de l'appel -- car c'est souvent une affectation si l'appelé est une (vraie) fonction -- ou à l'instruction suivante -- si c'est une procédure qui ne renvoie aucun résultat, cad. un appel sans affectation. "
   ]
  },
  {
   "cell_type": "markdown",
   "metadata": {
    "slideshow": {
     "slide_type": "slide"
    },
    "tags": []
   },
   "source": [
    "<div class=\"alert alert-block alert-info\">\n",
    "\n",
    "**Retenir :**   \n",
    "\n",
    "- l'appel = appelant -> appelé\n",
    "- le `return` = appelé -> appelant \n",
    "\n",
    "</div> "
   ]
  },
  {
   "cell_type": "markdown",
   "metadata": {
    "slideshow": {
     "slide_type": "slide"
    }
   },
   "source": [
    "### Le `return` termine l'appel de la fonction\n",
    "\n",
    "L'exécution d'un `return`, quel qu'il soit, _termine l'exécution de la fonction_ -- et provoque le retour dans le cadre appelant.\n",
    "\n",
    "Plusieurs instructions `return` sont possibles dans une même fonction. \n",
    "Donc pas uniquement comme dernière instruction du corps de la fonction. \n",
    "\n",
    "- Le premier `return` exécuté arrête l'exécution\n",
    "- les instructions suivantes du corps de la fonction ne sont pas traitées -- comme dans une branche non prise d'un `if .. elif .. else ..`. "
   ]
  },
  {
   "cell_type": "markdown",
   "metadata": {
    "slideshow": {
     "slide_type": "fragment"
    }
   },
   "source": [
    "[visualisation pythontutor](http://pythontutor.com/visualize.html#code=def%20aa%28u%20%3A%20float%29%20-%3E%20float%3A%0A%20%20%20%20'''La%20m%C3%AAme%20avec%202%20return%20'''%0A%20%20%20%20if%20u%20%3E%200%3A%0A%20%20%20%20%20%20%20%20res1%20%3D%20u%0A%20%20%20%20%20%20%20%20return%20res1%0A%20%20%20%20else%3A%0A%20%20%20%20%20%20%20%20res2%20%3D%20-u%0A%20%20%20%20%20%20%20%20return%20res2%0A%20%20%20%20%20%20%20%20%0Aun%20%3D%20aa%281.0%29%0Aencore_un%20%3D%20aa%28-1.0%29%0A%0A%23%20Profitons-en%20pour%20montrer%20un%20%60assert%60%20%0Aassert%20un%20%3D%3D%20encore_un&cumulative=false&curInstr=14&heapPrimitives=nevernest&mode=display&origin=opt-frontend.js&py=3&rawInputLstJSON=%5B%5D&textReferences=false)\n",
    "de plusieurs `return` et 1 seul exécuté par appel. "
   ]
  },
  {
   "cell_type": "code",
   "execution_count": 18,
   "metadata": {
    "code_folding": [],
    "slideshow": {
     "slide_type": "fragment"
    },
    "tags": []
   },
   "outputs": [],
   "source": [
    "def abs0(u : float) -> float:\n",
    "    '''calcule la valeur absolue de u'''\n",
    "    if u > 0:\n",
    "        res = u\n",
    "    else:\n",
    "        res = -u\n",
    "    return res"
   ]
  },
  {
   "cell_type": "markdown",
   "metadata": {
    "slideshow": {
     "slide_type": "fragment"
    }
   },
   "source": [
    "**Rmq**.\n",
    "`res` est une _variable locale_ à la fonction qui est définie pour retourner le résultat du traitement de la fonction. "
   ]
  },
  {
   "cell_type": "code",
   "execution_count": 19,
   "metadata": {
    "code_folding": [],
    "slideshow": {
     "slide_type": "slide"
    },
    "tags": []
   },
   "outputs": [],
   "source": [
    "def abs2(u : float) -> float:\n",
    "    '''La même avec 2 return '''\n",
    "    if u > 0:\n",
    "        res = u\n",
    "        return res\n",
    "    else:\n",
    "        res = -u\n",
    "        return res\n",
    "    "
   ]
  },
  {
   "cell_type": "code",
   "execution_count": 20,
   "metadata": {
    "code_folding": [],
    "slideshow": {
     "slide_type": "fragment"
    },
    "tags": []
   },
   "outputs": [
    {
     "name": "stdout",
     "output_type": "stream",
     "text": [
      "2 5\n",
      "Help on function abs0 in module __main__:\n",
      "\n",
      "abs0(u: float) -> float\n",
      "    calcule la valeur absolue de u\n",
      "\n",
      "Help on function abs2 in module __main__:\n",
      "\n",
      "abs2(u: float) -> float\n",
      "    La même avec 2 return\n",
      "\n"
     ]
    }
   ],
   "source": [
    "# 2 appels\n",
    "a_x = abs0(2)\n",
    "a_y = abs0(-5)\n",
    "\n",
    "# affichage\n",
    "print(a_x, a_y)\n",
    "\n",
    "# intérêt du docstring\n",
    "help(abs0)\n",
    "help(abs2)"
   ]
  },
  {
   "cell_type": "code",
   "execution_count": 21,
   "metadata": {
    "code_folding": [],
    "slideshow": {
     "slide_type": "slide"
    },
    "tags": []
   },
   "outputs": [],
   "source": [
    "def abs2bis(u : float) -> float:\n",
    "    '''La même avec 2 return sans variable locale'''\n",
    "    if u > 0:\n",
    "        return u\n",
    "    else:\n",
    "        return -u"
   ]
  },
  {
   "cell_type": "markdown",
   "metadata": {
    "slideshow": {
     "slide_type": "slide"
    }
   },
   "source": [
    "Nous verrons que les fonctions récursives sont friandes de `return` très tôt écrits dans le corps. "
   ]
  },
  {
   "cell_type": "markdown",
   "metadata": {
    "slideshow": {
     "slide_type": "subslide"
    },
    "tags": []
   },
   "source": [
    "### Exercice\n",
    "\n",
    "* Reprendre les fonctions précédentes (qui calculent et retournent la valeur absolue du paramètre d'entrée) et bien identifier le séquencement des instructions exécutées dans l'appelant et l'appelé.  "
   ]
  },
  {
   "cell_type": "markdown",
   "metadata": {
    "slideshow": {
     "slide_type": "slide"
    }
   },
   "source": [
    "## Spécifications de fonctions avec paramètre `list` en python\n",
    "\n",
    "Les `list` python sont utilisées pour représenter des tableaux. \n",
    "Rappelons comment spécifier des paramètres formels de type `list`.  "
   ]
  },
  {
   "cell_type": "markdown",
   "metadata": {
    "slideshow": {
     "slide_type": "subslide"
    }
   },
   "source": [
    "### Comment indiquer le type d'un paramètre formel `list` ?"
   ]
  },
  {
   "cell_type": "markdown",
   "metadata": {},
   "source": [
    ":::{important} Evolutions des annotations de typage\n",
    "\n",
    "- python $<$ 3.9 : module `typing` nécessaire pour définir `List[...]` avec une majuscule\n",
    "- python $\\ge$ 3.9 : possibilité d'utiliser le type `list[...]` sans majuscule et sans importer le module `typing`\n",
    "- python $\\ge$ 3.10 : le symbole `|` pour désigner l'union de types (ex `Union`)\n",
    ":::\n",
    "\n",
    ":::{note}\n",
    "La suite de ce chapitre utilise les possibilités de python 3.9.\n",
    ":::"
   ]
  },
  {
   "cell_type": "markdown",
   "metadata": {
    "slideshow": {
     "slide_type": "fragment"
    }
   },
   "source": [
    "Le type d'un tableau (représenté par une liste) sera décrit avec la syntaxe `list[type_val]` où `type_val` est le type des valeurs du tableau. \n",
    "\n",
    "_Exemples._\n",
    "\n",
    "- `list[int]` : un tableau 1D d'entiers\n",
    "- `list[float]` : un tableau 1D de flottants  \n",
    "- `list[str]` : un tableau 1D de caractères _ou_ de chaîne de caractères.  \n",
    "- `list[list[int]]` : un tableau 2D d'entiers représenté par une liste de listes  \n",
    "\n",
    "\n",
    "Cette syntaxe permet d'expliciter le type (unique) des valeurs contenues dans un tableau.  "
   ]
  },
  {
   "cell_type": "markdown",
   "metadata": {
    "slideshow": {
     "slide_type": "subslide"
    }
   },
   "source": [
    "### Comment spécifier une fonction avec des paramètres formels de type tableau ?\n",
    "\n",
    "Pour chaque paramètre formel de type tableau (représenté par une liste python), on _complète_ la spécification de la fonction _avec_ autant de _paramètres_ nécessaires à la définition de _la dimension du tableau_ : un paramètre supplémentaire pour un tableau 1D, deux pour un tableau 2D, ...  \n",
    "\n",
    "Montrons avec des exemples comment préciser la (ou les) taille(s) fixe(s) d'un tableau.   "
   ]
  },
  {
   "cell_type": "markdown",
   "metadata": {
    "slideshow": {
     "slide_type": "subslide"
    }
   },
   "source": [
    "**Exemple :**\n",
    "la fonction `min1()` doit retourner la valeur minimale d'un tableau 1 D `t`, d'entiers (par exemple) et de taille `n` quelconque. \n",
    "\n",
    "La spécification de cette fonction s'écrira :\n",
    "\n",
    "```python\n",
    "def min1(t: list[int], n: int) -> int:\n",
    "    '''retourne la valeur minimale du tableau d'entiers t de taille n'''\n",
    "\n",
    "```\n",
    "\n",
    "- La taille `n` est définie ici comme second paramètre de cette fonction.\n",
    "    - C'est bien un entier\n",
    "- Ce paramètre supplémentaire n'est pas nécessaire en python mais **il est obligatoire dans cet enseignement** "
   ]
  },
  {
   "cell_type": "markdown",
   "metadata": {
    "slideshow": {
     "slide_type": "subslide"
    }
   },
   "source": [
    "Nous étendons cette pratique aux tableaux multidimensionnels.  \n",
    "\n",
    "Par exemple, la spécification de la fonction qui identifie et retourne la valeur minimale dans un tableau 2D s'écrit par exemple (pour un tableau 2D d'entiers) :\n",
    "\n",
    "```python\n",
    "def min2(t: list[list[int]], n: int, m: int) -> int:\n",
    "    '''retourne la valeur minimale du tableau 2D d'entiers t de taille n x m'''\n",
    "```\n",
    "Remarquons :\n",
    "- l'annotation du type de `t`, paramètre formel de \"type tableau 2D\", comme une liste de listes d'entiers,\n",
    "- et les 2 paramètres de taille `n` et `m`, qui désignent respectivement le nombre de lignes et de colonnes de `t`.  \n"
   ]
  },
  {
   "cell_type": "markdown",
   "metadata": {
    "slideshow": {
     "slide_type": "subslide"
    }
   },
   "source": [
    "<div class=\"alert alert-block alert-info\">\n",
    "    <b>Convention à appliquer ce semestre.</b> \n",
    "\n",
    "1. Lorsqu'une fonction admet un paramètre formel de type tableau (ou plus d'un), on convient que les paramètres de taille de chaque paramètre tableau suivent sa définition dans la spécification de la fonction.\n",
    "2. La seule simplfication possible est la suivante : si la fonction admet plusieurs paramètres de type tableau de même taille, alors ces paramètres sont placés en dernier, suivis d'une seule définition de leur taille. \n",
    "\n",
    "</div>    \n",
    "    "
   ]
  },
  {
   "cell_type": "markdown",
   "metadata": {
    "slideshow": {
     "slide_type": "fragment"
    }
   },
   "source": [
    "**Exemples.** \n",
    "\n",
    "- si il y a 1 paramètre tableau 1D, on écrit dans l'ordre les types de `tab1, taille_de_tab1`  \n",
    "- si il y a 2 paramètres tableaux 1D, on écrit dans l'ordre les types de  `tab1, taille_de_tab1, tab2, taille_de_tab2`  \n",
    "- si il y a 1 paramètre tableau 2D, on écrit dans l'ordre les types de `tab1, nb_lignes_de_tab1, nb_colonnes_de_tab1`,    "
   ]
  },
  {
   "cell_type": "markdown",
   "metadata": {},
   "source": [
    "**Exemple de la simplification.** \n",
    "\n",
    "($\\star$) On en profite pour montrer comment construire une pré-condition avec un `assert`."
   ]
  },
  {
   "cell_type": "code",
   "execution_count": 22,
   "metadata": {},
   "outputs": [],
   "source": [
    "def somme3vecteurs(v1: list[int], v2: list[int], v3: list[int], n: int) -> list[int]:\n",
    "    '''Calcule et retourne la somme des 3 vecteurs v1, v2 et v3 de même taille n'''\n",
    "    assert len(v1) == len(v2) == len(v3) == n"
   ]
  },
  {
   "cell_type": "markdown",
   "metadata": {
    "slideshow": {
     "slide_type": "slide"
    }
   },
   "source": [
    "## Autres compléments"
   ]
  },
  {
   "cell_type": "markdown",
   "metadata": {
    "slideshow": {
     "slide_type": "subslide"
    }
   },
   "source": [
    "### Ne pas confondre `return` et `print`\n",
    "\n",
    "C'est une erreur très fréquente hélas.\n",
    "La relecture de paragraphe sur le rôle du `return` permet de bien se convaincre qu'un `return` fait des choses bien différentes d'un `print`."
   ]
  },
  {
   "cell_type": "markdown",
   "metadata": {
    "slideshow": {
     "slide_type": "subslide"
    }
   },
   "source": [
    "<div class=\"alert alert-info\">\n",
    "    \n",
    "CONSEIL DÉJÀ SOUVENT RAPPELÉ : séparer les E/S des traitements\n",
    "\n",
    "</div>\n",
    "\n",
    "En pratique, les E/S (`print` et `input`) doivent être limitées :\n",
    "- au programme principal : le `main`, l'appelant de plus haut niveau\n",
    "- aux fonctions d'entrées-sorties spécifiques à votre application, si il y en a.  \n",
    "    - Voir `afficher_pref_dpt()` en fin de chapitre.\n",
    "    "
   ]
  },
  {
   "cell_type": "markdown",
   "metadata": {
    "slideshow": {
     "slide_type": "subslide"
    }
   },
   "source": [
    "### `help()` et _docstring_\n",
    "\n",
    "`help()` est une fonction python prédéfinie qui affiche l'en-tête (la signature) complet de la fonction passée en paramètre.  \n",
    "\n",
    "Elle fournit les informations nécessaires à l'utilisation correcte de la fonction, ainsi que des détails sur son objet et son implémentation -- si le ces aspects ont été décrits par le programmeur dans le `docstring` : la zone de commentaires _entre_ ` ''' ` (3 _quotes_ ou ` \"\"\" ` (3 _double quotes_) et indentée sous le `def`.\n",
    "\n",
    "Cette fonction est similaire à l'option de commande `--help` sous Unix."
   ]
  },
  {
   "cell_type": "code",
   "execution_count": 23,
   "metadata": {
    "slideshow": {
     "slide_type": "fragment"
    }
   },
   "outputs": [
    {
     "name": "stdout",
     "output_type": "stream",
     "text": [
      "Help on function doubler in module __main__:\n",
      "\n",
      "doubler(u: int) -> int\n",
      "    retourne le double de u\n",
      "\n"
     ]
    }
   ],
   "source": [
    "help(doubler)"
   ]
  },
  {
   "cell_type": "code",
   "execution_count": 24,
   "metadata": {
    "slideshow": {
     "slide_type": "fragment"
    }
   },
   "outputs": [
    {
     "name": "stdout",
     "output_type": "stream",
     "text": [
      "Help on function f in module __main__:\n",
      "\n",
      "f(x: float) -> float\n",
      "    Une fonction affine déjà rencontrée\n",
      "\n"
     ]
    }
   ],
   "source": [
    "help(f)"
   ]
  },
  {
   "cell_type": "markdown",
   "metadata": {
    "slideshow": {
     "slide_type": "fragment"
    }
   },
   "source": [
    "**Exercice**. A quoi reconnait-on que `help` est une fonction ?"
   ]
  },
  {
   "cell_type": "markdown",
   "metadata": {
    "slideshow": {
     "slide_type": "subslide"
    }
   },
   "source": [
    "### Plusieurs paramètres"
   ]
  },
  {
   "cell_type": "code",
   "execution_count": 25,
   "metadata": {
    "code_folding": [
     9
    ],
    "slideshow": {
     "slide_type": "fragment"
    }
   },
   "outputs": [],
   "source": [
    "def puissance(x : float, n : int) -> float:\n",
    "    '''calcule x**n de façon itérative pour'''\n",
    "    # (un) corps de la fonction puissance\n",
    "    r = 1.0\n",
    "    for i in range(1, n+1):\n",
    "        r = r * x\n",
    "    return r"
   ]
  },
  {
   "cell_type": "code",
   "execution_count": 26,
   "metadata": {
    "code_folding": [
     9
    ],
    "slideshow": {
     "slide_type": "fragment"
    }
   },
   "outputs": [
    {
     "name": "stdout",
     "output_type": "stream",
     "text": [
      "mille = 1000.0\n",
      "True\n"
     ]
    }
   ],
   "source": [
    "# tests\n",
    "assert puissance(1.0, 0) == 1.\n",
    "assert puissance(1.0, 1) == 1.\n",
    "assert puissance(2.0, 3) == 8.0\n",
    "\n",
    "# appels avec des valeurs  \n",
    "mille = puissance(10.0, 3)\n",
    "print(\"mille =\", mille)\n",
    "\n",
    "# si besoin, avant d'écrire un assert\n",
    "vrai_ou_faux = (puissance(3.1,2) == 3.1 * 3.1)\n",
    "print(vrai_ou_faux)"
   ]
  },
  {
   "cell_type": "code",
   "execution_count": 27,
   "metadata": {
    "code_folding": [],
    "slideshow": {
     "slide_type": "fragment"
    }
   },
   "outputs": [
    {
     "name": "stdout",
     "output_type": "stream",
     "text": [
      "2 ** 0 = 1.0\n",
      "2 ** 1 = 2.0\n",
      "2 ** 2 = 4.0\n",
      "2 ** 3 = 8.0\n",
      "2 ** 4 = 16.0\n",
      "2 ** 5 = 32.0\n",
      "\n",
      "1.0\n",
      "3.0\n",
      "9.0\n",
      "27.0\n",
      "81.0\n"
     ]
    }
   ],
   "source": [
    "# appels avec une variable\n",
    "\n",
    "# évitons les entrées au clavier\n",
    "#n = int(input(\"n premières puissances de 2.0 pour n = \"))\n",
    "n = 5\n",
    "for i in range(n+1):\n",
    "    print(\"2 **\", i, \"=\", puissance(2, i))\n",
    "print() \n",
    "\n",
    "\n",
    "# évitons les entrées au clavier\n",
    "#p = float(input(\"n premières puissances de p pour p = \"))\n",
    "#n = int(input(\"et n = \"))\n",
    "p = 3\n",
    "n = 4\n",
    "for i in range(n+1):\n",
    "    print(puissance(p, i))"
   ]
  },
  {
   "cell_type": "markdown",
   "metadata": {
    "slideshow": {
     "slide_type": "subslide"
    }
   },
   "source": [
    "### Fonction sans paramètre \n",
    "\n",
    "Une fonction peut ne pas avoir de paramètre formel. Et donc être appelée sans argument (sans paramètre effectif)."
   ]
  },
  {
   "cell_type": "code",
   "execution_count": 28,
   "metadata": {
    "slideshow": {
     "slide_type": "fragment"
    }
   },
   "outputs": [],
   "source": [
    "def tetu() :\n",
    "    return 1"
   ]
  },
  {
   "cell_type": "code",
   "execution_count": 29,
   "metadata": {
    "slideshow": {
     "slide_type": "fragment"
    }
   },
   "outputs": [
    {
     "name": "stdout",
     "output_type": "stream",
     "text": [
      "res =  1\n",
      "appel tetu 1\n",
      "appel tetu 1\n",
      "appel tetu 1\n",
      "appel tetu 1\n",
      "appel tetu 1\n"
     ]
    },
    {
     "data": {
      "text/plain": [
       "1"
      ]
     },
     "execution_count": 29,
     "metadata": {},
     "output_type": "execute_result"
    }
   ],
   "source": [
    "res = tetu() # appel et affectation du résultat\n",
    "print('res = ', res)   # affichage\n",
    "\n",
    "# boucle d'appels à tetu() dans un print()  \n",
    "for i in range(5):\n",
    "    print('appel tetu', tetu())\n",
    "        \n",
    "# appel sans affectation, ni print. \n",
    "# L'interpréteur python affiche sa valeur en Out[..] \n",
    "tetu()"
   ]
  },
  {
   "cell_type": "markdown",
   "metadata": {},
   "source": [
    "### Fonction sans `return` "
   ]
  },
  {
   "cell_type": "markdown",
   "metadata": {},
   "source": [
    "<div class=\"alert alert-block alert-warning\">\n",
    "    \n",
    "Toute fonction python retourne un résultat. Si aucun `return` est exécuté, la valeur `None` est systématiquement retournée.\n",
    "\n",
    "</div>\n",
    "\n",
    "**Exemple**\n"
   ]
  },
  {
   "cell_type": "code",
   "execution_count": 30,
   "metadata": {},
   "outputs": [],
   "source": [
    "def mal_ecrite(x : int) -> int:\n",
    "    '''Si si je suis un bon exemple de fonction sans return'''\n",
    "    if x > 0:\n",
    "        return x"
   ]
  },
  {
   "cell_type": "code",
   "execution_count": 31,
   "metadata": {},
   "outputs": [
    {
     "name": "stdout",
     "output_type": "stream",
     "text": [
      "1 None\n"
     ]
    }
   ],
   "source": [
    "a = mal_ecrite(1)\n",
    "b = mal_ecrite(0)\n",
    "print(a, b)"
   ]
  },
  {
   "cell_type": "markdown",
   "metadata": {
    "slideshow": {
     "slide_type": "slide"
    }
   },
   "source": [
    "### Portée des variables, variable locale, variable globale, "
   ]
  },
  {
   "attachments": {},
   "cell_type": "markdown",
   "metadata": {
    "slideshow": {
     "slide_type": "fragment"
    }
   },
   "source": [
    "> La **portée** d'une variable : la zone où une variable est _accessible_ c-a-d. (re)connue à l'aide de son identifiant.  "
   ]
  },
  {
   "cell_type": "markdown",
   "metadata": {
    "slideshow": {
     "slide_type": "slide"
    }
   },
   "source": [
    "Les notions de variable locale (à une fonction) ou de variable globale sont classiques en programmation.  \n",
    "\n",
    "> **Variable locale** à une fonction : variable définie dans le _corps_ de la fonction pour permettre le traitement réalisé par la fonction.  \n",
    "\n",
    "Par extension, les paramètres **formels** de la fonction sont aussi des **variables locales** à sa définition. "
   ]
  },
  {
   "cell_type": "markdown",
   "metadata": {
    "slideshow": {
     "slide_type": "fragment"
    }
   },
   "source": [
    "> Une **variable** est dite  **globale** par rapport à une fonction si elle est définie à l'extérieur de la fonction, et plus particulièrement dans l'appelant de la fonction.  "
   ]
  },
  {
   "cell_type": "markdown",
   "metadata": {},
   "source": [
    "**Convention.** Sauf besoin, on utilisera le terme \"variable locale\" sans ajouter \"locale à une fonction\".  \n"
   ]
  },
  {
   "attachments": {},
   "cell_type": "markdown",
   "metadata": {
    "slideshow": {
     "slide_type": "fragment"
    }
   },
   "source": [
    "- La portée d'une variable locale est **limitée au corps de la fonction** qui contient sa définition.  \n",
    "        - Une variable locale _n'existe pas à l'extérieur_ de la définition ou du traitement de la fonction.\n",
    "- La portée d'une variable globale est définie par le cadre _appelant_.  \n",
    "    - La portée d'une variable **commence à sa définition et s'étend au cadre qui contient cette définition**.\n",
    "    - cette portée inclut les fonctions définies dans ce cadre et aussi leurs corps  \n",
    "- Les portées d'une variable globale et d'une variable locale peuvent se recouvrir (dans la fonction de la variable locale) si _ces 2 variables ont le même identifiant_.\n",
    "\n",
    "Cette dernière remarque justifie les deux interdits suivants. "
   ]
  },
  {
   "cell_type": "markdown",
   "metadata": {
    "slideshow": {
     "slide_type": "subslide"
    }
   },
   "source": [
    "<div class=\"alert alert-block alert-danger\">\n",
    "    \n",
    "INTERDITS PEDAGOGIQUES :  \n",
    "\n",
    "1. Dans la définition d'une fonction, il est interdit d'introduire ou d'utiliser des variables globales, excepté si ce sont des **constantes**.\n",
    "2. Il est interdit d'utiliser l'identifiant du paramètre formel comme paramètre effectif d'un appel. \n",
    "       \n",
    "</div>"
   ]
  },
  {
   "cell_type": "markdown",
   "metadata": {
    "slideshow": {
     "slide_type": "subslide"
    }
   },
   "source": [
    "1. Ainsi en pratique, vous limitez le corps d'une fonction au traitement de ses paramètres formels et de variables locales.\n",
    "2. ($\\star$) On comprend maintenant la justification de cet interdit déjà posé. "
   ]
  },
  {
   "cell_type": "markdown",
   "metadata": {
    "slideshow": {
     "slide_type": "subslide"
    }
   },
   "source": [
    "<div class=\"alert alert-block alert-info\">\n",
    "\n",
    "CONVENTION PYTHON : les identifiants de constantes s'écrivent en MAJUSCULES   \n",
    "    \n",
    "`ANNEE_EN_COURS = 2020`\n",
    "\n",
    "</div>"
   ]
  },
  {
   "cell_type": "markdown",
   "metadata": {
    "slideshow": {
     "slide_type": "fragment"
    }
   },
   "source": [
    "**Exemple.**\n",
    "\n",
    "- Reprendre le pythontutor précédent et observer comment `res1` ou `res2` naissent, vivent et meurent."
   ]
  },
  {
   "cell_type": "markdown",
   "metadata": {
    "slideshow": {
     "slide_type": "fragment"
    }
   },
   "source": [
    "Au delà de certaines spécificités de python qui la rendent assez délicate (un chapitre sera dédié à cet aspect), l'utilisation de variables globale  est à l'origine de la notion _d'effet de bord_ souvent à l'origine de longues phases de debugging. \n",
    "\n",
    "Si on souhaite utiliser une variable extérieure à une fonction, il suffit de la passer commme paramètre de cette fonction."
   ]
  },
  {
   "cell_type": "markdown",
   "metadata": {
    "slideshow": {
     "slide_type": "subslide"
    }
   },
   "source": [
    "**Exercice.**\n",
    "\n",
    "* Reprendre les fonctions `abs0`, `abs2` et `abs2bis` précédentes et identifier leurs variables locales et leur portée, dans la définition, dans les appels, dans les appelants.   "
   ]
  },
  {
   "cell_type": "markdown",
   "metadata": {
    "slideshow": {
     "slide_type": "subslide"
    }
   },
   "source": [
    "### Fonction locale\n",
    "\n",
    "A la manière d'une variable locale, une _fonction locale_ (à une fonction) est :\n",
    "\n",
    "- définie dans le corps d'une fonction,\n",
    "- puis utilisable par cette fonction (englobante)\n",
    "- mais _uniquement par elle_ : elle est inconnue de l'extérieur de la fonction englobante\n",
    "- et ce récursivement."
   ]
  },
  {
   "cell_type": "code",
   "execution_count": 32,
   "metadata": {
    "slideshow": {
     "slide_type": "fragment"
    }
   },
   "outputs": [],
   "source": [
    "def max3(x : int, y : int, z : int) -> int:\n",
    "    '''\n",
    "    autre version (1 return) sans fonction locale\n",
    "    role : calcule et retourne le max de 3 valeurs\n",
    "    '''\n",
    "    if x < y:\n",
    "        if y < z:\n",
    "            res = z\n",
    "        else:\n",
    "            res = y\n",
    "    else:\n",
    "        if x < z:\n",
    "            res = z\n",
    "        else:\n",
    "            res = x\n",
    "    return res"
   ]
  },
  {
   "cell_type": "code",
   "execution_count": 33,
   "metadata": {
    "slideshow": {
     "slide_type": "fragment"
    }
   },
   "outputs": [
    {
     "name": "stdout",
     "output_type": "stream",
     "text": [
      "4 4 4 4 4 4\n"
     ]
    }
   ],
   "source": [
    "# test exhaustif pour 3 valeurs différentes    \n",
    "print(max3(1, 4, 2), max3(1, 2, 4), max3(2, 1, 4), max3(2, 4, 1), max3(4, 1, 2), max3(4, 2, 1))"
   ]
  },
  {
   "cell_type": "code",
   "execution_count": 34,
   "metadata": {
    "code_folding": [],
    "slideshow": {
     "slide_type": "fragment"
    }
   },
   "outputs": [],
   "source": [
    "def max3_f_loc(x : int, y : int, z : int) -> int:\n",
    "    '''\n",
    "    role : calcule et retourne le max de 3 valeurs\n",
    "    avec fonction locale\n",
    "    '''\n",
    "    def max2(u, v : int) -> int:\n",
    "        '''\n",
    "        fontion locale : \n",
    "        calcule et retourne le max de 2 valeurs'''\n",
    "        if u > v:\n",
    "            res = u\n",
    "        else: \n",
    "            res = v\n",
    "        return res\n",
    "    \n",
    "    if x < y:\n",
    "        res = max2(y, z)\n",
    "    else:\n",
    "        res = max2(x, z)    \n",
    "    return res"
   ]
  },
  {
   "cell_type": "code",
   "execution_count": 35,
   "metadata": {
    "code_folding": [],
    "slideshow": {
     "slide_type": "fragment"
    }
   },
   "outputs": [
    {
     "name": "stdout",
     "output_type": "stream",
     "text": [
      "True\n"
     ]
    }
   ],
   "source": [
    "m1 = max3(1, 4, 2)\n",
    "m2 = max3_f_loc(1, 4, 2)\n",
    "\n",
    "print(m1 == m2)"
   ]
  },
  {
   "cell_type": "markdown",
   "metadata": {
    "slideshow": {
     "slide_type": "subslide"
    }
   },
   "source": [
    "**Exercice.**\n",
    "\n",
    "- Compléter le test unitaire de `max3`.\n",
    "- ($\\star$) Ecrire une version de `max3` sans variable locale, ni fonction locale.    \n",
    "- ($\\star$) Ecrire une version de `max3` avec une fonction locale et réduite à _une seule ligne d'instruction_ (pour le traitement de `max3`). "
   ]
  },
  {
   "cell_type": "markdown",
   "metadata": {
    "slideshow": {
     "slide_type": "notes"
    }
   },
   "source": [
    "**Solutions.**"
   ]
  },
  {
   "cell_type": "code",
   "execution_count": 36,
   "metadata": {
    "slideshow": {
     "slide_type": "notes"
    }
   },
   "outputs": [],
   "source": [
    "def max3_v2(x : int, y : int, z : int) -> int:\n",
    "    '''\n",
    "    role : calcule et retourne le max de 3 valeurs\n",
    "    version 4 return : sans variable, ni fonction locale \n",
    "    '''\n",
    "    if x < y:\n",
    "        if y < z:\n",
    "            return z\n",
    "        else:\n",
    "            return y\n",
    "    if x < z:\n",
    "        return z\n",
    "    else:\n",
    "        return x"
   ]
  },
  {
   "cell_type": "code",
   "execution_count": 37,
   "metadata": {},
   "outputs": [],
   "source": [
    "# exemple de tests unitaires à partir d'une version de référence\n",
    "from random import randint\n",
    "for i in range(10):\n",
    "    x = uniform(-50, 50)\n",
    "    y = uniform(-50, 50)\n",
    "    z = uniform(-50, 50)\n",
    "    assert max3(x, y, z) == max3_v2(x, y, z)"
   ]
  },
  {
   "cell_type": "code",
   "execution_count": 38,
   "metadata": {
    "code_folding": [],
    "slideshow": {
     "slide_type": "notes"
    },
    "tags": []
   },
   "outputs": [],
   "source": [
    "def max3_fonctionnelle(x : int, y : int, z : int) -> int:\n",
    "    '''\n",
    "    role : calcule et retourne le max de 3 valeurs\n",
    "    '''\n",
    "    def max2(u, v : int) -> int:\n",
    "        '''\n",
    "        fonction locale : \n",
    "        calcule et retourne le max de 2 valeurs'''\n",
    "        if u > v:\n",
    "            res = u\n",
    "        else: \n",
    "            res = v\n",
    "        return res\n",
    "    \n",
    "    return max2(x, max2(y, z))"
   ]
  },
  {
   "cell_type": "code",
   "execution_count": 39,
   "metadata": {
    "code_folding": [],
    "slideshow": {
     "slide_type": "notes"
    },
    "tags": []
   },
   "outputs": [
    {
     "name": "stdout",
     "output_type": "stream",
     "text": [
      "4\n"
     ]
    }
   ],
   "source": [
    "m = max3_fonctionnelle(1, 4, 2)\n",
    "print(m)"
   ]
  },
  {
   "cell_type": "markdown",
   "metadata": {
    "slideshow": {
     "slide_type": "slide"
    },
    "tags": []
   },
   "source": [
    "### Pas d'effet de bord ! Pas de `global` !\n",
    "\n",
    "Une fonction réalise un _effet de bord_ si son traitement modifie (au moins) une variable de l'appelant qui n'est pas la variable d'affectation de son retour, ni un paramètre effectif de l'appel (comme nous le verrons dans un prochain chapitre)."
   ]
  },
  {
   "cell_type": "markdown",
   "metadata": {
    "slideshow": {
     "slide_type": "fragment"
    },
    "tags": []
   },
   "source": [
    "En pratique (en python), l'éventuel effet de bord peut concerner n'importe qu'elle variable de l'appelant qui existe avant l'appel de la fonction, ie. hors du cadre de la fonction, dès lors que cette variable est caractérisée comme  (pour variable globale). \n",
    "\n",
    ":::{important}\n",
    "Pas d'effet de bord implique donc en python  pas d'utilisation du mot-clé `global`.  \n",
    ":::"
   ]
  },
  {
   "cell_type": "markdown",
   "metadata": {
    "slideshow": {
     "slide_type": "subslide"
    },
    "tags": []
   },
   "source": [
    "**Exemple.**\n",
    "\n",
    "Dans l'exemple suivant, le second appel modifie aussi la valeur de `a`. Ce qui est impossible à deviner sans connaître le corps de la fonction. On ne peut donc plus l'utiliser comme une \"boîte noire\"."
   ]
  },
  {
   "cell_type": "code",
   "execution_count": 40,
   "metadata": {
    "slideshow": {
     "slide_type": "subslide"
    },
    "tags": []
   },
   "outputs": [
    {
     "name": "stdout",
     "output_type": "stream",
     "text": [
      "2 0\n",
      "12 2\n"
     ]
    }
   ],
   "source": [
    "a = 0\n",
    "b = 0\n",
    "un = 1\n",
    "\n",
    "def incremente(u : int) -> int:\n",
    "    return u + 1\n",
    "\n",
    "def incremente_avec_effet_de_bord(u : int) -> int:\n",
    "    global a  \n",
    "    a = a + 10 # mais pourquoi faire ça ici ...\n",
    "    return u + 1\n",
    "\n",
    "a = incremente(un) # seul `a` est modifié par la fonction\n",
    "print(a, b)\n",
    "\n",
    "b = incremente_avec_effet_de_bord(un) # `a` et `b` sont modifiés \n",
    "print(a, b)"
   ]
  },
  {
   "cell_type": "markdown",
   "metadata": {},
   "source": [
    "### $\\star$ Sur les annotations de fonctions \n",
    "\n",
    "Le type des paramètres de fonctions sont des _annotations_ en python. Ces annotations sont optionnelles. Ainsi, un appel qui ne respecte pas _le type_ des paramètres ne provoquera pas d'erreur sigificative de cette incompatibilité. python appliquera le traitement de la fonction qui pourra, selon l'incompatibilité, provoquer ou non une erreur à l'exécution.\n",
    "\n",
    "**Exemple.**"
   ]
  },
  {
   "cell_type": "code",
   "execution_count": 41,
   "metadata": {
    "slideshow": {
     "slide_type": "fragment"
    }
   },
   "outputs": [
    {
     "name": "stdout",
     "output_type": "stream",
     "text": [
      "11.0 bonjourbonjour\n"
     ]
    }
   ],
   "source": [
    "v = doubler(5.5)\n",
    "s = doubler(\"bonjour\")\n",
    "print(v, s)"
   ]
  },
  {
   "cell_type": "markdown",
   "metadata": {
    "slideshow": {
     "slide_type": "fragment"
    }
   },
   "source": [
    "### $\\star$ Statique _vs._ dynamique, trace d'exécution\n",
    "\n",
    "Selon les langages de programmation, la signature peut-être séparée, voire compilée, indépendamment du corps de la fonction. \n",
    "Ainsi connue du compilateur, cette signature peut lui servir pour _vérifier automatiquement la correction_ de l'implémentation de la fonction et aussi des appels à cette fonction : nombre de paramètres effectifs, type de ces paramètres, type du résultat retourné, ... \n",
    "Ces vérifications sont possibles lors de la _compilation_ , cad. _avant toute exécution_ du programme. Ce type de vérification diminue le risque d'erreur lors de l'exécution. \n",
    "\n",
    "On parle d'analyse _statique_ (ou de vérification statique) pour ces _traitements effectués lors de la compilation_. \n",
    "\n",
    "De façon complémentaire, on parle d'analyse _dynamique_ (ou de vérification dynamique) pour les traitements effectués lors de _l'exécution_ du programme."
   ]
  },
  {
   "cell_type": "markdown",
   "metadata": {
    "slideshow": {
     "slide_type": "fragment"
    }
   },
   "source": [
    "<div class=\"alert alert-info\">\n",
    "    \n",
    "Par extention, le _statique_ caractérise ce qui relève du code source tandis que le _dynamique_ traduit ce qui est propre à l'exécution de ce code.\n",
    "\n",
    "</div>"
   ]
  },
  {
   "cell_type": "markdown",
   "metadata": {
    "slideshow": {
     "slide_type": "fragment"
    }
   },
   "source": [
    "A code source constant, les instructions exécutées dépendent des paramètres de l'exécution. \n",
    "On appelle _trace d'exécution_ l'ensemble des valeurs et des états produits par _une_ exécution. \n",
    "Ainsi, le même code _statique_ engendrera des _traces d'exécutions_ différentes.\n",
    "On a déjà remarqué que la séquentialité des instructions écrites dans le code source et une trace de leur exécution sont différentes. \n",
    "La trace est une notion _dynamique_. "
   ]
  },
  {
   "cell_type": "markdown",
   "metadata": {
    "slideshow": {
     "slide_type": "fragment"
    }
   },
   "source": [
    "**Remarque.** Oui : un compilateur est un programme qui s'exécute ! Il \"prend en entrée\" un code (dit) source et produit en sortie un code (dit) exécutable. Ce traitement comporte plusieurs étapes dont celle de vérification mentionnée qui s'effectue lors de l'étape (dite) d'analyse syntaxique -- ne pas confondre les termes \"syntaxique\" et \"statique\"."
   ]
  },
  {
   "cell_type": "markdown",
   "metadata": {
    "slideshow": {
     "slide_type": "subslide"
    }
   },
   "source": [
    "### A venir\n",
    "\n",
    "Un point important a été passé sous silence dans ce chapitre : \n",
    "- comment s'effectue le passage de paramètres lors de l'appel ?  \n",
    "\n",
    "Autrement dit : \n",
    "- comment les paramètres formels de la définition d'une fonction \"deviennent\" des paramètres effectifs, cad. des valeurs effectivement traités (ou des objets effectivement manipulés) par les instructions du corps de la fonction ? \n",
    "\n",
    "Cette importante question sera traitée dans un chapitre dédié."
   ]
  },
  {
   "cell_type": "markdown",
   "metadata": {
    "slideshow": {
     "slide_type": "slide"
    }
   },
   "source": [
    "## Exercices en démonstration"
   ]
  },
  {
   "cell_type": "markdown",
   "metadata": {
    "slideshow": {
     "slide_type": "subslide"
    }
   },
   "source": [
    "### Différentes écritures de fonctions min\n",
    "\n",
    "- Ecrire la fonction min(a,b) en suivant la méthodologie demandée\n",
    "- Proposer plusieurs écritures du corps : avec un seul return, avec deux, ...\n",
    "- S'en servir pour écrire la fonction min(x, y, z) : signature, appels, puis corps\n",
    "- Proposer plusieurs écritures du corps"
   ]
  },
  {
   "cell_type": "code",
   "execution_count": 42,
   "metadata": {
    "slideshow": {
     "slide_type": "subslide"
    }
   },
   "outputs": [],
   "source": [
    "def min(a : int, b : int) -> int:\n",
    "    '''retourne min(a,b)\n",
    "    -> version un seul return\n",
    "    '''\n",
    "    if a < b:\n",
    "        m = a\n",
    "    else:\n",
    "        m = b\n",
    "    return m"
   ]
  },
  {
   "cell_type": "code",
   "execution_count": 43,
   "metadata": {
    "slideshow": {
     "slide_type": "fragment"
    }
   },
   "outputs": [],
   "source": [
    "def min2(a : int, b : int) -> int:\n",
    "    '''retourne min(a,b)\n",
    "    -> version deux return\n",
    "    '''\n",
    "    if a < b:\n",
    "        return a\n",
    "    else:\n",
    "        return b"
   ]
  },
  {
   "cell_type": "code",
   "execution_count": 44,
   "metadata": {
    "slideshow": {
     "slide_type": "fragment"
    }
   },
   "outputs": [],
   "source": [
    "def min3a(a : int, b : int, c : int) -> int:\n",
    "    '''retourne min(a,b,c)\n",
    "    -> version 1 return, 2 appels à min(a,b)\n",
    "    '''\n",
    "    if min(a, b) < c:\n",
    "        m = min(a, b)\n",
    "    else:\n",
    "        m = c\n",
    "    return m"
   ]
  },
  {
   "cell_type": "code",
   "execution_count": 45,
   "metadata": {
    "slideshow": {
     "slide_type": "fragment"
    }
   },
   "outputs": [],
   "source": [
    "def min3b(a : int, b : int, c : int) -> int :\n",
    "    '''retourne min(a,b,c)\n",
    "    -> version 1 return, 1 appel à min(a,b)\n",
    "    '''\n",
    "    m_ab = min(a, b)\n",
    "    if m_ab < c:\n",
    "        m = m_ab\n",
    "    else:\n",
    "        m = c\n",
    "    return m"
   ]
  },
  {
   "cell_type": "code",
   "execution_count": 46,
   "metadata": {
    "slideshow": {
     "slide_type": "fragment"
    }
   },
   "outputs": [],
   "source": [
    "def min3(a : int, b : int, c : int) -> int:\n",
    "    '''retourne min(a,b,c)\n",
    "    -> version fonctionnelle : 2 appels imbriqués \n",
    "    '''\n",
    "    return min(min(a, b), c)"
   ]
  },
  {
   "cell_type": "code",
   "execution_count": 47,
   "metadata": {
    "slideshow": {
     "slide_type": "subslide"
    }
   },
   "outputs": [
    {
     "name": "stdout",
     "output_type": "stream",
     "text": [
      "23\n",
      "23\n",
      "23\n"
     ]
    }
   ],
   "source": [
    "# des appels\n",
    "x = 23\n",
    "y = 44\n",
    "z = 27\n",
    "m_xyz = min3a(x, y, z)\n",
    "print(m_xyz)\n",
    "m_xyz = min3b(x, y, z)\n",
    "print(m_xyz)\n",
    "m_xyz = min3(x, y, z)\n",
    "print(m_xyz)"
   ]
  },
  {
   "cell_type": "markdown",
   "metadata": {
    "slideshow": {
     "slide_type": "slide"
    }
   },
   "source": [
    "### Une procédure d'affichage (E/S) \n",
    "\n",
    "Ecrire une fonction qui réalise efficacement l'affichage suivant :\n",
    "\n",
    "```\n",
    "Carcassonne est la préfecture du département 11\n",
    "------------------------------------------------\n",
    "Perpignan est la préfecture du département 66\n",
    "------------------------------------------------\n",
    "Montpellier est la préfecture du département 34\n",
    "------------------------------------------------\n",
    "Foix est la préfecture du département 09\n",
    "------------------------------------------------  \n",
    "```"
   ]
  },
  {
   "cell_type": "code",
   "execution_count": 48,
   "metadata": {
    "slideshow": {
     "slide_type": "fragment"
    }
   },
   "outputs": [
    {
     "name": "stdout",
     "output_type": "stream",
     "text": [
      "Carcassonne est la préfecture du département 11\n",
      "------------------------------------------------\n",
      "Perpignan est la préfecture du département 66\n",
      "------------------------------------------------\n",
      "Montpellier est la préfecture du département 34\n",
      "------------------------------------------------\n",
      "Foix est la préfecture du département 09\n",
      "------------------------------------------------\n"
     ]
    }
   ],
   "source": [
    "# Bourrin et pas satisfaisant\n",
    "print(\"Carcassonne est la préfecture du département 11\")\n",
    "print(\"------------------------------------------------\")\n",
    "print(\"Perpignan est la préfecture du département 66\")\n",
    "print(\"------------------------------------------------\")\n",
    "print(\"Montpellier est la préfecture du département 34\")\n",
    "print(\"------------------------------------------------\")\n",
    "print(\"Foix est la préfecture du département 09\")\n",
    "print(\"------------------------------------------------\")\n",
    "\n",
    "# On pourrait bien sûr mettre tout dans un seul print (avec des `\\n`)\n",
    "# ce qui n'est pas satisfaisant non plus ...\n"
   ]
  },
  {
   "cell_type": "code",
   "execution_count": 49,
   "metadata": {
    "slideshow": {
     "slide_type": "subslide"
    }
   },
   "outputs": [
    {
     "name": "stdout",
     "output_type": "stream",
     "text": [
      "Carca est la préfecture du département 11\n",
      "------------------------------------------------\n",
      "Perpi est la préfecture du département 66\n",
      "------------------------------------------------\n",
      "Montpel est la préfecture du département 34\n",
      "------------------------------------------------\n",
      "Foix est la préfecture du département 09\n",
      "------------------------------------------------\n"
     ]
    }
   ],
   "source": [
    "# Synthétique mais un peu pythonesque : une boucle sur des \"couples\" (tuple) \n",
    "for v,d in (\"Carca\", \"11\"), (\"Perpi\",\"66\"), (\"Montpel\", \"34\"), (\"Foix\", \"09\"):\n",
    "    print(v, \"est la préfecture du département\", d)\n",
    "    print(\"------------------------------------------------\")"
   ]
  },
  {
   "cell_type": "markdown",
   "metadata": {
    "slideshow": {
     "slide_type": "fragment"
    }
   },
   "source": [
    "- Le couple entre parenthèses `(\"Carca\", \"11\")` est un **tuple** python, notion sur laquelle nous reviendrons très vite  \n",
    "- En attendant, considérer ce tuple comme une constante composée de 2 valeurs de type string"
   ]
  },
  {
   "cell_type": "code",
   "execution_count": 50,
   "metadata": {
    "scrolled": true,
    "slideshow": {
     "slide_type": "subslide"
    }
   },
   "outputs": [
    {
     "name": "stdout",
     "output_type": "stream",
     "text": [
      "Carca est la préfecture du département 11\n",
      "------------------------------------------------\n",
      "Perpi est la préfecture du département 66\n",
      "------------------------------------------------\n",
      "Montpell est la préfecture du département 34\n",
      "------------------------------------------------\n",
      "Foix est la préfecture du département 09\n",
      "------------------------------------------------\n",
      "\n",
      "Carca est la préfecture du département 11\n",
      "------------------------------------------------\n",
      "Perpi est la préfecture du département 66\n",
      "------------------------------------------------\n",
      "Montpell est la préfecture du département 34\n",
      "------------------------------------------------\n",
      "Foix est la préfecture du département 09\n",
      "------------------------------------------------\n"
     ]
    }
   ],
   "source": [
    "# définition d'une fonction qui affiche ce qu'on veut comme on veut\n",
    "def afficher_pref_dpt(ville : str, num_dpt : str):\n",
    "    print(ville, \"est la préfecture du département\", num_dpt)\n",
    "    print(\"------------------------------------------------\")\n",
    "\n",
    "\n",
    " # 4 appels de cette fonction\n",
    "afficher_pref_dpt(\"Carca\", \"11\")\n",
    "afficher_pref_dpt(\"Perpi\", \"66\")\n",
    "afficher_pref_dpt(\"Montpell\", \"34\")\n",
    "afficher_pref_dpt(\"Foix\", \"09\")\n",
    "\n",
    "print()\n",
    "\n",
    "# 4 appels synthétiques de façon pythonesque  \n",
    "for (v,d) in (\"Carca\", \"11\"), (\"Perpi\",\"66\"), (\"Montpell\", \"34\"), (\"Foix\", \"09\"):\n",
    "    afficher_pref_dpt(v,d)\n",
    "\n"
   ]
  },
  {
   "cell_type": "markdown",
   "metadata": {
    "slideshow": {
     "slide_type": "fragment"
    }
   },
   "source": [
    "**Rmq.** \n",
    "\n",
    "- Pourquoi `afficher_pref_dept()` n'est pas une fonction excepté pour python ?\n"
   ]
  }
 ],
 "metadata": {
  "celltoolbar": "Diaporama",
  "kernelspec": {
   "display_name": "Python 3 (ipykernel)",
   "language": "python",
   "name": "python3"
  },
  "language_info": {
   "codemirror_mode": {
    "name": "ipython",
    "version": 3
   },
   "file_extension": ".py",
   "mimetype": "text/x-python",
   "name": "python",
   "nbconvert_exporter": "python",
   "pygments_lexer": "ipython3",
   "version": "3.11.7"
  },
  "latex_envs": {
   "LaTeX_envs_menu_present": true,
   "autoclose": false,
   "autocomplete": true,
   "bibliofile": "biblio.bib",
   "cite_by": "apalike",
   "current_citInitial": 1,
   "eqLabelWithNumbers": true,
   "eqNumInitial": 1,
   "hotkeys": {
    "equation": "Ctrl-E",
    "itemize": "Ctrl-I"
   },
   "labels_anchors": false,
   "latex_user_defs": false,
   "report_style_numbering": true,
   "user_envs_cfg": false
  },
  "toc": {
   "base_numbering": 1,
   "nav_menu": {
    "height": "341px",
    "width": "341px"
   },
   "number_sections": true,
   "sideBar": false,
   "skip_h1_title": true,
   "title_cell": "Table des matières",
   "title_sidebar": "Plan",
   "toc_cell": true,
   "toc_position": {
    "height": "100px",
    "left": "2653px",
    "right": "20px",
    "top": "26px",
    "width": "165px"
   },
   "toc_section_display": true,
   "toc_window_display": false
  }
 },
 "nbformat": 4,
 "nbformat_minor": 4
}
