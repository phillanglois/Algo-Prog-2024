{
 "cells": [
  {
   "cell_type": "markdown",
   "id": "05680cef-6c79-40ee-a55f-9dd4d005cbc0",
   "metadata": {},
   "source": [
    "(td:td1)=\n",
    "# Feuille 1 : fonctions\n",
    "\n",
    "- Le symbole $\\blacksquare$ indique les exercices ou questions obligatoires. Commencez pas ceux-là.\n",
    "- Les symboles $\\star$ et $\\star\\star$ indiquent les exercices ou questions de difficulté relative plus importante.\n",
    "\n",
    "**Focus**\n",
    "\n",
    "Fonctions\n",
    "\n",
    "**Compétences**\n",
    "\n",
    "- utiliser une fonction prédéfinie ou existante\n",
    "- définir et écrire la spécification d'une fonction qui réalise un traitement décrit en français, ou qui résout un problème (simple) décrit en français  \n",
    "- définir et écrire des appels simples (tests unitaires) \n",
    "- définir et écrire l'implémentation d'une fonction associée à une spécification "
   ]
  },
  {
   "cell_type": "markdown",
   "id": "242896f2-07d8-4dbd-b2d6-0e041afab40a",
   "metadata": {},
   "source": [
    "**Rappel de quelques consignes**\n",
    "\n",
    "Dans _cet ordre_ et avec les corrections entre 2 étapes si besoin :\n",
    "\n",
    "1. écriture de la signature de la fonction _docstring_ compris\n",
    "3. écriture d'au moins un appel simple ou un test unitaire\n",
    "4. écriture du corps\n",
    "5. exécution des tests unitaires\n",
    "6. écriture des appels voulus  \n",
    "7. exécution des appels voulus\n",
    "\n",
    "\n",
    "_Se souvenir_ :\n",
    "\n",
    "- Séparer les entrées-sorties des traitements !    \n",
    "- Réduire au minimum l'utilisation des `input()` (les entrées au clavier) et des `print()` (les sorties à l'écran).  \n",
    "- Utiliser des identifiants différents pour les paramètres formels et effectifs, respectivement dans la définition et les appels."
   ]
  },
  {
   "cell_type": "markdown",
   "id": "b4113111-5421-4586-a980-deb8533842d3",
   "metadata": {},
   "source": [
    "## Objectif 10"
   ]
  },
  {
   "cell_type": "markdown",
   "id": "1d12acd1-690e-43a0-8c5f-510c11ec286e",
   "metadata": {},
   "source": [
    "(exo:suites)= \n",
    "### $\\blacksquare$ Exercice \n",
    "\n",
    "On rappelle quelques suites et séries numériques classiques.\n",
    "\n",
    "-   La somme des $n$ premiers entiers\n",
    "    $s_1(n) = 1 + 2 + \\cdots + (n-1) + n = \\sum_{k=1}^{n} k$ ;\n",
    "\n",
    "-   La suite arithmético-géométrique $u_{n+1} = u_n/3 + 2$ avec $u_0=1$.\n",
    "\n",
    "-   La suite de Fibonacci $u_{n+1} = u_{n}+ u_{n-1}$ et $u_0=u_1=1$.\n",
    "\n",
    "1.  Pour chacune de ces suites, écrire l'algorithme qui demande\n",
    "    et lit une valeur de $n$ entrée au clavier, calcule le $n$-ième\n",
    "    terme de la suite puis l'affiche à l'écran.\n",
    "2.  Écrire des fonctions (en-tête, appel, corps) qui calculent et\n",
    "    retournent le $n$-ième terme des suites précédentes. L'appel\n",
    "    incluera les phases d'entrées et de sorties de l'algorithme\n",
    "    principal précédent."
   ]
  },
  {
   "cell_type": "markdown",
   "id": "cf74599c-a644-4207-a465-6c296baa8f3e",
   "metadata": {},
   "source": [
    "### Exercice\n",
    "\n",
    "1. $\\blacksquare$ Définir et écrire une fonction `est_rectangle()` qui vérifie si un triangle est rectangle. Aucune hypothèse est effectuée sur les paramètres de ce traitement.\n",
    "2. Ecrire un ensemble de tests unitaires adaptés. Justifier vos choix."
   ]
  },
  {
   "cell_type": "markdown",
   "id": "929dd824-442e-46ed-ac02-df8afeee665d",
   "metadata": {
    "jp-MarkdownHeadingCollapsed": true
   },
   "source": [
    "(exo:fact)=\n",
    "### Exercice. (factorielle)\n",
    "\n",
    "La valeur de factorielle (de) $n$, où $n$ est un entier positif, est :\n",
    "$n ! = 1 \\times 2 \\times \\cdots \\ \\times (n-1) \\times n$. On choisit\n",
    "$0 ! = 1$.\n",
    "\n",
    "2.  $\\blacksquare$ Écrire la fonction `factorielle()` qui calcule et retourne $n!$.\n",
    "3.  La fonction `factorial()` du module `math` effectue le même calcul. Utiliser cette fonction pour définir et coder des tests unitaires de votrefonction `factorielle()`.\n",
    "4.  Utiliser la fonction `factorielle()` pour écrire des fonctions qui\n",
    "    calculent les quantités suivantes.\n",
    "\n",
    "    1.  Le nombre d'arrangements (listes ordonnées) de $k$ valeurs\n",
    "        prises dans un ensemble de $n$ valeurs est :\n",
    "        $\\mathcal{A}_n^k = {n\n",
    "                  !}/{(n-k)!}, (k \\le n)$.\n",
    "    2.  Le nombre de combinaisons (listes non ordonnées) de $k$ valeurs\n",
    "        prises dans un ensemble de $n$ valeurs est :\n",
    "        $\\left(_k^n\\right) =\n",
    "                {\\mathcal{A}_n^k}/{k!}$, $(k \\le n)$."
   ]
  },
  {
   "cell_type": "markdown",
   "id": "544aa357-04f1-446c-855f-8318ce831818",
   "metadata": {
    "tags": []
   },
   "source": [
    "### Exercice (codage ASCII) \n",
    "\n",
    "L'ASCII est un codage de caractères qui\n",
    "définit 128 codes sur 7 bits. Chaque code correspond à un caractère :\n",
    "chiffres, lettres, symboles mathématiques et de ponctuation. En Python,\n",
    "la fonction `ord()` retourne le code ASCII d'un caractère fourni en\n",
    "argument. La fonction `chr()` retourne le caractère associé à un code\n",
    "donné.\n",
    "\n",
    "Ecrire un programme qui affiche la table des 128 codes ASCII."
   ]
  },
  {
   "cell_type": "markdown",
   "id": "a5d0cbee-88bb-43c1-ada6-193337850b0d",
   "metadata": {},
   "source": [
    "### $\\blacksquare$ Exercice \n",
    "\n",
    "Écrire une fonction `moy()` qui calcule et retourne la moyenne de 4 valeurs flottantes. Ces 4 valeurs sont entrées au clavier et stockées dans un tableau."
   ]
  },
  {
   "cell_type": "markdown",
   "id": "2bf8049a-9f3c-4e19-8fc6-61153e1a5678",
   "metadata": {},
   "source": [
    "### $\\blacksquare$ Exercice.\n",
    "\n",
    "Ecrire une fonctions `tabup()` qui vérifie si les `n` valeurs d'un tableau sont rangées par ordre croissant. Ces valeurs sont des entiers."
   ]
  },
  {
   "cell_type": "markdown",
   "id": "5920056b-5986-481e-9f94-02ff4052a65e",
   "metadata": {
    "jp-MarkdownHeadingCollapsed": true,
    "tags": []
   },
   "source": [
    "(exo:tablst)=\n",
    "### $\\blacksquare$ Exercice. (tableaux 1D)\n",
    "\n",
    "Soit `t` un tableau 1D\n",
    "d'entiers de taille `n` arbitraire. Voici quelques traitements\n",
    "classiques de ces tableaux et les fonctions associées.\n",
    "\n",
    "1.  `max_tab()` qui calcule et retourne la valeur maximale d'un tableau 1D.\n",
    "\n",
    "2.  `max_ind_max()` qui calcule et retourne le plus grand indice de la\n",
    "    valeur maximale d'un tableau 1D.\n",
    "\n",
    "3.  `min_ind_max()` : une modification de la fonction précédente qui\n",
    "    calcule et retourne le plus petit indice de la valeur maximale d'un\n",
    "    tableau 1D.\n",
    "\n",
    "Pour chacune de ces fonctions, deux questions.\n",
    "\n",
    "1.   Proposer des solutions itératives alternatives (`for` vs.\n",
    "    `while`) lorsque qu'elles conduisent à des traitements différents.\n",
    "\n",
    "2.  Tests unitaires : expliciter différents tableaux `t` qui\n",
    "    correspondent, le cas échéant, à des cas particuliers de traitement.\n",
    "    Les tester pour valider vos solutions."
   ]
  },
  {
   "cell_type": "markdown",
   "id": "a13eed25-866a-459a-b4b1-54adc80a21a5",
   "metadata": {
    "tags": []
   },
   "source": [
    "### $\\blacksquare$ Exercice (extrait d'examen 2017 sans machine)\n",
    "\n",
    "1.  Que calcule la fonction `m` suivante ?\n",
    "\n",
    "```python\n",
    "    def m(s : str, n : int, c : str ) -> int: \n",
    "        ''' role : à vous de deviner :) '''\n",
    "        res = 0\n",
    "        for i in range(n): \n",
    "            if s[i] == c: \n",
    "                res = res + 1 \n",
    "        return res\n",
    "```"
   ]
  },
  {
   "cell_type": "markdown",
   "id": "bac64c14-9e8a-4472-a6c4-ab7f4401e101",
   "metadata": {
    "jp-MarkdownHeadingCollapsed": true,
    "tags": []
   },
   "source": [
    "2.  Quel résultat produit l'exécution du code suivant ?\n",
    "\n",
    "```python\n",
    "    t = \"anticonstitutionnellement\" \n",
    "    nba = m(t, len(t), 'a') \n",
    "    nbe = m(t, len(t), 'e') \n",
    "    nbl = m(t, len(t), 'l') \n",
    "    print(len(t), nba, nbe, nbl)\n",
    "```"
   ]
  },
  {
   "cell_type": "markdown",
   "id": "4cc4010c-efa4-4217-ba11-77f41232f852",
   "metadata": {
    "jp-MarkdownHeadingCollapsed": true,
    "tags": []
   },
   "source": [
    "(que:mmavecm)=\n",
    "3.  Utiliser la fonction `m` pour écrire une fonction `mm` qui identifie\n",
    "    et retourne la lettre ayant le maximum d'occurrences dans une chaîne\n",
    "    de caractères de longueur `n`. Si plusieurs lettres conviennent,\n",
    "    l'algorithme identifiera celle dont l'occurrence est la plus tardive\n",
    "    dans `s`. Par exemple `'o'` dans `'toto'`."
   ]
  },
  {
   "cell_type": "markdown",
   "id": "008707cc-d8e1-449c-8dcb-3b64776307ec",
   "metadata": {
    "jp-MarkdownHeadingCollapsed": true,
    "tags": []
   },
   "source": [
    "4.  Écrire le code qui utilise `mm` et fournit l'affichage suivant.\n",
    "\n",
    ">    t est la lettre qui apparaît le plus ( 5 fois) dans anticonstitutionnellement   \n",
    ">    o est la lettre qui apparaît le plus ( 2 fois) dans toto"
   ]
  },
  {
   "cell_type": "markdown",
   "id": "7fcaf874-07ea-4807-a4cb-f35f5adcb81e",
   "metadata": {
    "jp-MarkdownHeadingCollapsed": true,
    "tags": []
   },
   "source": [
    "5.  Modifier `mm` pour que dans le cas d'une occurrence maximale\n",
    "    multiple, l'algorithme identifie la lettre de première occurrence.\n",
    "    Par exemple, `'t'` dans `'toto'`."
   ]
  },
  {
   "cell_type": "markdown",
   "id": "78fa8430-a4b1-4715-aaaf-6fddd184e8ca",
   "metadata": {
    "jp-MarkdownHeadingCollapsed": true,
    "tags": []
   },
   "source": [
    "6.  Réécrire la fonction `mm` de la\n",
    "    [question](que:mmavecm)\n",
    "    sans utiliser la fonction `m`."
   ]
  },
  {
   "cell_type": "markdown",
   "id": "caa452b7-ccd2-4925-a7a5-400b223fe915",
   "metadata": {
    "tags": []
   },
   "source": [
    "(exo:palindromeiter)\n",
    "### $\\blacksquare$ Exercice. (palindrome)\n",
    "\n",
    "Un palindrome est un mot, ou un groupe de mots, dont l'ordre des lettres\n",
    "reste le même qu'on le lise de la droite vers la gauche ou inversement.\n",
    "Des exemples bien connus sont \"été\", \"kayak\", \"mon nom\", \"élu par cette\n",
    "crapule\". Ce dernier permet d'illustrer qu'on ne tient pas compte en\n",
    "général des accents, trémas, cédilles, ni des espaces. Dans cet exercice\n",
    ":\n",
    "\n",
    "-   un mot ou un groupe de mots est représenté par une chaîne de\n",
    "    caractères (`str`),\n",
    "\n",
    "-   ces caractères sont sans accent, tréma, ni cédille : \"ete\"\n",
    "\n",
    "-   les espaces sont considérés comme des caractères : ainsi \"elu par\n",
    "    cette crapule\" n'est pas un palindrome ici.\n",
    "\n",
    "1.  Ecrire une fonction qui teste si un argument est ou non un\n",
    "    palindrome et retourne le booléen correspondant."
   ]
  },
  {
   "cell_type": "markdown",
   "id": "52322269-9e66-425c-9b59-a9d150286d38",
   "metadata": {
    "jp-MarkdownHeadingCollapsed": true,
    "tags": []
   },
   "source": [
    "### Exercice. (produit scalaire)\n",
    "\n",
    "Rappel : le produit scalaire deux vecteurs orthogonaux est nul.\n",
    "\n",
    "Ecrire les fonctions qui vérifie l'orthogonalité ou non de vecteurs \n",
    "\n",
    "1. de taille 3 \n",
    "2. de taille arbitraire $n$  \n"
   ]
  },
  {
   "cell_type": "markdown",
   "id": "cd3cb414-acb7-42b8-87bf-0c3e420011db",
   "metadata": {},
   "source": [
    "## Objectif 20\n",
    "\n",
    "**Remarque :** Proposer les fonctions les plus générales possibles.\n",
    "\n",
    "### Exercice. (math)\n",
    "\n",
    "On continue l'exercice [](exo:fact). \n",
    "\n",
    "- Utiliser la fonction `factorielle()` pour écrire des fonctions qui  calculent les quantités suivantes.\n",
    "- En s'inspirant d'un exemple donné au chapitre 1, proposer des\n",
    "représentations graphiques qui illustrent les approximations mentionnées.\n",
    "\n",
    "1. Une approximation de $e \\approx \\sum_{k=0}^n 1/k !$, puis\n",
    "vérifier que l'approximation est d'autant plus précise que $n$\n",
    "est grand.\n",
    "2. La formule de Stirling $n! \\approx \\sqrt{2\\pi n} (n/e)^n$ qui\n",
    "donne un équivalent de la factorielle (et aussi une\n",
    "approximation de $\\pi$), approximation dont on vérifiera la\n",
    "pertinence.\n",
    "3. Même question pour $\\ln(n!) \\approx n\\ln(n)-n$ et des $n$ assez\n",
    "grands.\n"
   ]
  },
  {
   "cell_type": "markdown",
   "id": "be4adf8d-5b19-41ea-b6a3-b458b77f702e",
   "metadata": {
    "jp-MarkdownHeadingCollapsed": true
   },
   "source": [
    "### Exercice (crible d'Eratosthène)\n",
    "\n",
    "1. Consulter la page wikipedia du [crible d'Eratosthène](https://fr.wikipedia.org/wiki/Crible_d%27Ératosthène)\n",
    "2. Écrire une fonction `est_premier()` qui retourne un booléen qui indique si un nombre entier donné $n$ est\n",
    "premier ou non."
   ]
  },
  {
   "cell_type": "markdown",
   "id": "54f606d3-0fef-4713-823b-429becee3fc0",
   "metadata": {},
   "source": [
    "(exo:pgcd)\n",
    "### Exercice. (pgcd)\n",
    "\n",
    "Écrire une fonction `pgcd()` qui\n",
    "calcule le PGCD de deux entiers naturels. On utilisera l'algorithme\n",
    "d'Euclide.\n",
    "\n",
    "Rappel : l'algorithme d'Euclide utilise la propriété suivante. Le PGCD\n",
    "de $a$ et $b$, $a > b$, est égal à $b$ si le reste $r$ de la division\n",
    "euclidienne de $a$ par $b$ est nul, sinon il vaut le PGCD de $b$ et de\n",
    "$r$. Le PGCD de 2 nombres distincts premiers entre eux (*i.e.* sans\n",
    "diviseur commun autre que 1) est égal à 1. Cet exercice permet d'écrire\n",
    "une version itérative de cet algorithme."
   ]
  },
  {
   "cell_type": "markdown",
   "id": "6d360a6d-6288-4a9e-a813-dcc64856ebc6",
   "metadata": {
    "jp-MarkdownHeadingCollapsed": true
   },
   "source": [
    "### ($\\star\\star$) Exercice\n",
    "\n",
    "On souhaite évaluer la valeur d'un polynôme de degré $3$,\n",
    "$p_3(x) = a_0 + a_1 x + a_2 x^2 + a_3 x^3$, en des valeurs $x$ arbitraires.\n",
    "\n",
    "1. Écrire une fonction `eval()` qui calcule et retourne $p_3(x)$.\n",
    "2. Ecrire un algorithme qui utilise cette fonction pour des valeurs\n",
    "    entrées au clavier et affiche le résultat à l'écran.\n",
    "4. ($\\star$) Détailler le principe d'un algorithme qui calcule une racine d'un\n",
    "    polynôme sur un intervalle $[a, b]$ donné. La présence d'une racine\n",
    "    *unique* sur $[a, b]$ sera admise MAIS l'existence d'une racine sera\n",
    "    vérifiée par cet algorithme. Introduire un paramètre adapté au\n",
    "    caractère approximatif de la valeur calculée.\n",
    "5.  Écrire un algorithme principal qui effectue cette recherche pour un\n",
    "    polynôme $p_3$ de degré $3$ et un intervalle $[a, b]$ donnés. Tous\n",
    "    les paramètres sont entrés au clavier.\n",
    "6.  ($\\star\\star$) Appliquer cet algorithme pour retrouver, une à une, les racines de\n",
    "    $p(x)=x(x-1)(x-2)$. Ce polynôme sera considéré sous sa forme développée."
   ]
  },
  {
   "cell_type": "markdown",
   "id": "cb391fc5-37af-40cf-b808-151d8e76ddee",
   "metadata": {
    "tags": []
   },
   "source": [
    "### ($\\star$) Exercice (Algorithme de type Monte-Carlo)\n",
    "\n",
    "On va calculer une approximation de $\\pi$ de façon probabiliste.\n",
    "\n",
    "1.  Ecrire une fonction qui vérifie si un point du plan défini par ses\n",
    "    coordonnées $(x,y)$ appartient à un disque de centre $(a,b)$ et de\n",
    "    rayon $r$.  \n",
    "    Rappel. L'équation du cercle de mêmes caractéristiques est :\n",
    "    $(x-a)^2 + (y-b)^2 = r^2$.\n",
    "\n",
    "2.  Identifier dans la documentation du module python `random` la\n",
    "    fonction adaptée à la génération d'un point aléatoire dans le carré\n",
    "    $[-1, 1] \\times [-1, 1]$.\n",
    "\n",
    "3.  Soit $\\mathcal{C}$ le cercle de centre 0 et de rayon 1. Ecrire une\n",
    "    programme qui génère $n$ points aléatoires situés dans le carré\n",
    "    précédent et calcule le ratio entre les points situés dans le cercle\n",
    "    $\\mathcal{C}$ et $n$.\n",
    "\n",
    "4.  Faire varier $n$ et observer l'évolution de ce ratio.\n",
    "\n",
    "5.  ($\\star$) En déduire une approximation de $\\pi$."
   ]
  },
  {
   "cell_type": "markdown",
   "id": "22dbf534-a9d2-4103-a0c8-d7c72ca9a6cd",
   "metadata": {
    "tags": []
   },
   "source": [
    "### Exercice. (écriture décimale)\n",
    "\n",
    "Ecrire une fonction qui transforme un tableau de 0 et de\n",
    "1 de longueur arbitraire, en l'entier de base 10 qui est codé par ce\n",
    "tableau en représentation de position en base 2 :\n",
    "\n",
    "$$\n",
    "(b_n b_{n-1} \\cdots b_1 b_0)_2 = (\\sum_{i=0}^n b_i \\times\n",
    "  2^i)_{10} \\text{ avec } b_i \\in \\{0, 1\\}.\n",
    "$$"
   ]
  },
  {
   "cell_type": "markdown",
   "id": "9fe9a3e3-7860-4c9e-a55d-c92d91a0ab6d",
   "metadata": {},
   "source": [
    "### $\\blacksquare$ Exercice. (tableau 2D)\n",
    "\n",
    "1.  Écrire un algorithme qui calcule les tables de multiplications entre\n",
    "    entiers compris en 1 et 10, les stocke dans un tableau 2D puis les\n",
    "    affiche. Ainsi la case $(i,j)$ du tableau contient le résultat de\n",
    "    $i \\times j$."
   ]
  },
  {
   "cell_type": "markdown",
   "id": "69b65a6f-fc29-4262-b117-dd457b8b971d",
   "metadata": {
    "tags": []
   },
   "source": [
    "### Exercice. (tableau 2D)\n",
    "\n",
    "Les fonctions suivantes seront définies et utilisées dans\n",
    "un programme (principal) qui définit des tableaux que vous choisirez\n",
    "pour vérifier la validité de vos traitements. Vous choisirez la\n",
    "structure de donnée la plus adaptée à ces traitements.\n",
    "\n",
    "1.  Ecrire une fonction `est_egal()` qui réalise la comparaison entre\n",
    "    deux tableaux de dimension 1 et retourne le booléen correspondant.\n",
    "    On convient que deux tableaux sont égaux si leurs tailles sont\n",
    "    égales et si leurs valeurs sont égales deux à deux.\n",
    "\n",
    "2.  Ecrire une fonction `nb_communs()` qui retourne le nombre de valeurs\n",
    "    communes entre deux tableaux de dimension 1.\n",
    "\n",
    "3.  Reprendre les 2 questions précédentes pour des tableaux 2D.\n",
    "    L'égalité entre tableaux multi-dimensionnels suppose l'égalité des\n",
    "    dimensions, des tailles deux à deux dans chaque dimension, et des\n",
    "    valeurs deux à deux pour toutes les valeurs du tableau."
   ]
  },
  {
   "cell_type": "markdown",
   "id": "b75d14c8-942a-48e7-b1d0-42f610636629",
   "metadata": {},
   "source": [
    "(exo:verif)=\n",
    "### $\\blacksquare$ Exercice. (matrices)\n",
    "\n",
    "Ecrire les algorithmes de vérification suivants pour une matrice $M$\n",
    "donnée, carrée de taille $n$ et à valeurs flottantes.\n",
    "\n",
    "1.  $M$ est diagonale ?\n",
    "\n",
    "2.  $M$ est symétrique ?\n",
    "\n",
    "3.  $M$ est égale à l'identité ?\n",
    "\n",
    "4.  $M$ est l'inverse d'une autre matrice donnée $N$ ?"
   ]
  },
  {
   "cell_type": "markdown",
   "id": "8ad25e7f-254f-4789-a15e-3ef2e097cf9e",
   "metadata": {
    "tags": []
   },
   "source": [
    "(exo:imnb)=\n",
    "### $\\blacksquare$ Exercice (images NB)\n",
    "\n",
    "**Note.** Cet exercice est inspiré d'un extrait de sujet d'examen.\n",
    "Il comporte des questions Objectifs 10 et Objectif 20.\n",
    "\n",
    "Une image 2D peut être représentée par un tableau 2D de _pixels_.  \n",
    "Une image \"noir et blanc\" de taille $L \\times C$ est ainsi représentée\n",
    "par un tableau de $L$ lignes et $C$ colonnes, de 0 (pixel blanc) ou de\n",
    "1 (pixel noir).  \n",
    "Les images suivantes sont des exemples d'images 3 $\\times$ 4. "
   ]
  },
  {
   "cell_type": "markdown",
   "id": "de425b70-9486-4213-b345-7dde0b45ad4f",
   "metadata": {},
   "source": [
    "```{image} fig/3x4-blanc.png\n",
    ":alt: image blanche\n",
    ":height: 20mm\n",
    ":name: 1\n",
    "```\n",
    "```{image} fig/3x4-nb-centre.png\n",
    ":alt: 2 pixels noirs au centre\n",
    ":height: 20mm\n",
    "```\n",
    "```{image} fig/3x4-tri.png\n",
    ":alt: triangle inférieur noir\n",
    ":height: 20mm\n",
    "```"
   ]
  },
  {
   "cell_type": "markdown",
   "id": "1991f4bc-2e6b-4573-9404-754fc9036274",
   "metadata": {},
   "source": [
    "L'image blanche (à gauche) est représentée par le tableau de taille $3 \\times\n",
    "4$ (une liste de listes de 0) donné par le code python suivant."
   ]
  },
  {
   "cell_type": "code",
   "execution_count": 1,
   "id": "a9897d57-d06c-47d3-9593-45fb2ce4203a",
   "metadata": {},
   "outputs": [
    {
     "name": "stdout",
     "output_type": "stream",
     "text": [
      "[[0, 0, 0, 0], [0, 0, 0, 0], [0, 0, 0, 0]]\n",
      "3 4\n"
     ]
    }
   ],
   "source": [
    "l = 3\n",
    "c = 4\n",
    "t = [[0 for i in range(c)] for j in range(l)]\n",
    "\n",
    "print(t)\n",
    "print(len(t), len(t[0]))"
   ]
  },
  {
   "cell_type": "markdown",
   "id": "8a283e72-feb3-45bb-be78-1653b4ac489b",
   "metadata": {},
   "source": [
    "#### Premières transformations d'images 3 $\\times$ 4.\n",
    "  \n",
    "1. Ecrire l'algorithme qui transforme l'image blanche (à gauche) en une image noire 3 $\\times$ 4 sans définir un autre tableau.\n",
    "2. Ecrire l'algorithme qui transforme l'image blanche en l'image du centre.\n",
    "3. Ecrire l'algorithme qui transforme l'image blanche en l'image de droite."
   ]
  },
  {
   "cell_type": "markdown",
   "id": "d1802a01-3c29-4809-86d2-02513b4c8537",
   "metadata": {},
   "source": [
    "#### Fonctions et transformation d'image de taille arbitraire.  \n",
    "\n",
    "On considère la dernière transformation où la partie\n",
    "triangulaire inférieure est noircie. Selon la forme de la matrice, cette\n",
    "partie noircie est un triangle (matrice rectangulaire \"allongée\"\n",
    "horizontalement) ou un trapèze (matrice rectangulaire \"allongée\"\n",
    "verticalement). On va définir cette transformation sous la forme d'une\n",
    "fonction.\n",
    "\n",
    "1. Ecrire l'en-tête de cette fonction `tr()`\n",
    "2. Appliquer cette fonction à l'image blanche de gauche.\n",
    "3. Ecrire le corps de la fonction `tr()`.\n",
    "4. ($\\star$) Définir une image `t2` de taille 4 $\\times$ 8 composée de\n",
    "      lignes alternativement blanche et noire \n",
    "(que:im4)=\n",
    "5.  On applique la fonction `tr()` à cette image. Dessiner \"à la main\" l'image ainsi transformée.\n",
    "6. Ecrire ce traitement à l'aide de la fonction `tr()`\n"
   ]
  },
  {
   "cell_type": "markdown",
   "id": "5285340c-e0ed-448a-83cf-70f124fe61e3",
   "metadata": {},
   "source": [
    "#### Analyse d'une image de taille arbitraire.\n",
    "\n",
    "1.  Ecrire une fonction `nbpixblc()` qui compte et retourne le\n",
    "    nombre de pixels blanc d'une image de taille arbitraire\n",
    "\n",
    "2.  Que retourne l'application de cette fonction à l'image (4) de la\n",
    "    question <a href=\"#que:im4\" data-reference-type=\"ref\"\n",
    "    data-reference=\"que:im4\">[que:im4]</a>."
   ]
  },
  {
   "cell_type": "markdown",
   "id": "fc4742d7-bf5f-49ec-801f-1a07e00c3aa3",
   "metadata": {},
   "source": [
    "### Exercice.\n",
    "\n",
    "De façon similaire à l'[exercice précédent](exo:imnb), on définit des images à\n",
    "niveaux de gris par un tableau 2D d'entiers compris en 0 (noir) et 255\n",
    "(blanc). La taille de l'image $L \\times C$ est arbitraire.  \n",
    "Ecrire les algorithmes des traitements suivants. On pourra commencer en\n",
    "introduisant un tableau supplémentaire pour l'image transformée. Selon\n",
    "les cas, on essaiera ensuite une solution “en place” : la transformation\n",
    "s'effectue sur le tableau de l'image d'origine.\n",
    "\n",
    "1.  Générer le négatif (*reverse video*) d'une image NB ou par niveaux\n",
    "    de gris.\n",
    "\n",
    "2.  Générer une image NB à partir d'une image niveau de gris.\n",
    "\n",
    "3.  Augmenter le contraste de la transformation précédente.  \n",
    "    Principe : fixer un seuil et remplacer les pixels plus clairs que le\n",
    "    seuil par des pixels blancs, et inversement les plus sombres que le\n",
    "    seuil par des pixels noirs.\n",
    "\n",
    "4.  Générer une image miroir vertical (le haut se retrouve en bas et\n",
    "    réciproquement) ou horizontal d'une image NB.\n",
    "\n",
    "5.  Augmenter la luminosité (ou luminance) d'une image à niveau de\n",
    "    gris.  \n",
    "    Principe : ajouter ou retrancher une constante de la valeur des\n",
    "    pixels.\n",
    "\n",
    "6.  Générer les contours significatifs d'une image.  \n",
    "    Principe : on remplace par un pixel noir chaque pixel dont la\n",
    "    variation des valeurs de ses 4 voisins varient au delà d'un certain\n",
    "    seuil, sinon on le remplace par un pixel blanc.\n",
    "\n",
    "7.  Réduire par 2 la taille d'une image à niveau de gris.  \n",
    "    Principe : chaque carré de 2x2 pixels est remplacé par 1 pixel de\n",
    "    valeur la moyenne des pixels du carré."
   ]
  },
  {
   "cell_type": "code",
   "execution_count": null,
   "id": "ca03ddd2-d297-46ae-a74d-da3b5064a3e0",
   "metadata": {},
   "outputs": [],
   "source": []
  }
 ],
 "metadata": {
  "kernelspec": {
   "display_name": "Python 3 (ipykernel)",
   "language": "python",
   "name": "python3"
  },
  "language_info": {
   "codemirror_mode": {
    "name": "ipython",
    "version": 3
   },
   "file_extension": ".py",
   "mimetype": "text/x-python",
   "name": "python",
   "nbconvert_exporter": "python",
   "pygments_lexer": "ipython3",
   "version": "3.11.7"
  }
 },
 "nbformat": 4,
 "nbformat_minor": 5
}
