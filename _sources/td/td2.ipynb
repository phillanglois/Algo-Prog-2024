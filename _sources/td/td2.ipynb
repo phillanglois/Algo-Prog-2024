{
 "cells": [
  {
   "cell_type": "markdown",
   "id": "606f3dae-00c0-48a2-afe9-ecf31b74ef77",
   "metadata": {},
   "source": [
    "(td:td5)= \n",
    "# Feuille 2 : récursivité\n",
    "\n",
    "-   Le symbole $\\blacksquare$ indique les exercices ou questions\n",
    "    obligatoires. Commencez pas ceux-là.\n",
    "-   Les symboles $\\star$ et $\\star\\star$ indiquent les exercices ou\n",
    "    questions de difficulté relative plus importante.\n",
    "\n",
    "**Focus**\n",
    "\n",
    "-   récursivité et notions associées : arbre et pile des appels,\n",
    "    environnements\n",
    "-   recherche dichotomique\n",
    "\n",
    "**Compétences**\n",
    "\n",
    "-   Savoir conduire une approche diviser pour régner et en déduire une\n",
    "    solution récursive : application à des exemples calculatoires\n",
    "    simples – comme ceux vus en cours, *e.g*. factorielles,\n",
    "    exponentiation entière, exponentiation rapide.\n",
    "-   Savoir identifier la (ou les) terminaison, la récursion et\n",
    "    l'initialisation d'un traitement avec un algorithme récursif :\n",
    "    application à des exemples simples – comme ceux vus en cours, *e.g*.\n",
    "    factorielles, exponentiation entière, exponentiation rapide.\n",
    "-   Savoir exprimer la complexité d'un algorithme récursif\n",
    "-   Savoir écrire sous la forme d'une fonction de même signature les\n",
    "    versions itérative et récursive d'un traitement calculatoire simple\n",
    "-   Construire la pile des appels et son évolution lors d'un traitement\n",
    "    récursif"
   ]
  },
  {
   "cell_type": "markdown",
   "id": "151b6034-e3ae-4af6-ac3b-d3cb9ae76675",
   "metadata": {},
   "source": [
    "## Objectif 10"
   ]
  },
  {
   "cell_type": "markdown",
   "id": "6d67cc6e-d1e6-433d-a0cb-273fa39a7afc",
   "metadata": {},
   "source": [
    "(exo:sumrec)= \n",
    "### $\\blacksquare$ Exercice."
   ]
  },
  {
   "cell_type": "markdown",
   "id": "196cfb0b-38bb-426e-af7e-2bd59a673977",
   "metadata": {
    "tags": []
   },
   "source": [
    "1.  Écrire puis coder une version itérative de $u(n)= 2^n$ pour $n>0$\n",
    "2.  Écrire puis coder une version récursive de ce même calcul.\n",
    "3.  Expliciter l'arbre des appels et les calculs associés lors de l'évaluation de $u(5)$. Combien d'appels récursifs à $u$ sont nécessaires ?\n",
    "4.  Compter le nombre d'opérations arithmétiques effectuées dans le calcul itératif de $u(5)$.\n",
    "5.  Faire de même pour le calcul récursif.\n",
    "6.  Conclure."
   ]
  },
  {
   "cell_type": "markdown",
   "id": "ba836c0a-864e-42d2-9d27-3628ac47af9c",
   "metadata": {},
   "source": [
    "(exo:expo)= \n",
    "### $\\blacksquare$ Exercice.\n",
    "\n",
    "De façon plus générale qu'à l'exercice précédent, on calcule la valeur de $x^n$ où $n$ et un entier positif, et\n",
    "$x$ un flottant. On rappelle que $x^0 = 1.0$."
   ]
  },
  {
   "cell_type": "markdown",
   "id": "f63b58bb-6f6b-4517-826d-d8d0544ddf48",
   "metadata": {
    "tags": []
   },
   "source": [
    "1. Rappeler et écrire les algorithmes itératif et récursif (naïf) qui calculent $x^n$.\n",
    "2. Combien de multiplications sont nécessaires à ces calculs pour $n=2, 4, 8, 16, \\dots, 2^p$ ?\n",
    "3. Rappeler le principe de l'exponentiation entière rapide.\n",
    "4. Ecrire les versions itératives et récursives de cet algorithme. On pourra utiliser l'opérateur python `divmod`.\n",
    "2.  Dans chacun des cas, combien de multiplications sont nécessaires à ce calcul pour\n",
    "    $n=2, 4, 8, 16, \\dots, 2^p$ ? Conclure.\n",
    "6.  Compter le nombre d'appels récursifs pour les valeurs suivantes de $n = 4, 7, 8, 9, 63, 64, 65$. Conclure."
   ]
  },
  {
   "cell_type": "markdown",
   "id": "eafdf37b-61f0-4292-8acc-1ade735f09aa",
   "metadata": {},
   "source": [
    "(exo:forrec)= \n",
    "### $\\blacksquare\\blacksquare$ Exercice. **Si il n'y avait qu'un seul exercice à faire, c'est celui-ci !** "
   ]
  },
  {
   "cell_type": "markdown",
   "id": "70d2bdaa-3bec-42e1-a987-c282f59ed9d5",
   "metadata": {
    "tags": []
   },
   "source": [
    "1.  Donner la forme récursive qui produit le même traitement que celui\n",
    "    d'une boucle `for` qui (parcourt et) affiche les indices entiers\n",
    "    successifs de 11 à 1.\n",
    "2.  Même question pour obtenir l'affichage : 1, 2, …, 10, 11."
   ]
  },
  {
   "cell_type": "markdown",
   "id": "b6be70c7-70f3-47c0-8c7f-e6c84b9b38f1",
   "metadata": {},
   "source": [
    "(exo:dicho)= \n",
    "### $\\blacksquare$ Exercice.  (recherche dichotomique)"
   ]
  },
  {
   "cell_type": "markdown",
   "id": "1b0e9f83-57fd-455b-b88b-97cc3b716bfb",
   "metadata": {
    "tags": []
   },
   "source": [
    "1.  Écrire un algorithme itératif qui calcule un booléen indiquant si un\n",
    "    tableau d'entiers **donné trié** par ordre croissant contient une\n",
    "    valeur donnée. La recherche sera effectuée par dichotomie.\n",
    "2.  Écrire une fonction récursive `trouve` (c'est-à-dire son en-tête,\n",
    "    puis l'appel puis le corps) qui retourne le booléen précédent en\n",
    "    appliquant aussi une recherche par dichotomie."
   ]
  },
  {
   "cell_type": "markdown",
   "id": "aa60da63-f991-4833-9e33-362b830e1708",
   "metadata": {},
   "source": [
    "(exo:dicho2)= \n",
    "### $\\blacksquare$ Exercice. (recherche dichotomique)"
   ]
  },
  {
   "cell_type": "markdown",
   "id": "988ebb77-0130-4d41-9c23-df0792ba358e",
   "metadata": {
    "tags": []
   },
   "source": [
    "1.  Dérouler l'algorithme de recherche dichotomique (version itérative)\n",
    "    pour rechercher la valeur 3 dans la tableau \\[0,1,2,3,4,5,6,7,8,9\\].\n",
    "2.  Donner une valeur à rechercher qui minimise le nombre d'itérations\n",
    "    de la recherche.\n",
    "3.  Même question pour celle qui maximise ce nombre.\n",
    "4.  Coder ces traitements et vérifier votre analyse."
   ]
  },
  {
   "cell_type": "markdown",
   "id": "c7cca911-1819-45eb-8dc5-e516b3d113e6",
   "metadata": {},
   "source": [
    "(exo:palindromerec)=\n",
    "### Exercice. (palindrome)\n",
    "\n",
    "Dans #exo:palindromeiter, on a défini et donné un algorithme itératif qui vérifie si un mot est ou non un palindrome.\n",
    "\n",
    "1. Donner une version récursive de cette vérification.\n",
    "2. Vérifier sa correction avec les tests unitaires de la version itérative.\n",
    "\n"
   ]
  },
  {
   "attachments": {},
   "cell_type": "markdown",
   "id": "a0e01ae2-a36d-4252-83c8-137096e9a0e7",
   "metadata": {},
   "source": [
    "(exo:eucliderec)= \n",
    "### ($\\star$) Exercice. (Maths)\n",
    "\n",
    "Dans l'exo:pgcd, on a défini et donné une version itérative du calcul du pgcd de deux entiers par l'algorithme d'Euclide.\n",
    "\n",
    "1. En écrire une version récursive.\n",
    "5. Application. Ecrire une fonction qui prend en entrée 2 entiers $a$ et $b$, calcule et retourne les entiers $c$ et $d$ tels que $\\frac{c}{d}$ soit la forme irréductible de $\\frac{a}{b}$.      "
   ]
  },
  {
   "cell_type": "markdown",
   "id": "371eaca2-00ea-4384-aabd-6166d4ebb337",
   "metadata": {},
   "source": [
    "## Objectif 20"
   ]
  },
  {
   "cell_type": "markdown",
   "id": "4ba4d264-eeb8-4f91-9c94-08eaac4f2a15",
   "metadata": {},
   "source": [
    "(exo:nbchiffres)= \n",
    "### Exercice.\n",
    "\n",
    "Ecrire une fonction récursive `nbChiffresDec(n: int) -> int` qui calcule et retourne le nombre de chiffres de l'écriture décimale de l'entier $n \\ge 0$.\n",
    "\n",
    "Par exemple, `nbChiffresDec(12345) == 5`."
   ]
  },
  {
   "cell_type": "markdown",
   "id": "b7fb57f3-7ab1-444a-adb8-cd156616d6ce",
   "metadata": {},
   "source": [
    "(exo:nbbits)= \n",
    "### Exercice. (Info).\n",
    "\n",
    "Ecrire une fonction récursive `nbBits(n: int) -> int` qui calcule et retourne le nombre de bits valant 1 dans l'écriture binaire de l'entier $n \\ge 0$.\n",
    "L'entier $n$ est donné en décimales.\n",
    "\n",
    "Par exemple, `nbChiffresDec(255) == 8`."
   ]
  },
  {
   "cell_type": "markdown",
   "id": "34fae356-6b4f-44c0-8bb2-2804446750d0",
   "metadata": {},
   "source": [
    "(exo:syracuse)= \n",
    "### ($\\star$) Exercice. (suite de Syracuse)\n",
    "\n",
    "La suite de Syracuse $s$ d'un nombre $N$ donné est définie de façon\n",
    "récursive comme suit.\n",
    "\n",
    "On commence avec $s(0) = N$, puis :\n",
    "\n",
    "-   $s(n+1) = s(n)/2$, si $s(n)$ est pair,  \n",
    "-   $s(n+1) = 3s(n)+1$, si $s(n)$ est impair.\n",
    "\n",
    "Ainsi définie, $s$ est une suite infinie de valeurs entières construites\n",
    "à partir de la valeur de départ $N$."
   ]
  },
  {
   "cell_type": "markdown",
   "id": "536824cf-5075-45ca-937a-453122e7e5b1",
   "metadata": {},
   "source": [
    "1.  A la main pour commencer.\n",
    "    1.  Calculer à la main les valeurs de la suite pour les valeurs de\n",
    "        départ $N = 4, 2, 1$. Qu'en déduire ?\n",
    "    2.  Calculer à la main les valeurs de la suite pour les valeurs de\n",
    "        départ $N = 3, 5, 6, 7, 8, 16, 32$. Il peut être utile de\n",
    "        représenter les valeurs obtenues sous la forme d'un tableau où\n",
    "        chaque colonne (ou ligne) à la forme $N u_1 u_2 \\dots u_n \\dots$\n",
    "        où les $u_i$ sont les valeurs de la suite pour la valeur de\n",
    "        départ $N$. Qu'en déduire et en particulier que penser de la\n",
    "        terminaison de cette suite ?\n",
    "2.  La coder de façon récursive et observer son comportement pour l'une\n",
    "    de ces valeurs de $N$. Attention !!!\n",
    "3.  Terminaison : on arrête la suite $s(n)$ quand on rencontre $n = 1$\n",
    "    (c'est-à-dire $s(2)$). D'après la conjecture de Collatz, cette\n",
    "    valeur est rencontrée quelque soit le terme de départ $N$.\n",
    "    1.  Compléter votre code précédent avec cette condition d'arrêt.\n",
    "    2.  Compléter votre code précédent avec l'affichage de chaque valeur\n",
    "        calculée avant la terminaison.\n",
    "4.  Écrire des fonctions qui calculent les notions suivantes (source\n",
    "    Wikipédia) :\n",
    "    1.  le temps de vol qui est le plus petit indice $n$ tel que\n",
    "        $s(n) = 1$, *i.e.* jusqu'à la terminaison.\n",
    "    2.  le temps de vol en altitude qui est le plus petit indice $n$ tel\n",
    "        que $s(n) \\le N$.\n",
    "    3.  l'altitude maximale qui est la valeur maximale $s(n)$ de la\n",
    "        suite.\n",
    "5.  Coder ces fonctions et proposer des graphiques instructifs.\n",
    "6.  Coder ces fonctions et proposer des graphiques instructifs.\n",
    "7.  Coder le calcul avec terminaison de façon itérative."
   ]
  },
  {
   "cell_type": "markdown",
   "id": "a46171e6-a8a8-47ce-9b8b-df898bede619",
   "metadata": {},
   "source": [
    "(exo:recterm)= \n",
    "### ($\\star$) Exercice. (récursivité terminale)\n",
    "\n",
    "Une fonction récursive est dite _récursive terminale_ lorsque l'appel récursif est la dernière instruction exécutée.\n",
    "\n",
    "1. Donner la liste de telles fonctions récursives terminales qui apparaissent dans les exemples du chapitre. Justifier votre réponse.\n",
    "2. Donner une version récursive terminale du calcul de $n!$. Vous pouvez modifier la signature de la fonction vue en cours.\n",
    "3. Déduire une version récursive terminale du calcul de $n!$ de même signature que la fonction vue en cours.\n"
   ]
  },
  {
   "cell_type": "markdown",
   "id": "79fb2592-a9c4-46b4-893c-1b02a56d7120",
   "metadata": {},
   "source": [
    "(exo:addint)= \n",
    "### ($\\star$) Exercice. (addition de 2 entiers)\n",
    "\n",
    "On souhaite additionner deux entiers de $p$ chiffres décimaux. On\n",
    "dispose pour cela d'une fonction `add(c1,c2)` qui calcule et retourne un\n",
    "couple `(r,s)` où :\n",
    "\n",
    "-   `c1, c2, s` sont des entiers compris entre 0 et 9,\n",
    "\n",
    "-   `r` est égal à 0 ou à 1, et\n",
    "\n",
    "-   `c1 + c2 = 10 r + c`.\n",
    "\n",
    "Ainsi `r` est la retenue de l'addition des chiffres `c1` et `c2` et `s`\n",
    "est la valeur “des unités” de cette somme. Par exemple : `add(2,3)`\n",
    "retourne `(0,5)` et `add(8,5)` retourne `(1,3)`.\n",
    "\n",
    "On représente un entier $n$ à $p$ chiffres décimaux par un tableau $N$\n",
    "de longueur $p$. On peut choisir par exemple\n",
    "$n = \\sum_{i=0}^{p-1} N[i]\\cdot 10^i$. Dit plus simplement dans ce cas,\n",
    "le dernier chiffre de $n$ (celui des unités) est stocké en position 0\n",
    "dans le tableau $N$, l'avant-dernier (celui des dizaines) en position 1,\n",
    "… — et on notera qu'il est ainsi plaisant que les tableaux soient\n",
    "indicés à partir de 0. Il est aussi possible de choisir une écriture\n",
    "plus classique où les chiffres sont stockés dans l'ordre des puissances\n",
    "décroissantes (numération de position habituelle).\n"
   ]
  },
  {
   "cell_type": "markdown",
   "id": "81de9b7b-dc3a-4973-be24-2abb54ffe93d",
   "metadata": {},
   "source": [
    "1.  Utiliser la fonction `add` pour écrire un algorithme qui calcule la\n",
    "    somme de deux entiers $n1$ et $n2$ respectivement représentés par\n",
    "    les tableaux $N1$ et $N2$. Le résultat $s = n1+n2$ sera aussi\n",
    "    représenté par un tableau adapté.\n",
    "2.  Soient $n1 = 1234$, $n2=4567$ et $n3=9876$. Dérouler l'algorithme\n",
    "    pour les deux calculs $n1+n2$ et $n1+n3$.\n",
    "3.  Coder et valider ces fonctions."
   ]
  },
  {
   "cell_type": "code",
   "execution_count": null,
   "id": "037c68f4-b7f2-4f83-a836-a3b219f18230",
   "metadata": {},
   "outputs": [],
   "source": []
  }
 ],
 "metadata": {
  "kernelspec": {
   "display_name": "Python 3 (ipykernel)",
   "language": "python",
   "name": "python3"
  },
  "language_info": {
   "codemirror_mode": {
    "name": "ipython",
    "version": 3
   },
   "file_extension": ".py",
   "mimetype": "text/x-python",
   "name": "python",
   "nbconvert_exporter": "python",
   "pygments_lexer": "ipython3",
   "version": "3.11.7"
  }
 },
 "nbformat": 4,
 "nbformat_minor": 5
}
